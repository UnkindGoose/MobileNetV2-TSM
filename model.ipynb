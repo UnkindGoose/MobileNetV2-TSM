{
 "cells": [
  {
   "cell_type": "code",
   "execution_count": 1,
   "id": "fa0624b2",
   "metadata": {
    "execution": {
     "iopub.execute_input": "2025-05-25T11:45:01.689446Z",
     "iopub.status.busy": "2025-05-25T11:45:01.688087Z",
     "iopub.status.idle": "2025-05-25T11:45:04.203168Z",
     "shell.execute_reply": "2025-05-25T11:45:04.202112Z",
     "shell.execute_reply.started": "2025-05-25T11:45:01.689395Z"
    },
    "tags": []
   },
   "outputs": [
    {
     "name": "stderr",
     "output_type": "stream",
     "text": [
      "2025-05-25 11:45:01.856835: I tensorflow/core/util/port.cc:110] oneDNN custom operations are on. You may see slightly different numerical results due to floating-point round-off errors from different computation orders. To turn them off, set the environment variable `TF_ENABLE_ONEDNN_OPTS=0`.\n",
      "2025-05-25 11:45:01.909220: I tensorflow/core/platform/cpu_feature_guard.cc:182] This TensorFlow binary is optimized to use available CPU instructions in performance-critical operations.\n",
      "To enable the following instructions: AVX2 AVX512F AVX512_VNNI FMA, in other operations, rebuild TensorFlow with the appropriate compiler flags.\n",
      "2025-05-25 11:45:02.825789: W tensorflow/compiler/tf2tensorrt/utils/py_utils.cc:38] TF-TRT Warning: Could not find TensorRT\n"
     ]
    }
   ],
   "source": [
    "import os\n",
    "import pandas as pd\n",
    "import numpy as np\n",
    "import tensorflow as tf\n",
    "import tensorflow.keras as keras\n",
    "from tensorflow.keras import layers"
   ]
  },
  {
   "cell_type": "code",
   "execution_count": 2,
   "id": "ccf746a8-9f76-44c9-a156-531ca4563e81",
   "metadata": {
    "execution": {
     "iopub.execute_input": "2025-05-25T11:45:04.205647Z",
     "iopub.status.busy": "2025-05-25T11:45:04.204594Z",
     "iopub.status.idle": "2025-05-25T11:45:04.239315Z",
     "shell.execute_reply": "2025-05-25T11:45:04.238581Z",
     "shell.execute_reply.started": "2025-05-25T11:45:04.205609Z"
    },
    "tags": []
   },
   "outputs": [
    {
     "name": "stdout",
     "output_type": "stream",
     "text": [
      "Num GPUs Available:  0\n"
     ]
    },
    {
     "name": "stderr",
     "output_type": "stream",
     "text": [
      "2025-05-25 11:45:04.229931: E tensorflow/compiler/xla/stream_executor/cuda/cuda_driver.cc:266] failed call to cuInit: CUDA_ERROR_NO_DEVICE: no CUDA-capable device is detected\n"
     ]
    }
   ],
   "source": [
    "print(\"Num GPUs Available: \", len(tf.config.list_physical_devices('GPU')))"
   ]
  },
  {
   "cell_type": "code",
   "execution_count": 3,
   "id": "ad7d9ddf",
   "metadata": {
    "execution": {
     "iopub.execute_input": "2025-05-25T11:45:04.241410Z",
     "iopub.status.busy": "2025-05-25T11:45:04.240199Z",
     "iopub.status.idle": "2025-05-25T11:45:04.251500Z",
     "shell.execute_reply": "2025-05-25T11:45:04.250796Z",
     "shell.execute_reply.started": "2025-05-25T11:45:04.241371Z"
    },
    "tags": []
   },
   "outputs": [],
   "source": [
    "import tensorflow as tf\n",
    "from tensorflow.keras.layers import Layer, Dense, GlobalAveragePooling2D, Lambda, Softmax, Dropout, Flatten, BatchNormalization"
   ]
  },
  {
   "cell_type": "code",
   "execution_count": 4,
   "id": "aee29d62",
   "metadata": {
    "execution": {
     "iopub.execute_input": "2025-05-25T11:45:04.254576Z",
     "iopub.status.busy": "2025-05-25T11:45:04.253599Z",
     "iopub.status.idle": "2025-05-25T11:45:04.275019Z",
     "shell.execute_reply": "2025-05-25T11:45:04.274040Z",
     "shell.execute_reply.started": "2025-05-25T11:45:04.254531Z"
    },
    "tags": []
   },
   "outputs": [],
   "source": [
    "class TemporalShift(Layer):\n",
    "    def __init__(self, num_segments=8, fold_div=8, **kwargs):\n",
    "        super().__init__(**kwargs)\n",
    "        self.num_segments = num_segments\n",
    "        self.fold_div = fold_div\n",
    "\n",
    "    def call(self, x):\n",
    "\n",
    "        # [B*T, H, W, C]\n",
    "        bt = tf.shape(x)[0]\n",
    "        h, w, c = tf.shape(x)[1], tf.shape(x)[2], tf.shape(x)[3]\n",
    "        batch = bt // self.num_segments\n",
    "        # [B, T, H, W, C]\n",
    "        x = tf.reshape(x, (batch, self.num_segments, h, w, c))\n",
    "\n",
    "        fold = c // self.fold_div\n",
    "        \n",
    "        left = tf.roll(x[:, :, :, :, :fold], shift=-1, axis=1)\n",
    "        right = tf.roll(x[:, :, :, :, fold:2*fold], shift=1, axis=1)\n",
    "        rest = x[:, :, :, :, 2 * fold:]\n",
    "        \n",
    "        x_shift = tf.concat([left, right, rest], axis=-1)\n",
    "        \n",
    "        # [B*T, H, W, C]\n",
    "        return tf.reshape(x_shift, (bt, h, w, c))\n",
    "\n",
    "    def compute_output_shape(self, input_shape):\n",
    "        return input_shape"
   ]
  },
  {
   "cell_type": "code",
   "execution_count": 5,
   "id": "dfd96d50-ace2-4a0e-9c07-6abbe6d0bdce",
   "metadata": {
    "execution": {
     "iopub.execute_input": "2025-05-25T11:45:04.276731Z",
     "iopub.status.busy": "2025-05-25T11:45:04.276171Z",
     "iopub.status.idle": "2025-05-25T11:45:04.298402Z",
     "shell.execute_reply": "2025-05-25T11:45:04.297612Z",
     "shell.execute_reply.started": "2025-05-25T11:45:04.276697Z"
    }
   },
   "outputs": [],
   "source": [
    "inverted_residual_blocks = [2, 4, 5, 7, 8, 9, 11, 12, 14, 15]"
   ]
  },
  {
   "cell_type": "code",
   "execution_count": 6,
   "id": "83e1a67c-6c66-4acf-90ff-26a367292aae",
   "metadata": {
    "execution": {
     "iopub.execute_input": "2025-05-25T11:45:04.300648Z",
     "iopub.status.busy": "2025-05-25T11:45:04.299280Z",
     "iopub.status.idle": "2025-05-25T11:45:04.320864Z",
     "shell.execute_reply": "2025-05-25T11:45:04.320019Z",
     "shell.execute_reply.started": "2025-05-25T11:45:04.300611Z"
    },
    "tags": []
   },
   "outputs": [],
   "source": [
    "def insert_temporal_shift(mobilenet, num_segments=8, fold_div=8):\n",
    "\n",
    "    raw_input = tf.keras.Input(shape=(num_segments, 224, 224, 3), name='input')\n",
    "    flat_input = tf.keras.layers.Lambda(\n",
    "        lambda z: tf.reshape(z, (-1, 224, 224, 3)), name='flatten_bt'\n",
    "    )(raw_input)\n",
    "\n",
    "    layer_outputs = {}\n",
    "    layer_outputs[mobilenet.layers[0].name] = flat_input\n",
    "\n",
    "    for layer in mobilenet.layers[1:]:\n",
    "        inbound_nodes = layer._inbound_nodes\n",
    "        if not inbound_nodes:\n",
    "            continue\n",
    "\n",
    "        inputs = []\n",
    "        for node in inbound_nodes:\n",
    "            input_tensors = node.input_tensors\n",
    "            if not isinstance(input_tensors, (list, tuple)):\n",
    "                input_tensors = [input_tensors]\n",
    "            for pred in input_tensors:\n",
    "                pred_name = pred._keras_history.layer.name\n",
    "                inputs.append(layer_outputs[pred_name])\n",
    "\n",
    "        x = inputs[0] if len(inputs) == 1 else inputs\n",
    "\n",
    "        if isinstance(layer, tf.keras.layers.DepthwiseConv2D) and layer.name.startswith(\"block\"):\n",
    "            if int(layer.name[6:][:-10]) in inverted_residual_blocks:\n",
    "                x = TemporalShift(num_segments=num_segments, fold_div=fold_div)(x)\n",
    "                \n",
    "        out = layer(x)\n",
    "        layer_outputs[layer.name] = out\n",
    "\n",
    "\n",
    "    model = tf.keras.Model(inputs=raw_input, outputs=out, name=\"mobilenetv2_tsm\")\n",
    "    return model"
   ]
  },
  {
   "cell_type": "code",
   "execution_count": 7,
   "id": "449c3423",
   "metadata": {
    "execution": {
     "iopub.execute_input": "2025-05-25T11:45:04.323236Z",
     "iopub.status.busy": "2025-05-25T11:45:04.321912Z",
     "iopub.status.idle": "2025-05-25T11:45:04.352088Z",
     "shell.execute_reply": "2025-05-25T11:45:04.351159Z",
     "shell.execute_reply.started": "2025-05-25T11:45:04.323197Z"
    },
    "tags": []
   },
   "outputs": [],
   "source": [
    "annot = pd.read_csv(\"/home/jupyter/datasphere/project/annotations.tsv\", sep=\"\\t\")"
   ]
  },
  {
   "cell_type": "code",
   "execution_count": 8,
   "id": "4f64f35d",
   "metadata": {
    "execution": {
     "iopub.execute_input": "2025-05-25T11:45:04.354452Z",
     "iopub.status.busy": "2025-05-25T11:45:04.353285Z",
     "iopub.status.idle": "2025-05-25T11:45:04.388570Z",
     "shell.execute_reply": "2025-05-25T11:45:04.387610Z",
     "shell.execute_reply.started": "2025-05-25T11:45:04.354419Z"
    },
    "tags": []
   },
   "outputs": [
    {
     "data": {
      "text/html": [
       "<div>\n",
       "<style scoped>\n",
       "    .dataframe tbody tr th:only-of-type {\n",
       "        vertical-align: middle;\n",
       "    }\n",
       "\n",
       "    .dataframe tbody tr th {\n",
       "        vertical-align: top;\n",
       "    }\n",
       "\n",
       "    .dataframe thead th {\n",
       "        text-align: right;\n",
       "    }\n",
       "</style>\n",
       "<table border=\"1\" class=\"dataframe\">\n",
       "  <thead>\n",
       "    <tr style=\"text-align: right;\">\n",
       "      <th></th>\n",
       "      <th>attachment_id</th>\n",
       "      <th>user_id</th>\n",
       "      <th>text</th>\n",
       "      <th>begin</th>\n",
       "      <th>end</th>\n",
       "      <th>height</th>\n",
       "      <th>width</th>\n",
       "      <th>train</th>\n",
       "      <th>length</th>\n",
       "    </tr>\n",
       "  </thead>\n",
       "  <tbody>\n",
       "    <tr>\n",
       "      <th>0</th>\n",
       "      <td>df5b08f0-41d1-4572-889c-8b893e71069b</td>\n",
       "      <td>185bd3a81d9d618518d10abebf0d17a8</td>\n",
       "      <td>А</td>\n",
       "      <td>36</td>\n",
       "      <td>76</td>\n",
       "      <td>1920</td>\n",
       "      <td>1080</td>\n",
       "      <td>False</td>\n",
       "      <td>150</td>\n",
       "    </tr>\n",
       "    <tr>\n",
       "      <th>1</th>\n",
       "      <td>3d2b6a08-131d-40a9-9533-cf45cefb07fd</td>\n",
       "      <td>9a0784a99ea13a8b06cb103c2c8c7f0f</td>\n",
       "      <td>А</td>\n",
       "      <td>31</td>\n",
       "      <td>63</td>\n",
       "      <td>1920</td>\n",
       "      <td>1080</td>\n",
       "      <td>True</td>\n",
       "      <td>78</td>\n",
       "    </tr>\n",
       "    <tr>\n",
       "      <th>2</th>\n",
       "      <td>1915f996-71ed-44ae-9a34-ee1959919238</td>\n",
       "      <td>ca6b767f0cccf093ba737ae2fc4fec3d</td>\n",
       "      <td>А</td>\n",
       "      <td>25</td>\n",
       "      <td>81</td>\n",
       "      <td>1920</td>\n",
       "      <td>1080</td>\n",
       "      <td>True</td>\n",
       "      <td>98</td>\n",
       "    </tr>\n",
       "    <tr>\n",
       "      <th>3</th>\n",
       "      <td>bfb2d7ae-0f6c-4e20-b087-0965641d34ff</td>\n",
       "      <td>0ab4f8e463cdded2e59d6001f4e1b487</td>\n",
       "      <td>А</td>\n",
       "      <td>18</td>\n",
       "      <td>47</td>\n",
       "      <td>1080</td>\n",
       "      <td>1920</td>\n",
       "      <td>False</td>\n",
       "      <td>82</td>\n",
       "    </tr>\n",
       "    <tr>\n",
       "      <th>4</th>\n",
       "      <td>24936cc5-e5bb-43a3-96b8-2a9b4a6d157f</td>\n",
       "      <td>a95892dae1d320bd8b08cbca6a127cd8</td>\n",
       "      <td>А</td>\n",
       "      <td>6</td>\n",
       "      <td>33</td>\n",
       "      <td>1080</td>\n",
       "      <td>1920</td>\n",
       "      <td>False</td>\n",
       "      <td>40</td>\n",
       "    </tr>\n",
       "    <tr>\n",
       "      <th>...</th>\n",
       "      <td>...</td>\n",
       "      <td>...</td>\n",
       "      <td>...</td>\n",
       "      <td>...</td>\n",
       "      <td>...</td>\n",
       "      <td>...</td>\n",
       "      <td>...</td>\n",
       "      <td>...</td>\n",
       "      <td>...</td>\n",
       "    </tr>\n",
       "    <tr>\n",
       "      <th>3857</th>\n",
       "      <td>c6fd8cec-5984-4101-9616-acf180e89a81</td>\n",
       "      <td>08b8fc47e7a869751c13f64a922e6c15</td>\n",
       "      <td>Ю</td>\n",
       "      <td>44</td>\n",
       "      <td>173</td>\n",
       "      <td>1920</td>\n",
       "      <td>1080</td>\n",
       "      <td>True</td>\n",
       "      <td>236</td>\n",
       "    </tr>\n",
       "    <tr>\n",
       "      <th>3858</th>\n",
       "      <td>1f4cdeed-c5a1-46dc-9eaa-af40cf662d86</td>\n",
       "      <td>f15c4e5b9dfe541cf7e6c05733b579e2</td>\n",
       "      <td>Ю</td>\n",
       "      <td>10</td>\n",
       "      <td>96</td>\n",
       "      <td>1920</td>\n",
       "      <td>1080</td>\n",
       "      <td>True</td>\n",
       "      <td>97</td>\n",
       "    </tr>\n",
       "    <tr>\n",
       "      <th>3859</th>\n",
       "      <td>4208dbab-bea9-4d81-bbfb-7c7a028a4341</td>\n",
       "      <td>7faa41c4cf0a2602a23390de23574993</td>\n",
       "      <td>Я</td>\n",
       "      <td>80</td>\n",
       "      <td>163</td>\n",
       "      <td>1080</td>\n",
       "      <td>1920</td>\n",
       "      <td>True</td>\n",
       "      <td>197</td>\n",
       "    </tr>\n",
       "    <tr>\n",
       "      <th>3860</th>\n",
       "      <td>53f4f947-9f8b-4aba-ac8b-ebc2655d15ff</td>\n",
       "      <td>ff169f3bbab458308b88188be3657125</td>\n",
       "      <td>Я</td>\n",
       "      <td>19</td>\n",
       "      <td>110</td>\n",
       "      <td>1920</td>\n",
       "      <td>1080</td>\n",
       "      <td>True</td>\n",
       "      <td>200</td>\n",
       "    </tr>\n",
       "    <tr>\n",
       "      <th>3861</th>\n",
       "      <td>41e6d879-d8b1-476e-b5f1-0a214395ba2d</td>\n",
       "      <td>d01fdbbbd69ec8c4914397ba4abb899c</td>\n",
       "      <td>Я</td>\n",
       "      <td>1</td>\n",
       "      <td>110</td>\n",
       "      <td>1920</td>\n",
       "      <td>1080</td>\n",
       "      <td>True</td>\n",
       "      <td>111</td>\n",
       "    </tr>\n",
       "  </tbody>\n",
       "</table>\n",
       "<p>3862 rows × 9 columns</p>\n",
       "</div>"
      ],
      "text/plain": [
       "                             attachment_id  ... length\n",
       "0     df5b08f0-41d1-4572-889c-8b893e71069b  ...    150\n",
       "1     3d2b6a08-131d-40a9-9533-cf45cefb07fd  ...     78\n",
       "2     1915f996-71ed-44ae-9a34-ee1959919238  ...     98\n",
       "3     bfb2d7ae-0f6c-4e20-b087-0965641d34ff  ...     82\n",
       "4     24936cc5-e5bb-43a3-96b8-2a9b4a6d157f  ...     40\n",
       "...                                    ...  ...    ...\n",
       "3857  c6fd8cec-5984-4101-9616-acf180e89a81  ...    236\n",
       "3858  1f4cdeed-c5a1-46dc-9eaa-af40cf662d86  ...     97\n",
       "3859  4208dbab-bea9-4d81-bbfb-7c7a028a4341  ...    197\n",
       "3860  53f4f947-9f8b-4aba-ac8b-ebc2655d15ff  ...    200\n",
       "3861  41e6d879-d8b1-476e-b5f1-0a214395ba2d  ...    111\n",
       "\n",
       "[3862 rows x 9 columns]"
      ]
     },
     "execution_count": 8,
     "metadata": {},
     "output_type": "execute_result"
    }
   ],
   "source": [
    "annot"
   ]
  },
  {
   "cell_type": "code",
   "execution_count": 9,
   "id": "c1f059c6",
   "metadata": {
    "execution": {
     "iopub.execute_input": "2025-05-25T11:45:04.390916Z",
     "iopub.status.busy": "2025-05-25T11:45:04.389515Z",
     "iopub.status.idle": "2025-05-25T11:45:04.413433Z",
     "shell.execute_reply": "2025-05-25T11:45:04.412712Z",
     "shell.execute_reply.started": "2025-05-25T11:45:04.390881Z"
    },
    "tags": []
   },
   "outputs": [
    {
     "data": {
      "text/html": [
       "<div>\n",
       "<style scoped>\n",
       "    .dataframe tbody tr th:only-of-type {\n",
       "        vertical-align: middle;\n",
       "    }\n",
       "\n",
       "    .dataframe tbody tr th {\n",
       "        vertical-align: top;\n",
       "    }\n",
       "\n",
       "    .dataframe thead th {\n",
       "        text-align: right;\n",
       "    }\n",
       "</style>\n",
       "<table border=\"1\" class=\"dataframe\">\n",
       "  <thead>\n",
       "    <tr style=\"text-align: right;\">\n",
       "      <th></th>\n",
       "      <th>attachment_id</th>\n",
       "      <th>text</th>\n",
       "      <th>train</th>\n",
       "    </tr>\n",
       "  </thead>\n",
       "  <tbody>\n",
       "    <tr>\n",
       "      <th>0</th>\n",
       "      <td>df5b08f0-41d1-4572-889c-8b893e71069b</td>\n",
       "      <td>А</td>\n",
       "      <td>False</td>\n",
       "    </tr>\n",
       "    <tr>\n",
       "      <th>1</th>\n",
       "      <td>3d2b6a08-131d-40a9-9533-cf45cefb07fd</td>\n",
       "      <td>А</td>\n",
       "      <td>True</td>\n",
       "    </tr>\n",
       "    <tr>\n",
       "      <th>2</th>\n",
       "      <td>1915f996-71ed-44ae-9a34-ee1959919238</td>\n",
       "      <td>А</td>\n",
       "      <td>True</td>\n",
       "    </tr>\n",
       "    <tr>\n",
       "      <th>3</th>\n",
       "      <td>bfb2d7ae-0f6c-4e20-b087-0965641d34ff</td>\n",
       "      <td>А</td>\n",
       "      <td>False</td>\n",
       "    </tr>\n",
       "    <tr>\n",
       "      <th>4</th>\n",
       "      <td>24936cc5-e5bb-43a3-96b8-2a9b4a6d157f</td>\n",
       "      <td>А</td>\n",
       "      <td>False</td>\n",
       "    </tr>\n",
       "    <tr>\n",
       "      <th>...</th>\n",
       "      <td>...</td>\n",
       "      <td>...</td>\n",
       "      <td>...</td>\n",
       "    </tr>\n",
       "    <tr>\n",
       "      <th>3857</th>\n",
       "      <td>c6fd8cec-5984-4101-9616-acf180e89a81</td>\n",
       "      <td>Ю</td>\n",
       "      <td>True</td>\n",
       "    </tr>\n",
       "    <tr>\n",
       "      <th>3858</th>\n",
       "      <td>1f4cdeed-c5a1-46dc-9eaa-af40cf662d86</td>\n",
       "      <td>Ю</td>\n",
       "      <td>True</td>\n",
       "    </tr>\n",
       "    <tr>\n",
       "      <th>3859</th>\n",
       "      <td>4208dbab-bea9-4d81-bbfb-7c7a028a4341</td>\n",
       "      <td>Я</td>\n",
       "      <td>True</td>\n",
       "    </tr>\n",
       "    <tr>\n",
       "      <th>3860</th>\n",
       "      <td>53f4f947-9f8b-4aba-ac8b-ebc2655d15ff</td>\n",
       "      <td>Я</td>\n",
       "      <td>True</td>\n",
       "    </tr>\n",
       "    <tr>\n",
       "      <th>3861</th>\n",
       "      <td>41e6d879-d8b1-476e-b5f1-0a214395ba2d</td>\n",
       "      <td>Я</td>\n",
       "      <td>True</td>\n",
       "    </tr>\n",
       "  </tbody>\n",
       "</table>\n",
       "<p>3862 rows × 3 columns</p>\n",
       "</div>"
      ],
      "text/plain": [
       "                             attachment_id text  train\n",
       "0     df5b08f0-41d1-4572-889c-8b893e71069b    А  False\n",
       "1     3d2b6a08-131d-40a9-9533-cf45cefb07fd    А   True\n",
       "2     1915f996-71ed-44ae-9a34-ee1959919238    А   True\n",
       "3     bfb2d7ae-0f6c-4e20-b087-0965641d34ff    А  False\n",
       "4     24936cc5-e5bb-43a3-96b8-2a9b4a6d157f    А  False\n",
       "...                                    ...  ...    ...\n",
       "3857  c6fd8cec-5984-4101-9616-acf180e89a81    Ю   True\n",
       "3858  1f4cdeed-c5a1-46dc-9eaa-af40cf662d86    Ю   True\n",
       "3859  4208dbab-bea9-4d81-bbfb-7c7a028a4341    Я   True\n",
       "3860  53f4f947-9f8b-4aba-ac8b-ebc2655d15ff    Я   True\n",
       "3861  41e6d879-d8b1-476e-b5f1-0a214395ba2d    Я   True\n",
       "\n",
       "[3862 rows x 3 columns]"
      ]
     },
     "execution_count": 9,
     "metadata": {},
     "output_type": "execute_result"
    }
   ],
   "source": [
    "annot.drop(columns=[\"user_id\", \"begin\", \"end\", \"height\", \"width\", \"length\"], inplace=False)"
   ]
  },
  {
   "cell_type": "code",
   "execution_count": 10,
   "id": "a749d3f7",
   "metadata": {
    "execution": {
     "iopub.execute_input": "2025-05-25T11:45:04.416483Z",
     "iopub.status.busy": "2025-05-25T11:45:04.415710Z",
     "iopub.status.idle": "2025-05-25T11:45:04.427022Z",
     "shell.execute_reply": "2025-05-25T11:45:04.426364Z",
     "shell.execute_reply.started": "2025-05-25T11:45:04.416449Z"
    },
    "tags": []
   },
   "outputs": [],
   "source": [
    "label_map = {\"no_event\":0, \"А\":1, \"Б\":2, \"В\":3, \"Г\":4, \"Д\":5, \"Е\":6, \"Ё\":7, \"Ж\":8, \"З\":9, \"И\":10, \"Й\":11, \"К\":12, \"Л\":13, \"М\":14, \"Н\":15, \"О\":16, \"П\":17, \"Р\":18, \"С\":19, \"Т\":20, \"У\":21, \"Ф\":22, \"Х\":23, \"Ц\":24, \"Ч\":25, \"Ш\":26, \"Щ\":27, \"Ъ\":28, \"Ы\":29, \"Ь\":30, \"Э\":31, \"Ю\":32, \"Я\":33}"
   ]
  },
  {
   "cell_type": "code",
   "execution_count": 11,
   "id": "a02bf043",
   "metadata": {
    "execution": {
     "iopub.execute_input": "2025-05-25T11:45:04.428945Z",
     "iopub.status.busy": "2025-05-25T11:45:04.427786Z",
     "iopub.status.idle": "2025-05-25T11:45:04.445126Z",
     "shell.execute_reply": "2025-05-25T11:45:04.444391Z",
     "shell.execute_reply.started": "2025-05-25T11:45:04.428904Z"
    },
    "tags": []
   },
   "outputs": [],
   "source": [
    "annot[\"text\"] = annot[\"text\"].apply(lambda x: label_map[x])"
   ]
  },
  {
   "cell_type": "code",
   "execution_count": 12,
   "id": "4fbe6286",
   "metadata": {
    "execution": {
     "iopub.execute_input": "2025-05-25T11:45:04.446933Z",
     "iopub.status.busy": "2025-05-25T11:45:04.445978Z",
     "iopub.status.idle": "2025-05-25T11:45:04.460223Z",
     "shell.execute_reply": "2025-05-25T11:45:04.459381Z",
     "shell.execute_reply.started": "2025-05-25T11:45:04.446898Z"
    },
    "tags": []
   },
   "outputs": [
    {
     "name": "stdout",
     "output_type": "stream",
     "text": [
      "(3182, 8)\n"
     ]
    }
   ],
   "source": [
    "train_df = annot[annot[\"train\"] == True].drop(\"train\", axis=1)\n",
    "\n",
    "print(train_df.shape)"
   ]
  },
  {
   "cell_type": "code",
   "execution_count": 13,
   "id": "43a61296",
   "metadata": {
    "execution": {
     "iopub.execute_input": "2025-05-25T11:45:04.461991Z",
     "iopub.status.busy": "2025-05-25T11:45:04.461124Z",
     "iopub.status.idle": "2025-05-25T11:45:04.476880Z",
     "shell.execute_reply": "2025-05-25T11:45:04.475915Z",
     "shell.execute_reply.started": "2025-05-25T11:45:04.461954Z"
    },
    "tags": []
   },
   "outputs": [
    {
     "data": {
      "text/plain": [
       "(680, 8)"
      ]
     },
     "execution_count": 13,
     "metadata": {},
     "output_type": "execute_result"
    }
   ],
   "source": [
    "test_df = annot[annot[\"train\"] == False].drop(\"train\", axis=1)\n",
    "test_df.shape"
   ]
  },
  {
   "cell_type": "markdown",
   "id": "3e218c0e",
   "metadata": {},
   "source": [
    "### Создание датасета"
   ]
  },
  {
   "cell_type": "code",
   "execution_count": 14,
   "id": "6258bdf2",
   "metadata": {
    "execution": {
     "iopub.execute_input": "2025-05-25T11:45:04.479021Z",
     "iopub.status.busy": "2025-05-25T11:45:04.477902Z",
     "iopub.status.idle": "2025-05-25T11:45:04.512959Z",
     "shell.execute_reply": "2025-05-25T11:45:04.512036Z",
     "shell.execute_reply.started": "2025-05-25T11:45:04.478984Z"
    },
    "tags": []
   },
   "outputs": [],
   "source": [
    "NUM_FRAMES = 8\n",
    "NUM_CLASSES = 34"
   ]
  },
  {
   "cell_type": "code",
   "execution_count": 15,
   "id": "f278c92c",
   "metadata": {
    "execution": {
     "iopub.execute_input": "2025-05-25T11:45:04.514941Z",
     "iopub.status.busy": "2025-05-25T11:45:04.513979Z",
     "iopub.status.idle": "2025-05-25T11:45:04.524871Z",
     "shell.execute_reply": "2025-05-25T11:45:04.523991Z",
     "shell.execute_reply.started": "2025-05-25T11:45:04.514905Z"
    },
    "tags": []
   },
   "outputs": [],
   "source": [
    "ROOT_DIR = \"/home/jupyter/datasphere/project/processed\""
   ]
  },
  {
   "cell_type": "code",
   "execution_count": 16,
   "id": "45248a8d",
   "metadata": {
    "execution": {
     "iopub.execute_input": "2025-05-25T11:45:04.527273Z",
     "iopub.status.busy": "2025-05-25T11:45:04.526090Z",
     "iopub.status.idle": "2025-05-25T11:45:04.547625Z",
     "shell.execute_reply": "2025-05-25T11:45:04.546759Z",
     "shell.execute_reply.started": "2025-05-25T11:45:04.527236Z"
    },
    "tags": []
   },
   "outputs": [],
   "source": [
    "def sample_frame_paths(video_dir, num_frames=NUM_FRAMES):\n",
    "\n",
    "    all_frames = sorted([\n",
    "        os.path.join(video_dir, fname)\n",
    "        for fname in os.listdir(video_dir)\n",
    "        if fname.endswith(\".jpg\")\n",
    "    ])\n",
    "    total = len(all_frames)\n",
    "\n",
    "    indices = np.linspace(0, total-1, num_frames, dtype=np.int32)\n",
    "    return [all_frames[i] for i in indices]\n"
   ]
  },
  {
   "cell_type": "code",
   "execution_count": 17,
   "id": "da8eca9f",
   "metadata": {
    "execution": {
     "iopub.execute_input": "2025-05-25T11:45:04.549942Z",
     "iopub.status.busy": "2025-05-25T11:45:04.548834Z",
     "iopub.status.idle": "2025-05-25T11:45:04.563619Z",
     "shell.execute_reply": "2025-05-25T11:45:04.562877Z",
     "shell.execute_reply.started": "2025-05-25T11:45:04.549906Z"
    },
    "tags": []
   },
   "outputs": [],
   "source": [
    "def load_and_preprocess(path):\n",
    "    img = tf.io.read_file(path)\n",
    "    img = tf.image.decode_jpeg(img, channels=3)\n",
    "\n",
    "    return tf.cast(img, tf.float32) / 255.0\n"
   ]
  },
  {
   "cell_type": "code",
   "execution_count": 18,
   "id": "44e237b6",
   "metadata": {
    "execution": {
     "iopub.execute_input": "2025-05-25T11:45:04.564949Z",
     "iopub.status.busy": "2025-05-25T11:45:04.564455Z",
     "iopub.status.idle": "2025-05-25T11:45:04.586302Z",
     "shell.execute_reply": "2025-05-25T11:45:04.585449Z",
     "shell.execute_reply.started": "2025-05-25T11:45:04.564914Z"
    },
    "tags": []
   },
   "outputs": [],
   "source": [
    "def load_video(path, label):\n",
    "        \n",
    "    frame_paths = sample_frame_paths(path)\n",
    "\n",
    "    frames = []\n",
    "    for p in frame_paths:\n",
    "        frames.append(load_and_preprocess(p))\n",
    "    # frames.shape == (8, 224, 224, 3)\n",
    "    frames = tf.stack(frames)\n",
    "    return frames, label\n"
   ]
  },
  {
   "cell_type": "code",
   "execution_count": 19,
   "id": "9f51e1d3-14ba-474b-a289-b595fbbde36a",
   "metadata": {
    "execution": {
     "iopub.execute_input": "2025-05-25T11:45:04.587736Z",
     "iopub.status.busy": "2025-05-25T11:45:04.587192Z",
     "iopub.status.idle": "2025-05-25T11:45:04.635712Z",
     "shell.execute_reply": "2025-05-25T11:45:04.635021Z",
     "shell.execute_reply.started": "2025-05-25T11:45:04.587701Z"
    },
    "tags": []
   },
   "outputs": [],
   "source": [
    "data_augmentation = tf.keras.Sequential([\n",
    "    layers.RandomFlip(\"horizontal\"),\n",
    "    layers.RandomZoom(-0.2),\n",
    "    layers.RandomRotation(0.1),\n",
    "    #tf.keras.layers.RandomTranslation(height_factor=0.05, width_factor=0.05),\n",
    "])\n",
    "\n",
    "def augment_sequence(images, labels):\n",
    "    batch_size = tf.shape(images)[0]\n",
    "    num_frames = 8\n",
    "    \n",
    "    # (batch, 8, 224, 224, 3) -> (batch*8, 224, 224, 3)\n",
    "    images_reshaped = tf.reshape(images, [-1, 224, 224, 3])\n",
    "    \n",
    "    augmented = data_augmentation(images_reshaped, training=True)\n",
    "    \n",
    "    augmented_sequence = tf.reshape(augmented, [batch_size, num_frames, 224, 224, 3])\n",
    "    \n",
    "    return augmented_sequence, labels"
   ]
  },
  {
   "cell_type": "code",
   "execution_count": 20,
   "id": "9563a668",
   "metadata": {
    "execution": {
     "iopub.execute_input": "2025-05-25T11:45:04.637659Z",
     "iopub.status.busy": "2025-05-25T11:45:04.636772Z",
     "iopub.status.idle": "2025-05-25T11:45:04.649586Z",
     "shell.execute_reply": "2025-05-25T11:45:04.648867Z",
     "shell.execute_reply.started": "2025-05-25T11:45:04.637628Z"
    },
    "tags": []
   },
   "outputs": [],
   "source": [
    "def video_generator(df):\n",
    "    list_video_dirs = df['attachment_id'].apply(lambda x: os.path.join(ROOT_DIR, x)).tolist()\n",
    "    list_labels = tf.one_hot(df['text'].astype(np.int32).tolist(), 34)\n",
    "    for path, label in zip(list_video_dirs, list_labels):\n",
    "        frames, _ = load_video(path, label)\n",
    "        yield frames, label\n",
    "\n",
    "\n",
    "def create_dataset(df, batch_size=8, augment=False, shuffle=False):\n",
    "\n",
    "    dataset = tf.data.Dataset.from_generator(\n",
    "        lambda: video_generator(df),\n",
    "        output_signature=(\n",
    "            tf.TensorSpec(shape=(8, 224, 224, 3)),\n",
    "            tf.TensorSpec(shape=(34,), dtype=tf.float32)\n",
    "        ))\n",
    "    \n",
    "    if shuffle:\n",
    "        dataset = dataset.shuffle(buffer_size=len(df), reshuffle_each_iteration=True)\n",
    "    \n",
    "    dataset = dataset.repeat().batch(batch_size)\n",
    "    \n",
    "    if augment:\n",
    "        dataset = dataset.map(augment_sequence, num_parallel_calls=tf.data.AUTOTUNE)\n",
    "    \n",
    "    dataset = dataset.prefetch(tf.data.AUTOTUNE)\n",
    "    \n",
    "    return dataset"
   ]
  },
  {
   "cell_type": "code",
   "execution_count": 21,
   "id": "39adfcf8",
   "metadata": {
    "execution": {
     "iopub.execute_input": "2025-05-25T11:45:04.651494Z",
     "iopub.status.busy": "2025-05-25T11:45:04.650687Z",
     "iopub.status.idle": "2025-05-25T11:45:05.061763Z",
     "shell.execute_reply": "2025-05-25T11:45:05.060991Z",
     "shell.execute_reply.started": "2025-05-25T11:45:04.651457Z"
    },
    "tags": []
   },
   "outputs": [
    {
     "ename": "TypeError",
     "evalue": "'_ShuffleDataset' object is not callable",
     "output_type": "error",
     "traceback": [
      "\u001b[0;31m---------------------------------------------------------------------------\u001b[0m",
      "\u001b[0;31mTypeError\u001b[0m                                 Traceback (most recent call last)",
      "\u001b[0;32m/tmp/ipykernel_3962/3283203823.py\u001b[0m in \u001b[0;36m<cell line: 3>\u001b[0;34m()\u001b[0m\n\u001b[1;32m      1\u001b[0m \u001b[0mbatch_size\u001b[0m \u001b[0;34m=\u001b[0m \u001b[0;36m16\u001b[0m\u001b[0;34m\u001b[0m\u001b[0;34m\u001b[0m\u001b[0m\n\u001b[1;32m      2\u001b[0m \u001b[0;34m\u001b[0m\u001b[0m\n\u001b[0;32m----> 3\u001b[0;31m \u001b[0mtrain_ds\u001b[0m \u001b[0;34m=\u001b[0m \u001b[0mcreate_dataset\u001b[0m\u001b[0;34m(\u001b[0m\u001b[0mtrain_df\u001b[0m\u001b[0;34m,\u001b[0m \u001b[0mbatch_size\u001b[0m\u001b[0;34m,\u001b[0m \u001b[0maugment\u001b[0m\u001b[0;34m=\u001b[0m\u001b[0;32mTrue\u001b[0m\u001b[0;34m,\u001b[0m \u001b[0mshuffle\u001b[0m\u001b[0;34m=\u001b[0m\u001b[0;32mTrue\u001b[0m\u001b[0;34m)\u001b[0m\u001b[0;34m\u001b[0m\u001b[0;34m\u001b[0m\u001b[0m\n\u001b[0m\u001b[1;32m      4\u001b[0m \u001b[0mtest_ds\u001b[0m \u001b[0;34m=\u001b[0m \u001b[0mcreate_dataset\u001b[0m\u001b[0;34m(\u001b[0m\u001b[0mtest_df\u001b[0m\u001b[0;34m,\u001b[0m \u001b[0mbatch_size\u001b[0m\u001b[0;34m)\u001b[0m\u001b[0;34m\u001b[0m\u001b[0;34m\u001b[0m\u001b[0m\n",
      "\u001b[0;32m/tmp/ipykernel_3962/2743905474.py\u001b[0m in \u001b[0;36mcreate_dataset\u001b[0;34m(df, batch_size, augment, shuffle)\u001b[0m\n\u001b[1;32m     19\u001b[0m         \u001b[0mdataset\u001b[0m \u001b[0;34m=\u001b[0m \u001b[0mdataset\u001b[0m\u001b[0;34m.\u001b[0m\u001b[0mshuffle\u001b[0m\u001b[0;34m(\u001b[0m\u001b[0mbuffer_size\u001b[0m\u001b[0;34m=\u001b[0m\u001b[0mlen\u001b[0m\u001b[0;34m(\u001b[0m\u001b[0mdf\u001b[0m\u001b[0;34m)\u001b[0m\u001b[0;34m,\u001b[0m \u001b[0mreshuffle_each_iteration\u001b[0m\u001b[0;34m=\u001b[0m\u001b[0;32mTrue\u001b[0m\u001b[0;34m)\u001b[0m\u001b[0;34m\u001b[0m\u001b[0;34m\u001b[0m\u001b[0m\n\u001b[1;32m     20\u001b[0m \u001b[0;34m\u001b[0m\u001b[0m\n\u001b[0;32m---> 21\u001b[0;31m     \u001b[0mdataset\u001b[0m \u001b[0;34m=\u001b[0m \u001b[0mdataset\u001b[0m\u001b[0;34m(\u001b[0m\u001b[0;34m)\u001b[0m\u001b[0;34m.\u001b[0m\u001b[0mbatch\u001b[0m\u001b[0;34m(\u001b[0m\u001b[0mbatch_size\u001b[0m\u001b[0;34m)\u001b[0m\u001b[0;34m\u001b[0m\u001b[0;34m\u001b[0m\u001b[0m\n\u001b[0m\u001b[1;32m     22\u001b[0m \u001b[0;34m\u001b[0m\u001b[0m\n\u001b[1;32m     23\u001b[0m     \u001b[0;32mif\u001b[0m \u001b[0maugment\u001b[0m\u001b[0;34m:\u001b[0m\u001b[0;34m\u001b[0m\u001b[0;34m\u001b[0m\u001b[0m\n",
      "\u001b[0;31mTypeError\u001b[0m: '_ShuffleDataset' object is not callable"
     ]
    }
   ],
   "source": [
    "batch_size = 16\n",
    "\n",
    "train_ds = create_dataset(train_df, batch_size, augment=True, shuffle=True)\n",
    "test_ds = create_dataset(test_df, batch_size)"
   ]
  },
  {
   "cell_type": "code",
   "execution_count": 22,
   "id": "ace2b33c",
   "metadata": {
    "execution": {
     "iopub.execute_input": "2025-05-25T11:45:05.063674Z",
     "iopub.status.busy": "2025-05-25T11:45:05.062789Z",
     "iopub.status.idle": "2025-05-25T11:45:05.080596Z",
     "shell.execute_reply": "2025-05-25T11:45:05.079799Z",
     "shell.execute_reply.started": "2025-05-25T11:45:05.063640Z"
    },
    "tags": []
   },
   "outputs": [
    {
     "data": {
      "text/plain": [
       "'\\nfor batch in train_ds.take(1):\\n    frames, labels = batch\\n    print(\"Frames shape:\", frames.shape)\\n    print(\"Labels:\", labels.shape)\\n'"
      ]
     },
     "execution_count": 22,
     "metadata": {},
     "output_type": "execute_result"
    }
   ],
   "source": [
    "'''\n",
    "for batch in train_ds.take(1):\n",
    "    frames, labels = batch\n",
    "    print(\"Frames shape:\", frames.shape)\n",
    "    print(\"Labels:\", labels.shape)\n",
    "'''"
   ]
  },
  {
   "cell_type": "markdown",
   "id": "e55a463d",
   "metadata": {},
   "source": [
    "### Training the model"
   ]
  },
  {
   "cell_type": "code",
   "execution_count": 23,
   "id": "0731bab0-b681-43e3-ba8f-c80f60002810",
   "metadata": {
    "execution": {
     "iopub.execute_input": "2025-05-24T19:28:52.090661Z",
     "iopub.status.busy": "2025-05-24T19:28:52.089584Z",
     "iopub.status.idle": "2025-05-24T19:28:52.106203Z",
     "shell.execute_reply": "2025-05-24T19:28:52.105239Z",
     "shell.execute_reply.started": "2025-05-24T19:28:52.090619Z"
    },
    "tags": []
   },
   "outputs": [
    {
     "name": "stdout",
     "output_type": "stream",
     "text": [
      "Num GPUs Available:  0\n"
     ]
    }
   ],
   "source": [
    "print(\"Num GPUs Available: \", len(tf.config.list_physical_devices('GPU')))"
   ]
  },
  {
   "cell_type": "code",
   "execution_count": 24,
   "id": "51297ce0",
   "metadata": {
    "execution": {
     "iopub.execute_input": "2025-05-24T19:28:52.108728Z",
     "iopub.status.busy": "2025-05-24T19:28:52.107458Z",
     "iopub.status.idle": "2025-05-24T19:28:52.121837Z",
     "shell.execute_reply": "2025-05-24T19:28:52.121037Z",
     "shell.execute_reply.started": "2025-05-24T19:28:52.108687Z"
    },
    "tags": []
   },
   "outputs": [],
   "source": [
    "from tensorflow.keras.optimizers import SGD, AdamW, Adamax\n",
    "from tensorflow.keras.losses import CategoricalCrossentropy"
   ]
  },
  {
   "cell_type": "code",
   "execution_count": 25,
   "id": "25b977a5",
   "metadata": {
    "execution": {
     "iopub.execute_input": "2025-05-24T19:28:52.124167Z",
     "iopub.status.busy": "2025-05-24T19:28:52.122884Z",
     "iopub.status.idle": "2025-05-24T19:28:55.863673Z",
     "shell.execute_reply": "2025-05-24T19:28:55.862855Z",
     "shell.execute_reply.started": "2025-05-24T19:28:52.124124Z"
    },
    "tags": []
   },
   "outputs": [
    {
     "name": "stdout",
     "output_type": "stream",
     "text": [
      "1/1 [==============================] - 1s 1s/step\n",
      "Output shape: (1, 34)\n"
     ]
    }
   ],
   "source": [
    "num_segments = 8\n",
    "num_classes = 34\n",
    "\n",
    "base_model = tf.keras.applications.MobileNetV2(weights='imagenet', include_top=False, input_shape=(224, 224, 3))\n",
    "\n",
    "tsm_model = insert_temporal_shift(base_model, num_segments=num_segments)\n",
    "\n",
    "for layer in tsm_model.layers:\n",
    "    layer.trainable = False\n",
    "\n",
    "out = GlobalAveragePooling2D()(tsm_model.output)\n",
    "out = Dropout(0.6)(out)\n",
    "\n",
    "out = Flatten(name='flatten')(out)\n",
    "\n",
    "logits = Dense(num_classes, use_bias=True, name='logits')(out)\n",
    "\n",
    "def unflatten(z):\n",
    "        bt = tf.shape(z)[0]\n",
    "        batch = bt // num_segments\n",
    "        return tf.reshape(z, (batch, num_segments, num_classes))\n",
    "\n",
    "logits = Lambda(unflatten, name='reshape_to_bt_c')(logits)\n",
    "\n",
    "out = Softmax()(logits)\n",
    "\n",
    "out = Lambda(lambda z: tf.reduce_mean(z, axis=1), name='segment_mean')(out)\n",
    "\n",
    "final_model = tf.keras.Model(inputs=tsm_model.input, outputs=out)\n",
    "\n",
    "# Тестовый пример\n",
    "test_input = np.random.rand(8, 224, 224, 3).astype(np.float32)\n",
    "test_output = final_model.predict(np.expand_dims(test_input, axis=0))\n",
    "print(\"Output shape:\", test_output.shape)\n",
    "#print(\"Dataset labels shape:\", labels.shape)"
   ]
  },
  {
   "cell_type": "code",
   "execution_count": 26,
   "id": "192168c7-def7-4251-a629-f16e6fd4b69e",
   "metadata": {
    "execution": {
     "iopub.execute_input": "2025-05-24T19:28:55.865669Z",
     "iopub.status.busy": "2025-05-24T19:28:55.864800Z",
     "iopub.status.idle": "2025-05-24T19:28:55.883663Z",
     "shell.execute_reply": "2025-05-24T19:28:55.882839Z",
     "shell.execute_reply.started": "2025-05-24T19:28:55.865630Z"
    }
   },
   "outputs": [
    {
     "name": "stdout",
     "output_type": "stream",
     "text": [
      "000 | Frozen    | input\n",
      "001 | Frozen    | flatten_bt\n",
      "002 | Frozen    | Conv1\n",
      "003 | Frozen    | bn_Conv1\n",
      "004 | Frozen    | Conv1_relu\n",
      "005 | Frozen    | expanded_conv_depthwise\n",
      "006 | Frozen    | expanded_conv_depthwise_BN\n",
      "007 | Frozen    | expanded_conv_depthwise_relu\n",
      "008 | Frozen    | expanded_conv_project\n",
      "009 | Frozen    | expanded_conv_project_BN\n",
      "010 | Frozen    | block_1_expand\n",
      "011 | Frozen    | block_1_expand_BN\n",
      "012 | Frozen    | block_1_expand_relu\n",
      "013 | Frozen    | block_1_pad\n",
      "014 | Frozen    | block_1_depthwise\n",
      "015 | Frozen    | block_1_depthwise_BN\n",
      "016 | Frozen    | block_1_depthwise_relu\n",
      "017 | Frozen    | block_1_project\n",
      "018 | Frozen    | block_1_project_BN\n",
      "019 | Frozen    | block_2_expand\n",
      "020 | Frozen    | block_2_expand_BN\n",
      "021 | Frozen    | block_2_expand_relu\n",
      "022 | Frozen    | temporal_shift\n",
      "023 | Frozen    | block_2_depthwise\n",
      "024 | Frozen    | block_2_depthwise_BN\n",
      "025 | Frozen    | block_2_depthwise_relu\n",
      "026 | Frozen    | block_2_project\n",
      "027 | Frozen    | block_2_project_BN\n",
      "028 | Frozen    | block_2_add\n",
      "029 | Frozen    | block_3_expand\n",
      "030 | Frozen    | block_3_expand_BN\n",
      "031 | Frozen    | block_3_expand_relu\n",
      "032 | Frozen    | block_3_pad\n",
      "033 | Frozen    | block_3_depthwise\n",
      "034 | Frozen    | block_3_depthwise_BN\n",
      "035 | Frozen    | block_3_depthwise_relu\n",
      "036 | Frozen    | block_3_project\n",
      "037 | Frozen    | block_3_project_BN\n",
      "038 | Frozen    | block_4_expand\n",
      "039 | Frozen    | block_4_expand_BN\n",
      "040 | Frozen    | block_4_expand_relu\n",
      "041 | Frozen    | temporal_shift_1\n",
      "042 | Frozen    | block_4_depthwise\n",
      "043 | Frozen    | block_4_depthwise_BN\n",
      "044 | Frozen    | block_4_depthwise_relu\n",
      "045 | Frozen    | block_4_project\n",
      "046 | Frozen    | block_4_project_BN\n",
      "047 | Frozen    | block_4_add\n",
      "048 | Frozen    | block_5_expand\n",
      "049 | Frozen    | block_5_expand_BN\n",
      "050 | Frozen    | block_5_expand_relu\n",
      "051 | Frozen    | temporal_shift_2\n",
      "052 | Frozen    | block_5_depthwise\n",
      "053 | Frozen    | block_5_depthwise_BN\n",
      "054 | Frozen    | block_5_depthwise_relu\n",
      "055 | Frozen    | block_5_project\n",
      "056 | Frozen    | block_5_project_BN\n",
      "057 | Frozen    | block_5_add\n",
      "058 | Frozen    | block_6_expand\n",
      "059 | Frozen    | block_6_expand_BN\n",
      "060 | Frozen    | block_6_expand_relu\n",
      "061 | Frozen    | block_6_pad\n",
      "062 | Frozen    | block_6_depthwise\n",
      "063 | Frozen    | block_6_depthwise_BN\n",
      "064 | Frozen    | block_6_depthwise_relu\n",
      "065 | Frozen    | block_6_project\n",
      "066 | Frozen    | block_6_project_BN\n",
      "067 | Frozen    | block_7_expand\n",
      "068 | Frozen    | block_7_expand_BN\n",
      "069 | Frozen    | block_7_expand_relu\n",
      "070 | Frozen    | temporal_shift_3\n",
      "071 | Frozen    | block_7_depthwise\n",
      "072 | Frozen    | block_7_depthwise_BN\n",
      "073 | Frozen    | block_7_depthwise_relu\n",
      "074 | Frozen    | block_7_project\n",
      "075 | Frozen    | block_7_project_BN\n",
      "076 | Frozen    | block_7_add\n",
      "077 | Frozen    | block_8_expand\n",
      "078 | Frozen    | block_8_expand_BN\n",
      "079 | Frozen    | block_8_expand_relu\n",
      "080 | Frozen    | temporal_shift_4\n",
      "081 | Frozen    | block_8_depthwise\n",
      "082 | Frozen    | block_8_depthwise_BN\n",
      "083 | Frozen    | block_8_depthwise_relu\n",
      "084 | Frozen    | block_8_project\n",
      "085 | Frozen    | block_8_project_BN\n",
      "086 | Frozen    | block_8_add\n",
      "087 | Frozen    | block_9_expand\n",
      "088 | Frozen    | block_9_expand_BN\n",
      "089 | Frozen    | block_9_expand_relu\n",
      "090 | Frozen    | temporal_shift_5\n",
      "091 | Frozen    | block_9_depthwise\n",
      "092 | Frozen    | block_9_depthwise_BN\n",
      "093 | Frozen    | block_9_depthwise_relu\n",
      "094 | Frozen    | block_9_project\n",
      "095 | Frozen    | block_9_project_BN\n",
      "096 | Frozen    | block_9_add\n",
      "097 | Frozen    | block_10_expand\n",
      "098 | Frozen    | block_10_expand_BN\n",
      "099 | Frozen    | block_10_expand_relu\n",
      "100 | Frozen    | block_10_depthwise\n",
      "101 | Frozen    | block_10_depthwise_BN\n",
      "102 | Frozen    | block_10_depthwise_relu\n",
      "103 | Frozen    | block_10_project\n",
      "104 | Frozen    | block_10_project_BN\n",
      "105 | Frozen    | block_11_expand\n",
      "106 | Frozen    | block_11_expand_BN\n",
      "107 | Frozen    | block_11_expand_relu\n",
      "108 | Frozen    | temporal_shift_6\n",
      "109 | Frozen    | block_11_depthwise\n",
      "110 | Frozen    | block_11_depthwise_BN\n",
      "111 | Frozen    | block_11_depthwise_relu\n",
      "112 | Frozen    | block_11_project\n",
      "113 | Frozen    | block_11_project_BN\n",
      "114 | Frozen    | block_11_add\n",
      "115 | Frozen    | block_12_expand\n",
      "116 | Frozen    | block_12_expand_BN\n",
      "117 | Frozen    | block_12_expand_relu\n",
      "118 | Frozen    | temporal_shift_7\n",
      "119 | Frozen    | block_12_depthwise\n",
      "120 | Frozen    | block_12_depthwise_BN\n",
      "121 | Frozen    | block_12_depthwise_relu\n",
      "122 | Frozen    | block_12_project\n",
      "123 | Frozen    | block_12_project_BN\n",
      "124 | Frozen    | block_12_add\n",
      "125 | Frozen    | block_13_expand\n",
      "126 | Frozen    | block_13_expand_BN\n",
      "127 | Frozen    | block_13_expand_relu\n",
      "128 | Frozen    | block_13_pad\n",
      "129 | Frozen    | block_13_depthwise\n",
      "130 | Frozen    | block_13_depthwise_BN\n",
      "131 | Frozen    | block_13_depthwise_relu\n",
      "132 | Frozen    | block_13_project\n",
      "133 | Frozen    | block_13_project_BN\n",
      "134 | Frozen    | block_14_expand\n",
      "135 | Frozen    | block_14_expand_BN\n",
      "136 | Frozen    | block_14_expand_relu\n",
      "137 | Frozen    | temporal_shift_8\n",
      "138 | Frozen    | block_14_depthwise\n",
      "139 | Frozen    | block_14_depthwise_BN\n",
      "140 | Frozen    | block_14_depthwise_relu\n",
      "141 | Frozen    | block_14_project\n",
      "142 | Frozen    | block_14_project_BN\n",
      "143 | Frozen    | block_14_add\n",
      "144 | Frozen    | block_15_expand\n",
      "145 | Frozen    | block_15_expand_BN\n",
      "146 | Frozen    | block_15_expand_relu\n",
      "147 | Frozen    | temporal_shift_9\n",
      "148 | Frozen    | block_15_depthwise\n",
      "149 | Frozen    | block_15_depthwise_BN\n",
      "150 | Frozen    | block_15_depthwise_relu\n",
      "151 | Frozen    | block_15_project\n",
      "152 | Frozen    | block_15_project_BN\n",
      "153 | Frozen    | block_15_add\n",
      "154 | Frozen    | block_16_expand\n",
      "155 | Frozen    | block_16_expand_BN\n",
      "156 | Frozen    | block_16_expand_relu\n",
      "157 | Frozen    | block_16_depthwise\n",
      "158 | Frozen    | block_16_depthwise_BN\n",
      "159 | Frozen    | block_16_depthwise_relu\n",
      "160 | Frozen    | block_16_project\n",
      "161 | Frozen    | block_16_project_BN\n",
      "162 | Frozen    | Conv_1\n",
      "163 | Frozen    | Conv_1_bn\n",
      "164 | Frozen    | out_relu\n",
      "165 | Trainable | global_average_pooling2d\n",
      "166 | Trainable | dropout\n",
      "167 | Trainable | flatten\n",
      "168 | Trainable | logits\n",
      "169 | Trainable | reshape_to_bt_c\n",
      "170 | Trainable | softmax\n",
      "171 | Trainable | segment_mean\n"
     ]
    }
   ],
   "source": [
    "for i, layer in enumerate(final_model.layers):\n",
    "    print(f\"{i:03d} | {'Trainable' if layer.trainable else 'Frozen':9} | {layer.name}\")"
   ]
  },
  {
   "cell_type": "code",
   "execution_count": 27,
   "id": "f80f8605-b529-4a0f-b23b-dd33b93114d0",
   "metadata": {
    "execution": {
     "iopub.execute_input": "2025-05-24T19:28:55.885815Z",
     "iopub.status.busy": "2025-05-24T19:28:55.884682Z",
     "iopub.status.idle": "2025-05-24T19:48:13.852584Z",
     "shell.execute_reply": "2025-05-24T19:48:13.851305Z",
     "shell.execute_reply.started": "2025-05-24T19:28:55.885778Z"
    },
    "tags": []
   },
   "outputs": [
    {
     "name": "stderr",
     "output_type": "stream",
     "text": [
      "2025-05-24 19:28:55.927008: I tensorflow/core/common_runtime/executor.cc:1197] [/device:CPU:0] (DEBUG INFO) Executor start aborting (this does not indicate an error and you can ignore this message): INVALID_ARGUMENT: You must feed a value for placeholder tensor 'Placeholder/_15' with dtype resource\n",
      "\t [[{{node Placeholder/_15}}]]\n",
      "2025-05-24 19:28:55.927374: I tensorflow/core/common_runtime/executor.cc:1197] [/device:CPU:0] (DEBUG INFO) Executor start aborting (this does not indicate an error and you can ignore this message): INVALID_ARGUMENT: You must feed a value for placeholder tensor 'Placeholder/_15' with dtype resource\n",
      "\t [[{{node Placeholder/_15}}]]\n"
     ]
    },
    {
     "name": "stdout",
     "output_type": "stream",
     "text": [
      "Epoch 1/5\n"
     ]
    },
    {
     "name": "stderr",
     "output_type": "stream",
     "text": [
      "2025-05-24 19:29:10.187907: I tensorflow/core/kernels/data/shuffle_dataset_op.cc:392] Filling up shuffle buffer (this may take a while): 577 of 3182\n",
      "2025-05-24 19:29:20.194578: I tensorflow/core/kernels/data/shuffle_dataset_op.cc:392] Filling up shuffle buffer (this may take a while): 1138 of 3182\n",
      "2025-05-24 19:29:30.187253: I tensorflow/core/kernels/data/shuffle_dataset_op.cc:392] Filling up shuffle buffer (this may take a while): 1718 of 3182\n",
      "2025-05-24 19:29:40.190642: I tensorflow/core/kernels/data/shuffle_dataset_op.cc:392] Filling up shuffle buffer (this may take a while): 2261 of 3182\n",
      "2025-05-24 19:29:50.192106: I tensorflow/core/kernels/data/shuffle_dataset_op.cc:392] Filling up shuffle buffer (this may take a while): 2808 of 3182\n",
      "2025-05-24 19:29:56.988925: I tensorflow/core/kernels/data/shuffle_dataset_op.cc:417] Shuffle buffer filled.\n"
     ]
    },
    {
     "name": "stdout",
     "output_type": "stream",
     "text": [
      "198/198 [==============================] - ETA: 0s - loss: 3.8160 - categorical_accuracy: 0.0284 - top-3-accuracy: 0.0893"
     ]
    },
    {
     "name": "stderr",
     "output_type": "stream",
     "text": [
      "2025-05-24 19:33:01.472667: I tensorflow/core/common_runtime/executor.cc:1197] [/device:CPU:0] (DEBUG INFO) Executor start aborting (this does not indicate an error and you can ignore this message): INVALID_ARGUMENT: You must feed a value for placeholder tensor 'Placeholder/_0' with dtype int32\n",
      "\t [[{{node Placeholder/_0}}]]\n",
      "2025-05-24 19:33:01.472952: I tensorflow/core/common_runtime/executor.cc:1197] [/device:CPU:0] (DEBUG INFO) Executor start aborting (this does not indicate an error and you can ignore this message): INVALID_ARGUMENT: You must feed a value for placeholder tensor 'Placeholder/_0' with dtype int32\n",
      "\t [[{{node Placeholder/_0}}]]\n"
     ]
    },
    {
     "name": "stdout",
     "output_type": "stream",
     "text": [
      "198/198 [==============================] - 283s 1s/step - loss: 3.8160 - categorical_accuracy: 0.0284 - top-3-accuracy: 0.0893 - val_loss: 3.7235 - val_categorical_accuracy: 0.0357 - val_top-3-accuracy: 0.0952\n",
      "Epoch 2/5\n",
      "198/198 [==============================] - 218s 1s/step - loss: 3.6918 - categorical_accuracy: 0.0426 - top-3-accuracy: 0.1127 - val_loss: 3.6835 - val_categorical_accuracy: 0.0357 - val_top-3-accuracy: 0.1042\n",
      "Epoch 3/5\n",
      "198/198 [==============================] - 218s 1s/step - loss: 3.6194 - categorical_accuracy: 0.0470 - top-3-accuracy: 0.1316 - val_loss: 3.6612 - val_categorical_accuracy: 0.0387 - val_top-3-accuracy: 0.1057\n",
      "Epoch 4/5\n",
      "198/198 [==============================] - 218s 1s/step - loss: 3.5609 - categorical_accuracy: 0.0562 - top-3-accuracy: 0.1427 - val_loss: 3.6300 - val_categorical_accuracy: 0.0491 - val_top-3-accuracy: 0.1116\n",
      "Epoch 5/5\n",
      "198/198 [==============================] - 220s 1s/step - loss: 3.5098 - categorical_accuracy: 0.0735 - top-3-accuracy: 0.1645 - val_loss: 3.6135 - val_categorical_accuracy: 0.0432 - val_top-3-accuracy: 0.1220\n"
     ]
    }
   ],
   "source": [
    "epochs = 5\n",
    "\n",
    "\n",
    "optimizer = AdamW(learning_rate=3e-4, weight_decay=1e-5)\n",
    "loss = CategoricalCrossentropy()\n",
    "metrics = [tf.keras.metrics.CategoricalAccuracy(), tf.keras.metrics.TopKCategoricalAccuracy(k=3, name='top-3-accuracy')]\n",
    "\n",
    "final_model.compile(\n",
    "    optimizer=optimizer,\n",
    "    loss=loss,\n",
    "    metrics=metrics\n",
    ")\n",
    "\n",
    "history = final_model.fit(\n",
    "    train_ds,\n",
    "    epochs=epochs,\n",
    "    steps_per_epoch = len(train_df) // batch_size,\n",
    "    validation_steps = len(test_df) //batch_size,\n",
    "    validation_data=test_ds\n",
    ")\n"
   ]
  },
  {
   "cell_type": "code",
   "execution_count": 28,
   "id": "e985dafd-205f-4f2b-9187-369ee5106aef",
   "metadata": {
    "execution": {
     "iopub.execute_input": "2025-05-24T19:48:13.857374Z",
     "iopub.status.busy": "2025-05-24T19:48:13.856654Z",
     "iopub.status.idle": "2025-05-24T19:48:13.876075Z",
     "shell.execute_reply": "2025-05-24T19:48:13.875265Z",
     "shell.execute_reply.started": "2025-05-24T19:48:13.857333Z"
    },
    "tags": []
   },
   "outputs": [],
   "source": [
    "for i, layer in enumerate(final_model.layers):\n",
    "    if isinstance(layer, BatchNormalization):\n",
    "        layer.trainable = False\n",
    "    else:\n",
    "        layer.trainable = True"
   ]
  },
  {
   "cell_type": "code",
   "execution_count": 29,
   "id": "e0f33a60-58c7-4d46-95b5-7856a4e96ff6",
   "metadata": {
    "execution": {
     "iopub.execute_input": "2025-05-24T19:48:13.878020Z",
     "iopub.status.busy": "2025-05-24T19:48:13.877107Z",
     "iopub.status.idle": "2025-05-24T19:48:13.896617Z",
     "shell.execute_reply": "2025-05-24T19:48:13.895843Z",
     "shell.execute_reply.started": "2025-05-24T19:48:13.877992Z"
    },
    "tags": []
   },
   "outputs": [
    {
     "name": "stdout",
     "output_type": "stream",
     "text": [
      "000 | Trainable | input\n",
      "001 | Trainable | flatten_bt\n",
      "002 | Trainable | Conv1\n",
      "003 | Frozen    | bn_Conv1\n",
      "004 | Trainable | Conv1_relu\n",
      "005 | Trainable | expanded_conv_depthwise\n",
      "006 | Frozen    | expanded_conv_depthwise_BN\n",
      "007 | Trainable | expanded_conv_depthwise_relu\n",
      "008 | Trainable | expanded_conv_project\n",
      "009 | Frozen    | expanded_conv_project_BN\n",
      "010 | Trainable | block_1_expand\n",
      "011 | Frozen    | block_1_expand_BN\n",
      "012 | Trainable | block_1_expand_relu\n",
      "013 | Trainable | block_1_pad\n",
      "014 | Trainable | block_1_depthwise\n",
      "015 | Frozen    | block_1_depthwise_BN\n",
      "016 | Trainable | block_1_depthwise_relu\n",
      "017 | Trainable | block_1_project\n",
      "018 | Frozen    | block_1_project_BN\n",
      "019 | Trainable | block_2_expand\n",
      "020 | Frozen    | block_2_expand_BN\n",
      "021 | Trainable | block_2_expand_relu\n",
      "022 | Trainable | temporal_shift\n",
      "023 | Trainable | block_2_depthwise\n",
      "024 | Frozen    | block_2_depthwise_BN\n",
      "025 | Trainable | block_2_depthwise_relu\n",
      "026 | Trainable | block_2_project\n",
      "027 | Frozen    | block_2_project_BN\n",
      "028 | Trainable | block_2_add\n",
      "029 | Trainable | block_3_expand\n",
      "030 | Frozen    | block_3_expand_BN\n",
      "031 | Trainable | block_3_expand_relu\n",
      "032 | Trainable | block_3_pad\n",
      "033 | Trainable | block_3_depthwise\n",
      "034 | Frozen    | block_3_depthwise_BN\n",
      "035 | Trainable | block_3_depthwise_relu\n",
      "036 | Trainable | block_3_project\n",
      "037 | Frozen    | block_3_project_BN\n",
      "038 | Trainable | block_4_expand\n",
      "039 | Frozen    | block_4_expand_BN\n",
      "040 | Trainable | block_4_expand_relu\n",
      "041 | Trainable | temporal_shift_1\n",
      "042 | Trainable | block_4_depthwise\n",
      "043 | Frozen    | block_4_depthwise_BN\n",
      "044 | Trainable | block_4_depthwise_relu\n",
      "045 | Trainable | block_4_project\n",
      "046 | Frozen    | block_4_project_BN\n",
      "047 | Trainable | block_4_add\n",
      "048 | Trainable | block_5_expand\n",
      "049 | Frozen    | block_5_expand_BN\n",
      "050 | Trainable | block_5_expand_relu\n",
      "051 | Trainable | temporal_shift_2\n",
      "052 | Trainable | block_5_depthwise\n",
      "053 | Frozen    | block_5_depthwise_BN\n",
      "054 | Trainable | block_5_depthwise_relu\n",
      "055 | Trainable | block_5_project\n",
      "056 | Frozen    | block_5_project_BN\n",
      "057 | Trainable | block_5_add\n",
      "058 | Trainable | block_6_expand\n",
      "059 | Frozen    | block_6_expand_BN\n",
      "060 | Trainable | block_6_expand_relu\n",
      "061 | Trainable | block_6_pad\n",
      "062 | Trainable | block_6_depthwise\n",
      "063 | Frozen    | block_6_depthwise_BN\n",
      "064 | Trainable | block_6_depthwise_relu\n",
      "065 | Trainable | block_6_project\n",
      "066 | Frozen    | block_6_project_BN\n",
      "067 | Trainable | block_7_expand\n",
      "068 | Frozen    | block_7_expand_BN\n",
      "069 | Trainable | block_7_expand_relu\n",
      "070 | Trainable | temporal_shift_3\n",
      "071 | Trainable | block_7_depthwise\n",
      "072 | Frozen    | block_7_depthwise_BN\n",
      "073 | Trainable | block_7_depthwise_relu\n",
      "074 | Trainable | block_7_project\n",
      "075 | Frozen    | block_7_project_BN\n",
      "076 | Trainable | block_7_add\n",
      "077 | Trainable | block_8_expand\n",
      "078 | Frozen    | block_8_expand_BN\n",
      "079 | Trainable | block_8_expand_relu\n",
      "080 | Trainable | temporal_shift_4\n",
      "081 | Trainable | block_8_depthwise\n",
      "082 | Frozen    | block_8_depthwise_BN\n",
      "083 | Trainable | block_8_depthwise_relu\n",
      "084 | Trainable | block_8_project\n",
      "085 | Frozen    | block_8_project_BN\n",
      "086 | Trainable | block_8_add\n",
      "087 | Trainable | block_9_expand\n",
      "088 | Frozen    | block_9_expand_BN\n",
      "089 | Trainable | block_9_expand_relu\n",
      "090 | Trainable | temporal_shift_5\n",
      "091 | Trainable | block_9_depthwise\n",
      "092 | Frozen    | block_9_depthwise_BN\n",
      "093 | Trainable | block_9_depthwise_relu\n",
      "094 | Trainable | block_9_project\n",
      "095 | Frozen    | block_9_project_BN\n",
      "096 | Trainable | block_9_add\n",
      "097 | Trainable | block_10_expand\n",
      "098 | Frozen    | block_10_expand_BN\n",
      "099 | Trainable | block_10_expand_relu\n",
      "100 | Trainable | block_10_depthwise\n",
      "101 | Frozen    | block_10_depthwise_BN\n",
      "102 | Trainable | block_10_depthwise_relu\n",
      "103 | Trainable | block_10_project\n",
      "104 | Frozen    | block_10_project_BN\n",
      "105 | Trainable | block_11_expand\n",
      "106 | Frozen    | block_11_expand_BN\n",
      "107 | Trainable | block_11_expand_relu\n",
      "108 | Trainable | temporal_shift_6\n",
      "109 | Trainable | block_11_depthwise\n",
      "110 | Frozen    | block_11_depthwise_BN\n",
      "111 | Trainable | block_11_depthwise_relu\n",
      "112 | Trainable | block_11_project\n",
      "113 | Frozen    | block_11_project_BN\n",
      "114 | Trainable | block_11_add\n",
      "115 | Trainable | block_12_expand\n",
      "116 | Frozen    | block_12_expand_BN\n",
      "117 | Trainable | block_12_expand_relu\n",
      "118 | Trainable | temporal_shift_7\n",
      "119 | Trainable | block_12_depthwise\n",
      "120 | Frozen    | block_12_depthwise_BN\n",
      "121 | Trainable | block_12_depthwise_relu\n",
      "122 | Trainable | block_12_project\n",
      "123 | Frozen    | block_12_project_BN\n",
      "124 | Trainable | block_12_add\n",
      "125 | Trainable | block_13_expand\n",
      "126 | Frozen    | block_13_expand_BN\n",
      "127 | Trainable | block_13_expand_relu\n",
      "128 | Trainable | block_13_pad\n",
      "129 | Trainable | block_13_depthwise\n",
      "130 | Frozen    | block_13_depthwise_BN\n",
      "131 | Trainable | block_13_depthwise_relu\n",
      "132 | Trainable | block_13_project\n",
      "133 | Frozen    | block_13_project_BN\n",
      "134 | Trainable | block_14_expand\n",
      "135 | Frozen    | block_14_expand_BN\n",
      "136 | Trainable | block_14_expand_relu\n",
      "137 | Trainable | temporal_shift_8\n",
      "138 | Trainable | block_14_depthwise\n",
      "139 | Frozen    | block_14_depthwise_BN\n",
      "140 | Trainable | block_14_depthwise_relu\n",
      "141 | Trainable | block_14_project\n",
      "142 | Frozen    | block_14_project_BN\n",
      "143 | Trainable | block_14_add\n",
      "144 | Trainable | block_15_expand\n",
      "145 | Frozen    | block_15_expand_BN\n",
      "146 | Trainable | block_15_expand_relu\n",
      "147 | Trainable | temporal_shift_9\n",
      "148 | Trainable | block_15_depthwise\n",
      "149 | Frozen    | block_15_depthwise_BN\n",
      "150 | Trainable | block_15_depthwise_relu\n",
      "151 | Trainable | block_15_project\n",
      "152 | Frozen    | block_15_project_BN\n",
      "153 | Trainable | block_15_add\n",
      "154 | Trainable | block_16_expand\n",
      "155 | Frozen    | block_16_expand_BN\n",
      "156 | Trainable | block_16_expand_relu\n",
      "157 | Trainable | block_16_depthwise\n",
      "158 | Frozen    | block_16_depthwise_BN\n",
      "159 | Trainable | block_16_depthwise_relu\n",
      "160 | Trainable | block_16_project\n",
      "161 | Frozen    | block_16_project_BN\n",
      "162 | Trainable | Conv_1\n",
      "163 | Frozen    | Conv_1_bn\n",
      "164 | Trainable | out_relu\n",
      "165 | Trainable | global_average_pooling2d\n",
      "166 | Trainable | dropout\n",
      "167 | Trainable | flatten\n",
      "168 | Trainable | logits\n",
      "169 | Trainable | reshape_to_bt_c\n",
      "170 | Trainable | softmax\n",
      "171 | Trainable | segment_mean\n"
     ]
    }
   ],
   "source": [
    "for i, layer in enumerate(final_model.layers):\n",
    "    print(f\"{i:03d} | {'Trainable' if layer.trainable else 'Frozen':9} | {layer.name}\")"
   ]
  },
  {
   "cell_type": "code",
   "execution_count": 30,
   "id": "65c1e571-4e74-4e91-915f-4c49bc2f34e6",
   "metadata": {
    "execution": {
     "iopub.execute_input": "2025-05-24T19:48:13.898296Z",
     "iopub.status.busy": "2025-05-24T19:48:13.897776Z",
     "iopub.status.idle": "2025-05-24T19:48:13.926562Z",
     "shell.execute_reply": "2025-05-24T19:48:13.925666Z",
     "shell.execute_reply.started": "2025-05-24T19:48:13.898270Z"
    },
    "tags": []
   },
   "outputs": [],
   "source": [
    "early_stop = tf.keras.callbacks.EarlyStopping(\n",
    "    monitor='val_loss',\n",
    "    patience=20,\n",
    "    restore_best_weights=True,\n",
    "    min_delta=0.001,\n",
    "    verbose=1\n",
    ")\n",
    "\n",
    "checkpoint = tf.keras.callbacks.ModelCheckpoint(\n",
    "    \"best_mobilenet2.h5\", \n",
    "    monitor='val_loss',\n",
    "    save_freq='epoch', \n",
    "    mode='min',\n",
    "    save_best_only=True\n",
    ")\n",
    "\n",
    "reduce_lr = tf.keras.callbacks.ReduceLROnPlateau(\n",
    "    monitor='val_loss',\n",
    "    factor=0.5,\n",
    "    patience=2,\n",
    "    verbose=1,\n",
    "    min_lr=0.0,\n",
    ")\n",
    "\n",
    "\n",
    "tfboard = tf.keras.callbacks.TensorBoard(log_dir=\"./logs2\", update_freq=20)\n",
    "\n",
    "callbacks = [tfboard, checkpoint, early_stop, reduce_lr]"
   ]
  },
  {
   "cell_type": "code",
   "execution_count": null,
   "id": "5e20d7fd-8861-4c5e-807b-c8fc26cf19ac",
   "metadata": {
    "tags": []
   },
   "outputs": [
    {
     "name": "stdout",
     "output_type": "stream",
     "text": [
      "198/198 [==============================] - 778s 4s/step - loss: 0.8442 - categorical_accuracy: 0.7812 - top-3-accuracy: 0.9568 - val_loss: 1.5383 - val_categorical_accuracy: 0.5342 - val_top-3-accuracy: 0.8065 - lr: 0.0000e+00\n",
      "Epoch 51/100\n",
      "  6/198 [..............................] - ETA: 11:57 - loss: 0.7371 - categorical_accuracy: 0.8750 - top-3-accuracy: 0.9792"
     ]
    }
   ],
   "source": [
    "epochs = 100\n",
    "learning_rate=1e-5\n",
    "\n",
    "lr_schedule = tf.keras.optimizers.schedules.CosineDecay(\n",
    "    initial_learning_rate=3e-5,\n",
    "    decay_steps = 40 * (len(train_df) // batch_size)\n",
    ")\n",
    "\n",
    "\n",
    "optimizer = AdamW(learning_rate=lr_schedule, weight_decay=3e-4)\n",
    "loss = CategoricalCrossentropy()\n",
    "metrics = [tf.keras.metrics.CategoricalAccuracy(), tf.keras.metrics.TopKCategoricalAccuracy(k=3, name='top-3-accuracy')]\n",
    "\n",
    "final_model.compile(\n",
    "    optimizer=optimizer,\n",
    "    loss=loss,\n",
    "    metrics=metrics\n",
    ")\n",
    "\n",
    "history = final_model.fit(\n",
    "    train_ds,\n",
    "    epochs=epochs,\n",
    "    steps_per_epoch = len(train_df) // batch_size,\n",
    "    validation_steps = len(test_df) //batch_size,\n",
    "    validation_data=test_ds,\n",
    "    callbacks=callbacks\n",
    ")\n"
   ]
  },
  {
   "cell_type": "code",
   "execution_count": null,
   "id": "462bcf2b-fdf5-4184-aea4-0c60a3f40e99",
   "metadata": {},
   "outputs": [],
   "source": []
  },
  {
   "cell_type": "markdown",
   "id": "4b480379",
   "metadata": {},
   "source": [
    "### Saving model"
   ]
  },
  {
   "cell_type": "code",
   "execution_count": null,
   "id": "cd91f3bb",
   "metadata": {
    "tags": []
   },
   "outputs": [],
   "source": [
    "final_model.save('mobile_tsm_bukva2')"
   ]
  },
  {
   "cell_type": "code",
   "execution_count": null,
   "id": "ad45254b-9f12-4ea9-8536-feb165024417",
   "metadata": {},
   "outputs": [],
   "source": []
  },
  {
   "cell_type": "markdown",
   "id": "cdaf70d9-3d9d-4146-ada0-62073b0361dd",
   "metadata": {},
   "source": [
    "### Evaluation"
   ]
  },
  {
   "cell_type": "code",
   "execution_count": 41,
   "id": "ee3ae32c-f17a-4ebe-bb39-17e6aa53637b",
   "metadata": {
    "execution": {
     "iopub.execute_input": "2025-05-25T11:51:56.681038Z",
     "iopub.status.busy": "2025-05-25T11:51:56.680127Z",
     "iopub.status.idle": "2025-05-25T11:51:56.951258Z",
     "shell.execute_reply": "2025-05-25T11:51:56.950363Z",
     "shell.execute_reply.started": "2025-05-25T11:51:56.681004Z"
    },
    "tags": []
   },
   "outputs": [],
   "source": [
    "import os\n",
    "import tensorflow as tf\n",
    "from tensorflow import keras\n",
    "import matplotlib.pyplot as plt\n",
    "import seaborn as sns\n",
    "from tensorflow.keras.utils import custom_object_scope"
   ]
  },
  {
   "cell_type": "code",
   "execution_count": 33,
   "id": "8979078f-1f4f-4f16-b0dc-a99d01f95d6c",
   "metadata": {
    "execution": {
     "iopub.execute_input": "2025-05-25T11:47:51.624717Z",
     "iopub.status.busy": "2025-05-25T11:47:51.623489Z",
     "iopub.status.idle": "2025-05-25T11:47:58.214311Z",
     "shell.execute_reply": "2025-05-25T11:47:58.212762Z",
     "shell.execute_reply.started": "2025-05-25T11:47:51.624672Z"
    },
    "tags": []
   },
   "outputs": [
    {
     "name": "stderr",
     "output_type": "stream",
     "text": [
      "2025-05-25 11:47:57.514376: I tensorflow/core/common_runtime/executor.cc:1197] [/device:CPU:0] (DEBUG INFO) Executor start aborting (this does not indicate an error and you can ignore this message): INVALID_ARGUMENT: You must feed a value for placeholder tensor 'x' with dtype float and shape [?,56,56,144]\n",
      "\t [[{{node x}}]]\n",
      "2025-05-25 11:47:57.521065: I tensorflow/core/common_runtime/executor.cc:1197] [/device:CPU:0] (DEBUG INFO) Executor start aborting (this does not indicate an error and you can ignore this message): INVALID_ARGUMENT: You must feed a value for placeholder tensor 'Placeholder' with dtype float and shape [?,56,56,144]\n",
      "\t [[{{node Placeholder}}]]\n",
      "2025-05-25 11:47:57.584296: I tensorflow/core/common_runtime/executor.cc:1197] [/device:CPU:0] (DEBUG INFO) Executor start aborting (this does not indicate an error and you can ignore this message): INVALID_ARGUMENT: You must feed a value for placeholder tensor 'x' with dtype float and shape [?,28,28,192]\n",
      "\t [[{{node x}}]]\n",
      "2025-05-25 11:47:57.590565: I tensorflow/core/common_runtime/executor.cc:1197] [/device:CPU:0] (DEBUG INFO) Executor start aborting (this does not indicate an error and you can ignore this message): INVALID_ARGUMENT: You must feed a value for placeholder tensor 'Placeholder' with dtype float and shape [?,28,28,192]\n",
      "\t [[{{node Placeholder}}]]\n",
      "2025-05-25 11:47:57.626567: I tensorflow/core/common_runtime/executor.cc:1197] [/device:CPU:0] (DEBUG INFO) Executor start aborting (this does not indicate an error and you can ignore this message): INVALID_ARGUMENT: You must feed a value for placeholder tensor 'x' with dtype float and shape [?,28,28,192]\n",
      "\t [[{{node x}}]]\n",
      "2025-05-25 11:47:57.634104: I tensorflow/core/common_runtime/executor.cc:1197] [/device:CPU:0] (DEBUG INFO) Executor start aborting (this does not indicate an error and you can ignore this message): INVALID_ARGUMENT: You must feed a value for placeholder tensor 'Placeholder' with dtype float and shape [?,28,28,192]\n",
      "\t [[{{node Placeholder}}]]\n",
      "2025-05-25 11:47:57.700384: I tensorflow/core/common_runtime/executor.cc:1197] [/device:CPU:0] (DEBUG INFO) Executor start aborting (this does not indicate an error and you can ignore this message): INVALID_ARGUMENT: You must feed a value for placeholder tensor 'x' with dtype float and shape [?,14,14,384]\n",
      "\t [[{{node x}}]]\n",
      "2025-05-25 11:47:57.706942: I tensorflow/core/common_runtime/executor.cc:1197] [/device:CPU:0] (DEBUG INFO) Executor start aborting (this does not indicate an error and you can ignore this message): INVALID_ARGUMENT: You must feed a value for placeholder tensor 'Placeholder' with dtype float and shape [?,14,14,384]\n",
      "\t [[{{node Placeholder}}]]\n",
      "2025-05-25 11:47:57.745790: I tensorflow/core/common_runtime/executor.cc:1197] [/device:CPU:0] (DEBUG INFO) Executor start aborting (this does not indicate an error and you can ignore this message): INVALID_ARGUMENT: You must feed a value for placeholder tensor 'x' with dtype float and shape [?,14,14,384]\n",
      "\t [[{{node x}}]]\n",
      "2025-05-25 11:47:57.752698: I tensorflow/core/common_runtime/executor.cc:1197] [/device:CPU:0] (DEBUG INFO) Executor start aborting (this does not indicate an error and you can ignore this message): INVALID_ARGUMENT: You must feed a value for placeholder tensor 'Placeholder' with dtype float and shape [?,14,14,384]\n",
      "\t [[{{node Placeholder}}]]\n",
      "2025-05-25 11:47:57.790330: I tensorflow/core/common_runtime/executor.cc:1197] [/device:CPU:0] (DEBUG INFO) Executor start aborting (this does not indicate an error and you can ignore this message): INVALID_ARGUMENT: You must feed a value for placeholder tensor 'x' with dtype float and shape [?,14,14,384]\n",
      "\t [[{{node x}}]]\n",
      "2025-05-25 11:47:57.797025: I tensorflow/core/common_runtime/executor.cc:1197] [/device:CPU:0] (DEBUG INFO) Executor start aborting (this does not indicate an error and you can ignore this message): INVALID_ARGUMENT: You must feed a value for placeholder tensor 'Placeholder' with dtype float and shape [?,14,14,384]\n",
      "\t [[{{node Placeholder}}]]\n",
      "2025-05-25 11:47:57.857537: I tensorflow/core/common_runtime/executor.cc:1197] [/device:CPU:0] (DEBUG INFO) Executor start aborting (this does not indicate an error and you can ignore this message): INVALID_ARGUMENT: You must feed a value for placeholder tensor 'x' with dtype float and shape [?,14,14,576]\n",
      "\t [[{{node x}}]]\n",
      "2025-05-25 11:47:57.863945: I tensorflow/core/common_runtime/executor.cc:1197] [/device:CPU:0] (DEBUG INFO) Executor start aborting (this does not indicate an error and you can ignore this message): INVALID_ARGUMENT: You must feed a value for placeholder tensor 'Placeholder' with dtype float and shape [?,14,14,576]\n",
      "\t [[{{node Placeholder}}]]\n",
      "2025-05-25 11:47:57.904459: I tensorflow/core/common_runtime/executor.cc:1197] [/device:CPU:0] (DEBUG INFO) Executor start aborting (this does not indicate an error and you can ignore this message): INVALID_ARGUMENT: You must feed a value for placeholder tensor 'x' with dtype float and shape [?,14,14,576]\n",
      "\t [[{{node x}}]]\n",
      "2025-05-25 11:47:57.910990: I tensorflow/core/common_runtime/executor.cc:1197] [/device:CPU:0] (DEBUG INFO) Executor start aborting (this does not indicate an error and you can ignore this message): INVALID_ARGUMENT: You must feed a value for placeholder tensor 'Placeholder' with dtype float and shape [?,14,14,576]\n",
      "\t [[{{node Placeholder}}]]\n",
      "2025-05-25 11:47:57.976122: I tensorflow/core/common_runtime/executor.cc:1197] [/device:CPU:0] (DEBUG INFO) Executor start aborting (this does not indicate an error and you can ignore this message): INVALID_ARGUMENT: You must feed a value for placeholder tensor 'x' with dtype float and shape [?,7,7,960]\n",
      "\t [[{{node x}}]]\n",
      "2025-05-25 11:47:57.982910: I tensorflow/core/common_runtime/executor.cc:1197] [/device:CPU:0] (DEBUG INFO) Executor start aborting (this does not indicate an error and you can ignore this message): INVALID_ARGUMENT: You must feed a value for placeholder tensor 'Placeholder' with dtype float and shape [?,7,7,960]\n",
      "\t [[{{node Placeholder}}]]\n",
      "2025-05-25 11:47:58.018807: I tensorflow/core/common_runtime/executor.cc:1197] [/device:CPU:0] (DEBUG INFO) Executor start aborting (this does not indicate an error and you can ignore this message): INVALID_ARGUMENT: You must feed a value for placeholder tensor 'x' with dtype float and shape [?,7,7,960]\n",
      "\t [[{{node x}}]]\n",
      "2025-05-25 11:47:58.025011: I tensorflow/core/common_runtime/executor.cc:1197] [/device:CPU:0] (DEBUG INFO) Executor start aborting (this does not indicate an error and you can ignore this message): INVALID_ARGUMENT: You must feed a value for placeholder tensor 'Placeholder' with dtype float and shape [?,7,7,960]\n",
      "\t [[{{node Placeholder}}]]\n"
     ]
    }
   ],
   "source": [
    "num_segments=8\n",
    "num_classes=34\n",
    "\n",
    "model = tf.keras.models.load_model('mobile_tsm_bukva2')"
   ]
  },
  {
   "cell_type": "code",
   "execution_count": 20,
   "id": "51137df0-d517-49c5-b87f-5ac75efdf61e",
   "metadata": {
    "execution": {
     "iopub.execute_input": "2025-05-25T11:33:27.947548Z",
     "iopub.status.busy": "2025-05-25T11:33:27.946327Z",
     "iopub.status.idle": "2025-05-25T11:33:27.962009Z",
     "shell.execute_reply": "2025-05-25T11:33:27.961295Z",
     "shell.execute_reply.started": "2025-05-25T11:33:27.947514Z"
    }
   },
   "outputs": [],
   "source": [
    "label_map = {\"no_event\":0, \"А\":1, \"Б\":2, \"В\":3, \"Г\":4, \"Д\":5, \"Е\":6, \"Ё\":7, \"Ж\":8, \"З\":9, \"И\":10, \"Й\":11, \"К\":12, \"Л\":13, \"М\":14, \"Н\":15, \"О\":16, \"П\":17, \"Р\":18, \"С\":19, \"Т\":20, \"У\":21, \"Ф\":22, \"Х\":23, \"Ц\":24, \"Ч\":25, \"Ш\":26, \"Щ\":27, \"Ъ\":28, \"Ы\":29, \"Ь\":30, \"Э\":31, \"Ю\":32, \"Я\":33}"
   ]
  },
  {
   "cell_type": "code",
   "execution_count": 37,
   "id": "3973b566-d152-4b60-b67c-a2f048e8e236",
   "metadata": {
    "execution": {
     "iopub.execute_input": "2025-05-25T11:50:16.933967Z",
     "iopub.status.busy": "2025-05-25T11:50:16.933017Z",
     "iopub.status.idle": "2025-05-25T11:50:16.946240Z",
     "shell.execute_reply": "2025-05-25T11:50:16.945555Z",
     "shell.execute_reply.started": "2025-05-25T11:50:16.933904Z"
    }
   },
   "outputs": [],
   "source": [
    "def create_validation_dataset(df, batch_size=8, augment=False, shuffle=False):\n",
    "\n",
    "    dataset = tf.data.Dataset.from_generator(\n",
    "        lambda: video_generator(df),\n",
    "        output_signature=(\n",
    "            tf.TensorSpec(shape=(8, 224, 224, 3)),\n",
    "            tf.TensorSpec(shape=(34,), dtype=tf.float32)\n",
    "        ))\n",
    "    \n",
    "    dataset = dataset.batch(batch_size)\n",
    "    \n",
    "    dataset = dataset.prefetch(tf.data.AUTOTUNE)\n",
    "    \n",
    "    return dataset"
   ]
  },
  {
   "cell_type": "code",
   "execution_count": 61,
   "id": "00492c72-64a3-4049-a546-8d57ae3db227",
   "metadata": {
    "execution": {
     "iopub.execute_input": "2025-05-25T12:04:23.788890Z",
     "iopub.status.busy": "2025-05-25T12:04:23.787676Z",
     "iopub.status.idle": "2025-05-25T12:04:23.799847Z",
     "shell.execute_reply": "2025-05-25T12:04:23.799159Z",
     "shell.execute_reply.started": "2025-05-25T12:04:23.788845Z"
    },
    "tags": []
   },
   "outputs": [],
   "source": [
    "def get_actual_predicted_labels(dataset):\n",
    "    \"\"\"\n",
    "    Create a list of actual ground truth values and the predictions from the model.\n",
    "\n",
    "    Args:\n",
    "      dataset: An iterable data structure, such as a TensorFlow Dataset, with features and labels.\n",
    "\n",
    "    Return:\n",
    "      Ground truth and predicted values for a particular dataset.\n",
    "    \"\"\"\n",
    "    actual = test_df[\"text\"].to_list()\n",
    "    predicted = model.predict(dataset)\n",
    "\n",
    "    actual = tf.stack(actual, axis=0)\n",
    "    predicted = tf.concat(predicted, axis=0)\n",
    "    predicted = tf.argmax(predicted, axis=1)\n",
    "\n",
    "    return actual, predicted"
   ]
  },
  {
   "cell_type": "code",
   "execution_count": 62,
   "id": "ab65a82c-fd77-4852-b212-78c5615d6b98",
   "metadata": {
    "execution": {
     "iopub.execute_input": "2025-05-25T12:04:25.960645Z",
     "iopub.status.busy": "2025-05-25T12:04:25.959323Z",
     "iopub.status.idle": "2025-05-25T12:04:25.977111Z",
     "shell.execute_reply": "2025-05-25T12:04:25.976414Z",
     "shell.execute_reply.started": "2025-05-25T12:04:25.960601Z"
    },
    "tags": []
   },
   "outputs": [],
   "source": [
    "def plot_confusion_matrix(actual, predicted, labels, ds_type):\n",
    "    cm = tf.math.confusion_matrix(actual, predicted)\n",
    "    ax = sns.heatmap(cm, annot=True, fmt=\"g\")\n",
    "    sns.set(rc={\"figure.figsize\": (20, 20)})\n",
    "    sns.set(font_scale=1.4)\n",
    "    ax.set_title(\"Confusion matrix of action recognition for \" + ds_type)\n",
    "    ax.set_xlabel(\"Predicted Action\")\n",
    "    ax.set_ylabel(\"Actual Action\")\n",
    "    plt.xticks(rotation=90)\n",
    "    plt.yticks(rotation=0)\n",
    "    ax.xaxis.set_ticklabels(labels)\n",
    "    ax.yaxis.set_ticklabels(labels)\n",
    "    fig = ax.get_figure()\n",
    "    fig.savefig(\"out.png\") "
   ]
  },
  {
   "cell_type": "code",
   "execution_count": 63,
   "id": "9d2c3fdf-fce1-4983-82f4-1fdc77d63e8f",
   "metadata": {
    "execution": {
     "iopub.execute_input": "2025-05-25T12:04:26.423544Z",
     "iopub.status.busy": "2025-05-25T12:04:26.422662Z",
     "iopub.status.idle": "2025-05-25T12:04:26.455873Z",
     "shell.execute_reply": "2025-05-25T12:04:26.455075Z",
     "shell.execute_reply.started": "2025-05-25T12:04:26.423502Z"
    },
    "tags": []
   },
   "outputs": [],
   "source": [
    "valid_ds = create_validation_dataset(test_df, batch_size)"
   ]
  },
  {
   "cell_type": "code",
   "execution_count": 64,
   "id": "953cb0d9-0608-43ae-9c0f-08c72ffae746",
   "metadata": {
    "execution": {
     "iopub.execute_input": "2025-05-25T12:04:26.943182Z",
     "iopub.status.busy": "2025-05-25T12:04:26.941852Z",
     "iopub.status.idle": "2025-05-25T12:05:04.167361Z",
     "shell.execute_reply": "2025-05-25T12:05:04.166410Z",
     "shell.execute_reply.started": "2025-05-25T12:04:26.943147Z"
    },
    "tags": []
   },
   "outputs": [
    {
     "name": "stderr",
     "output_type": "stream",
     "text": [
      "2025-05-25 12:04:26.953452: I tensorflow/core/common_runtime/executor.cc:1197] [/device:CPU:0] (DEBUG INFO) Executor start aborting (this does not indicate an error and you can ignore this message): INVALID_ARGUMENT: You must feed a value for placeholder tensor 'Placeholder/_0' with dtype int32\n",
      "\t [[{{node Placeholder/_0}}]]\n"
     ]
    },
    {
     "name": "stdout",
     "output_type": "stream",
     "text": [
      "43/43 [==============================] - 37s 832ms/step\n"
     ]
    }
   ],
   "source": [
    "actual, predicted = get_actual_predicted_labels(valid_ds)"
   ]
  },
  {
   "cell_type": "code",
   "execution_count": 65,
   "id": "682c1029-e9ca-42ae-a4b9-acdb52613808",
   "metadata": {
    "execution": {
     "iopub.execute_input": "2025-05-25T12:05:04.170375Z",
     "iopub.status.busy": "2025-05-25T12:05:04.169036Z",
     "iopub.status.idle": "2025-05-25T12:05:08.341144Z",
     "shell.execute_reply": "2025-05-25T12:05:08.340158Z",
     "shell.execute_reply.started": "2025-05-25T12:05:04.170305Z"
    },
    "tags": []
   },
   "outputs": [
    {
     "data": {
      "image/png": "[encoded data removed]",
      "text/plain": [
       "<Figure size 2000x2000 with 2 Axes>"
      ]
     },
     "metadata": {},
     "output_type": "display_data"
    }
   ],
   "source": [
    "plot_confusion_matrix(actual, predicted, list(label_map.keys()), 'test')"
   ]
  },
  {
   "cell_type": "code",
   "execution_count": 66,
   "id": "463f566f-8277-4dfa-969e-5aac2a8fb11c",
   "metadata": {
    "execution": {
     "iopub.execute_input": "2025-05-25T12:05:08.343623Z",
     "iopub.status.busy": "2025-05-25T12:05:08.342657Z",
     "iopub.status.idle": "2025-05-25T12:05:08.362730Z",
     "shell.execute_reply": "2025-05-25T12:05:08.361912Z",
     "shell.execute_reply.started": "2025-05-25T12:05:08.343587Z"
    },
    "tags": []
   },
   "outputs": [],
   "source": [
    "from sklearn.metrics import accuracy_score"
   ]
  },
  {
   "cell_type": "code",
   "execution_count": null,
   "id": "87e7a8c5-024d-453c-a562-6bd3ee4482d5",
   "metadata": {
    "execution": {
     "iopub.execute_input": "2025-05-25T12:05:08.364884Z",
     "iopub.status.busy": "2025-05-25T12:05:08.363686Z",
     "iopub.status.idle": "2025-05-25T12:05:08.383219Z",
     "shell.execute_reply": "2025-05-25T12:05:08.382359Z",
     "shell.execute_reply.started": "2025-05-25T12:05:08.364845Z"
    },
    "tags": []
   },
   "outputs": [
    {
     "data": {
      "text/plain": [
       "0.5352941176470588"
      ]
     },
     "execution_count": 67,
     "metadata": {},
     "output_type": "execute_result"
    }
   ],
   "source": [
    "accuracy_score(predicted, actual)"
   ]
  },
  {
   "cell_type": "code",
   "execution_count": 70,
   "id": "25a11a05-a8c8-475c-8bf6-716c661012a4",
   "metadata": {
    "execution": {
     "iopub.execute_input": "2025-05-25T12:18:37.532689Z",
     "iopub.status.busy": "2025-05-25T12:18:37.531551Z",
     "iopub.status.idle": "2025-05-25T12:18:40.086090Z",
     "shell.execute_reply": "2025-05-25T12:18:40.085186Z",
     "shell.execute_reply.started": "2025-05-25T12:18:37.532642Z"
    },
    "tags": []
   },
   "outputs": [
    {
     "name": "stderr",
     "output_type": "stream",
     "text": [
      "WARNING:absl:Please consider providing the trackable_obj argument in the from_concrete_functions. Providing without the trackable_obj argument is deprecated and it will use the deprecated conversion path.\n",
      "2025-05-25 12:18:38.031341: I tensorflow/core/grappler/devices.cc:66] Number of eligible GPUs (core count >= 8, compute capability >= 0.0): 0\n",
      "2025-05-25 12:18:38.031522: I tensorflow/core/grappler/clusters/single_machine.cc:358] Starting new session\n",
      "2025-05-25 12:18:39.488110: W tensorflow/compiler/mlir/lite/python/tf_tfl_flatbuffer_helpers.cc:364] Ignored output_format.\n",
      "2025-05-25 12:18:39.488159: W tensorflow/compiler/mlir/lite/python/tf_tfl_flatbuffer_helpers.cc:367] Ignored drop_control_dependency.\n",
      "2025-05-25 12:18:39.768240: I tensorflow/compiler/mlir/lite/flatbuffer_export.cc:2116] Estimated count of arithmetic ops: 4.848 G  ops, equivalently 2.424 G  MACs\n"
     ]
    }
   ],
   "source": [
    "import tensorflow as tf\n",
    "\n",
    "\n",
    "batch_size = 1\n",
    "input_shape = (batch_size, num_segments, 224, 224, 3)\n",
    "\n",
    "\n",
    "@tf.function(input_signature=[tf.TensorSpec(input_shape, tf.float32)])\n",
    "def model_func(inputs):\n",
    "    return model(inputs)\n",
    "\n",
    "converter = tf.lite.TFLiteConverter.from_concrete_functions([model_func.get_concrete_function()])\n",
    "\n",
    "tflite_model = converter.convert()\n",
    "\n",
    "with open('mobilenetv2-tsm-bukva.tflite', 'wb') as f:\n",
    "    f.write(tflite_model)\n"
   ]
  },
  {
   "cell_type": "code",
   "execution_count": null,
   "id": "ff4e7282-8f6c-4680-a9e6-073bcb24a227",
   "metadata": {},
   "outputs": [],
   "source": []
  }
 ],
 "metadata": {
  "kernelspec": {
   "display_name": "DataSphere Kernel",
   "language": "python",
   "name": "python3"
  },
  "language_info": {
   "codemirror_mode": {
    "name": "ipython",
    "version": 3
   },
   "file_extension": ".py",
   "mimetype": "text/x-python",
   "name": "python",
   "nbconvert_exporter": "python",
   "pygments_lexer": "ipython3",
   "version": "3.10.12"
  }
 },
 "nbformat": 4,
 "nbformat_minor": 5
}
