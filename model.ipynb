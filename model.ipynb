{
 "cells": [
  {
   "cell_type": "code",
   "execution_count": 31,
   "id": "fa0624b2",
   "metadata": {
    "execution": {
     "iopub.execute_input": "2025-05-10T15:20:57.102809Z",
     "iopub.status.busy": "2025-05-10T15:20:57.100187Z",
     "iopub.status.idle": "2025-05-10T15:20:57.138183Z",
     "shell.execute_reply": "2025-05-10T15:20:57.135628Z",
     "shell.execute_reply.started": "2025-05-10T15:20:57.102723Z"
    },
    "tags": []
   },
   "outputs": [],
   "source": [
    "import os\n",
    "import pandas as pd\n",
    "import numpy as np\n",
    "import tensorflow as tf\n",
    "import tensorflow.keras as keras\n",
    "from tensorflow.keras import layers, models, optimizers, callbacks\n",
    "from sklearn.model_selection import train_test_split\n",
    "import cv2\n",
    "from tqdm import tqdm\n",
    "import math"
   ]
  },
  {
   "cell_type": "code",
   "execution_count": 32,
   "id": "ccf746a8-9f76-44c9-a156-531ca4563e81",
   "metadata": {
    "execution": {
     "iopub.execute_input": "2025-05-10T15:20:57.152068Z",
     "iopub.status.busy": "2025-05-10T15:20:57.140384Z",
     "iopub.status.idle": "2025-05-10T15:20:57.184747Z",
     "shell.execute_reply": "2025-05-10T15:20:57.182857Z",
     "shell.execute_reply.started": "2025-05-10T15:20:57.151967Z"
    },
    "tags": []
   },
   "outputs": [
    {
     "name": "stdout",
     "output_type": "stream",
     "text": [
      "Num GPUs Available:  1\n"
     ]
    }
   ],
   "source": [
    "print(\"Num GPUs Available: \", len(tf.config.list_physical_devices('GPU')))"
   ]
  },
  {
   "cell_type": "code",
   "execution_count": 33,
   "id": "ad7d9ddf",
   "metadata": {
    "execution": {
     "iopub.execute_input": "2025-05-10T15:20:57.190373Z",
     "iopub.status.busy": "2025-05-10T15:20:57.187724Z",
     "iopub.status.idle": "2025-05-10T15:20:57.218245Z",
     "shell.execute_reply": "2025-05-10T15:20:57.216040Z",
     "shell.execute_reply.started": "2025-05-10T15:20:57.190317Z"
    },
    "tags": []
   },
   "outputs": [],
   "source": [
    "import tensorflow as tf\n",
    "from tensorflow.keras.layers import Layer, Conv2D, DepthwiseConv2D, BatchNormalization, ReLU, Input, Add, Dense, TimeDistributed, GlobalAveragePooling2D, Lambda, Softmax, Dropout, Flatten\n",
    "from tensorflow.keras.models import Model"
   ]
  },
  {
   "cell_type": "code",
   "execution_count": 34,
   "id": "aee29d62",
   "metadata": {
    "execution": {
     "iopub.execute_input": "2025-05-10T15:20:57.225316Z",
     "iopub.status.busy": "2025-05-10T15:20:57.223459Z",
     "iopub.status.idle": "2025-05-10T15:20:57.266098Z",
     "shell.execute_reply": "2025-05-10T15:20:57.263179Z",
     "shell.execute_reply.started": "2025-05-10T15:20:57.225259Z"
    },
    "tags": []
   },
   "outputs": [],
   "source": [
    "class TemporalShift(Layer):\n",
    "    def __init__(self, num_segments=8, fold_div=8, **kwargs):\n",
    "        super().__init__(**kwargs)\n",
    "        self.num_segments = num_segments\n",
    "        self.fold_div = fold_div\n",
    "\n",
    "    def call(self, x):\n",
    "        # [B*T, H, W, C]\n",
    "        bt = tf.shape(x)[0]\n",
    "        h, w, c = tf.shape(x)[1], tf.shape(x)[2], tf.shape(x)[3]\n",
    "        batch = bt // self.num_segments\n",
    "        # [B, T, H, W, C]\n",
    "        x = tf.reshape(x, (batch, self.num_segments, h, w, c))\n",
    "\n",
    "        fold = c // self.fold_div\n",
    "        left = tf.concat([x[:, 1:, :, :, :fold],\n",
    "                          tf.zeros_like(x[:, :1, :, :, :fold])], axis=1)\n",
    "        right = tf.concat([tf.zeros_like(x[:, :1, :, :, fold:2*fold]),\n",
    "                           x[:, :-1, :, :, fold:2*fold]], axis=1)\n",
    "        rest = x[:, :, :, :, 2*fold:]\n",
    "        x_shift = tf.concat([left, right, rest], axis=-1)\n",
    "\n",
    "        # [B*T, H, W, C]\n",
    "        return tf.reshape(x_shift, (bt, h, w, c))\n",
    "\n",
    "    def compute_output_shape(self, input_shape):\n",
    "        return input_shape"
   ]
  },
  {
   "cell_type": "code",
   "execution_count": 35,
   "id": "83e1a67c-6c66-4acf-90ff-26a367292aae",
   "metadata": {
    "execution": {
     "iopub.execute_input": "2025-05-10T15:20:57.274151Z",
     "iopub.status.busy": "2025-05-10T15:20:57.271714Z",
     "iopub.status.idle": "2025-05-10T15:20:57.303655Z",
     "shell.execute_reply": "2025-05-10T15:20:57.301272Z",
     "shell.execute_reply.started": "2025-05-10T15:20:57.274068Z"
    },
    "tags": []
   },
   "outputs": [],
   "source": [
    "def insert_temporal_shift(mobilenet, num_segments=8, fold_div=8):\n",
    "\n",
    "    raw_input = tf.keras.Input(shape=(num_segments, 224, 224, 3), name='input')\n",
    "    flat_input = tf.keras.layers.Lambda(\n",
    "        lambda z: tf.reshape(z, (-1, 224, 224, 3)), name='flatten_bt'\n",
    "    )(raw_input)\n",
    "\n",
    "    layer_outputs = {}\n",
    "    layer_outputs[mobilenet.layers[0].name] = flat_input\n",
    "\n",
    "    for layer in mobilenet.layers[1:]:\n",
    "        inbound_nodes = layer._inbound_nodes\n",
    "        if not inbound_nodes:\n",
    "            continue\n",
    "\n",
    "        inputs = []\n",
    "        for node in inbound_nodes:\n",
    "            input_tensors = node.input_tensors\n",
    "            if not isinstance(input_tensors, (list, tuple)):\n",
    "                input_tensors = [input_tensors]\n",
    "            for pred in input_tensors:\n",
    "                pred_name = pred._keras_history.layer.name\n",
    "                inputs.append(layer_outputs[pred_name])\n",
    "\n",
    "        x = inputs[0] if len(inputs) == 1 else inputs\n",
    "\n",
    "\n",
    "        if isinstance(layer, tf.keras.layers.DepthwiseConv2D):\n",
    "            x = TemporalShift(num_segments=num_segments, fold_div=fold_div)(x)\n",
    "\n",
    "        out = layer(x)\n",
    "        layer_outputs[layer.name] = out\n",
    "\n",
    "\n",
    "    model = tf.keras.Model(inputs=raw_input, outputs=out, name=\"mobilenetv2_tsm\")\n",
    "    return model"
   ]
  },
  {
   "cell_type": "code",
   "execution_count": 36,
   "id": "449c3423",
   "metadata": {
    "execution": {
     "iopub.execute_input": "2025-05-10T15:20:57.320134Z",
     "iopub.status.busy": "2025-05-10T15:20:57.318842Z",
     "iopub.status.idle": "2025-05-10T15:20:57.359948Z",
     "shell.execute_reply": "2025-05-10T15:20:57.357818Z",
     "shell.execute_reply.started": "2025-05-10T15:20:57.320081Z"
    },
    "tags": []
   },
   "outputs": [],
   "source": [
    "annot = pd.read_csv(\"/home/jupyter/datasphere/project/annotations.tsv\", sep=\"\\t\")"
   ]
  },
  {
   "cell_type": "code",
   "execution_count": 37,
   "id": "4f64f35d",
   "metadata": {
    "execution": {
     "iopub.execute_input": "2025-05-10T15:20:57.364912Z",
     "iopub.status.busy": "2025-05-10T15:20:57.363348Z",
     "iopub.status.idle": "2025-05-10T15:20:57.434342Z",
     "shell.execute_reply": "2025-05-10T15:20:57.432377Z",
     "shell.execute_reply.started": "2025-05-10T15:20:57.364860Z"
    },
    "tags": []
   },
   "outputs": [
    {
     "data": {
      "text/html": [
       "<div>\n",
       "<style scoped>\n",
       "    .dataframe tbody tr th:only-of-type {\n",
       "        vertical-align: middle;\n",
       "    }\n",
       "\n",
       "    .dataframe tbody tr th {\n",
       "        vertical-align: top;\n",
       "    }\n",
       "\n",
       "    .dataframe thead th {\n",
       "        text-align: right;\n",
       "    }\n",
       "</style>\n",
       "<table border=\"1\" class=\"dataframe\">\n",
       "  <thead>\n",
       "    <tr style=\"text-align: right;\">\n",
       "      <th></th>\n",
       "      <th>attachment_id</th>\n",
       "      <th>user_id</th>\n",
       "      <th>text</th>\n",
       "      <th>begin</th>\n",
       "      <th>end</th>\n",
       "      <th>height</th>\n",
       "      <th>width</th>\n",
       "      <th>train</th>\n",
       "      <th>length</th>\n",
       "    </tr>\n",
       "  </thead>\n",
       "  <tbody>\n",
       "    <tr>\n",
       "      <th>0</th>\n",
       "      <td>df5b08f0-41d1-4572-889c-8b893e71069b</td>\n",
       "      <td>185bd3a81d9d618518d10abebf0d17a8</td>\n",
       "      <td>А</td>\n",
       "      <td>36</td>\n",
       "      <td>76</td>\n",
       "      <td>1920</td>\n",
       "      <td>1080</td>\n",
       "      <td>False</td>\n",
       "      <td>150</td>\n",
       "    </tr>\n",
       "    <tr>\n",
       "      <th>1</th>\n",
       "      <td>3d2b6a08-131d-40a9-9533-cf45cefb07fd</td>\n",
       "      <td>9a0784a99ea13a8b06cb103c2c8c7f0f</td>\n",
       "      <td>А</td>\n",
       "      <td>31</td>\n",
       "      <td>63</td>\n",
       "      <td>1920</td>\n",
       "      <td>1080</td>\n",
       "      <td>True</td>\n",
       "      <td>78</td>\n",
       "    </tr>\n",
       "    <tr>\n",
       "      <th>2</th>\n",
       "      <td>1915f996-71ed-44ae-9a34-ee1959919238</td>\n",
       "      <td>ca6b767f0cccf093ba737ae2fc4fec3d</td>\n",
       "      <td>А</td>\n",
       "      <td>25</td>\n",
       "      <td>81</td>\n",
       "      <td>1920</td>\n",
       "      <td>1080</td>\n",
       "      <td>True</td>\n",
       "      <td>98</td>\n",
       "    </tr>\n",
       "    <tr>\n",
       "      <th>3</th>\n",
       "      <td>bfb2d7ae-0f6c-4e20-b087-0965641d34ff</td>\n",
       "      <td>0ab4f8e463cdded2e59d6001f4e1b487</td>\n",
       "      <td>А</td>\n",
       "      <td>18</td>\n",
       "      <td>47</td>\n",
       "      <td>1080</td>\n",
       "      <td>1920</td>\n",
       "      <td>False</td>\n",
       "      <td>82</td>\n",
       "    </tr>\n",
       "    <tr>\n",
       "      <th>4</th>\n",
       "      <td>24936cc5-e5bb-43a3-96b8-2a9b4a6d157f</td>\n",
       "      <td>a95892dae1d320bd8b08cbca6a127cd8</td>\n",
       "      <td>А</td>\n",
       "      <td>6</td>\n",
       "      <td>33</td>\n",
       "      <td>1080</td>\n",
       "      <td>1920</td>\n",
       "      <td>False</td>\n",
       "      <td>40</td>\n",
       "    </tr>\n",
       "    <tr>\n",
       "      <th>...</th>\n",
       "      <td>...</td>\n",
       "      <td>...</td>\n",
       "      <td>...</td>\n",
       "      <td>...</td>\n",
       "      <td>...</td>\n",
       "      <td>...</td>\n",
       "      <td>...</td>\n",
       "      <td>...</td>\n",
       "      <td>...</td>\n",
       "    </tr>\n",
       "    <tr>\n",
       "      <th>3857</th>\n",
       "      <td>c6fd8cec-5984-4101-9616-acf180e89a81</td>\n",
       "      <td>08b8fc47e7a869751c13f64a922e6c15</td>\n",
       "      <td>Ю</td>\n",
       "      <td>44</td>\n",
       "      <td>173</td>\n",
       "      <td>1920</td>\n",
       "      <td>1080</td>\n",
       "      <td>True</td>\n",
       "      <td>236</td>\n",
       "    </tr>\n",
       "    <tr>\n",
       "      <th>3858</th>\n",
       "      <td>1f4cdeed-c5a1-46dc-9eaa-af40cf662d86</td>\n",
       "      <td>f15c4e5b9dfe541cf7e6c05733b579e2</td>\n",
       "      <td>Ю</td>\n",
       "      <td>10</td>\n",
       "      <td>96</td>\n",
       "      <td>1920</td>\n",
       "      <td>1080</td>\n",
       "      <td>True</td>\n",
       "      <td>97</td>\n",
       "    </tr>\n",
       "    <tr>\n",
       "      <th>3859</th>\n",
       "      <td>4208dbab-bea9-4d81-bbfb-7c7a028a4341</td>\n",
       "      <td>7faa41c4cf0a2602a23390de23574993</td>\n",
       "      <td>Я</td>\n",
       "      <td>80</td>\n",
       "      <td>163</td>\n",
       "      <td>1080</td>\n",
       "      <td>1920</td>\n",
       "      <td>True</td>\n",
       "      <td>197</td>\n",
       "    </tr>\n",
       "    <tr>\n",
       "      <th>3860</th>\n",
       "      <td>53f4f947-9f8b-4aba-ac8b-ebc2655d15ff</td>\n",
       "      <td>ff169f3bbab458308b88188be3657125</td>\n",
       "      <td>Я</td>\n",
       "      <td>19</td>\n",
       "      <td>110</td>\n",
       "      <td>1920</td>\n",
       "      <td>1080</td>\n",
       "      <td>True</td>\n",
       "      <td>200</td>\n",
       "    </tr>\n",
       "    <tr>\n",
       "      <th>3861</th>\n",
       "      <td>41e6d879-d8b1-476e-b5f1-0a214395ba2d</td>\n",
       "      <td>d01fdbbbd69ec8c4914397ba4abb899c</td>\n",
       "      <td>Я</td>\n",
       "      <td>1</td>\n",
       "      <td>110</td>\n",
       "      <td>1920</td>\n",
       "      <td>1080</td>\n",
       "      <td>True</td>\n",
       "      <td>111</td>\n",
       "    </tr>\n",
       "  </tbody>\n",
       "</table>\n",
       "<p>3862 rows × 9 columns</p>\n",
       "</div>"
      ],
      "text/plain": [
       "                             attachment_id  ... length\n",
       "0     df5b08f0-41d1-4572-889c-8b893e71069b  ...    150\n",
       "1     3d2b6a08-131d-40a9-9533-cf45cefb07fd  ...     78\n",
       "2     1915f996-71ed-44ae-9a34-ee1959919238  ...     98\n",
       "3     bfb2d7ae-0f6c-4e20-b087-0965641d34ff  ...     82\n",
       "4     24936cc5-e5bb-43a3-96b8-2a9b4a6d157f  ...     40\n",
       "...                                    ...  ...    ...\n",
       "3857  c6fd8cec-5984-4101-9616-acf180e89a81  ...    236\n",
       "3858  1f4cdeed-c5a1-46dc-9eaa-af40cf662d86  ...     97\n",
       "3859  4208dbab-bea9-4d81-bbfb-7c7a028a4341  ...    197\n",
       "3860  53f4f947-9f8b-4aba-ac8b-ebc2655d15ff  ...    200\n",
       "3861  41e6d879-d8b1-476e-b5f1-0a214395ba2d  ...    111\n",
       "\n",
       "[3862 rows x 9 columns]"
      ]
     },
     "execution_count": 37,
     "metadata": {},
     "output_type": "execute_result"
    }
   ],
   "source": [
    "annot"
   ]
  },
  {
   "cell_type": "code",
   "execution_count": 38,
   "id": "c1f059c6",
   "metadata": {
    "execution": {
     "iopub.execute_input": "2025-05-10T15:20:57.438442Z",
     "iopub.status.busy": "2025-05-10T15:20:57.437709Z",
     "iopub.status.idle": "2025-05-10T15:20:57.460728Z",
     "shell.execute_reply": "2025-05-10T15:20:57.459061Z",
     "shell.execute_reply.started": "2025-05-10T15:20:57.438376Z"
    },
    "tags": []
   },
   "outputs": [],
   "source": [
    "annot.drop(columns=[\"user_id\", \"begin\", \"end\", \"height\", \"width\", \"length\"], inplace=True)"
   ]
  },
  {
   "cell_type": "code",
   "execution_count": 39,
   "id": "a749d3f7",
   "metadata": {
    "execution": {
     "iopub.execute_input": "2025-05-10T15:20:57.464467Z",
     "iopub.status.busy": "2025-05-10T15:20:57.463193Z",
     "iopub.status.idle": "2025-05-10T15:20:57.488735Z",
     "shell.execute_reply": "2025-05-10T15:20:57.486959Z",
     "shell.execute_reply.started": "2025-05-10T15:20:57.464418Z"
    },
    "tags": []
   },
   "outputs": [],
   "source": [
    "label_map = {\"А\":1, \"Б\":2, \"В\":3, \"Г\":4, \"Д\":5, \"Е\":6, \"Ё\":7, \"Ж\":8, \"З\":9, \"И\":10, \"Й\":11, \"К\":12, \"Л\":13, \"М\":14, \"Н\":15, \"О\":16, \"П\":17, \"Р\":18, \"С\":19, \"Т\":20, \"У\":21, \"Ф\":22, \"Х\":23, \"Ц\":24, \"Ч\":25, \"Ш\":26, \"Щ\":27, \"Ъ\":28, \"Ы\":29, \"Ь\":30, \"Э\":31, \"Ю\":32, \"Я\":33, \"no_event\":0}"
   ]
  },
  {
   "cell_type": "code",
   "execution_count": 40,
   "id": "a02bf043",
   "metadata": {
    "execution": {
     "iopub.execute_input": "2025-05-10T15:20:57.493873Z",
     "iopub.status.busy": "2025-05-10T15:20:57.490829Z",
     "iopub.status.idle": "2025-05-10T15:20:57.529351Z",
     "shell.execute_reply": "2025-05-10T15:20:57.527491Z",
     "shell.execute_reply.started": "2025-05-10T15:20:57.493819Z"
    },
    "tags": []
   },
   "outputs": [],
   "source": [
    "annot[\"text\"] = annot[\"text\"].apply(lambda x: label_map[x])"
   ]
  },
  {
   "cell_type": "code",
   "execution_count": 41,
   "id": "4fbe6286",
   "metadata": {
    "execution": {
     "iopub.execute_input": "2025-05-10T15:20:57.535907Z",
     "iopub.status.busy": "2025-05-10T15:20:57.534763Z",
     "iopub.status.idle": "2025-05-10T15:20:57.559612Z",
     "shell.execute_reply": "2025-05-10T15:20:57.557649Z",
     "shell.execute_reply.started": "2025-05-10T15:20:57.535857Z"
    },
    "tags": []
   },
   "outputs": [
    {
     "name": "stdout",
     "output_type": "stream",
     "text": [
      "(3182, 2)\n"
     ]
    }
   ],
   "source": [
    "from sklearn.model_selection import train_test_split\n",
    "\n",
    "train_df = annot[annot[\"train\"] == True].drop(\"train\", axis=1)\n",
    "\n",
    "print(train_df.shape)"
   ]
  },
  {
   "cell_type": "code",
   "execution_count": 42,
   "id": "43a61296",
   "metadata": {
    "execution": {
     "iopub.execute_input": "2025-05-10T15:20:57.563292Z",
     "iopub.status.busy": "2025-05-10T15:20:57.561690Z",
     "iopub.status.idle": "2025-05-10T15:20:57.588158Z",
     "shell.execute_reply": "2025-05-10T15:20:57.586016Z",
     "shell.execute_reply.started": "2025-05-10T15:20:57.563244Z"
    },
    "tags": []
   },
   "outputs": [
    {
     "data": {
      "text/plain": [
       "(680, 2)"
      ]
     },
     "execution_count": 42,
     "metadata": {},
     "output_type": "execute_result"
    }
   ],
   "source": [
    "test_df = annot[annot[\"train\"] == False].drop(\"train\", axis=1)\n",
    "test_df.shape"
   ]
  },
  {
   "cell_type": "markdown",
   "id": "3e218c0e",
   "metadata": {},
   "source": [
    "### Создание датасета"
   ]
  },
  {
   "cell_type": "code",
   "execution_count": 43,
   "id": "6258bdf2",
   "metadata": {
    "execution": {
     "iopub.execute_input": "2025-05-10T15:20:57.593467Z",
     "iopub.status.busy": "2025-05-10T15:20:57.590736Z",
     "iopub.status.idle": "2025-05-10T15:20:57.614981Z",
     "shell.execute_reply": "2025-05-10T15:20:57.613339Z",
     "shell.execute_reply.started": "2025-05-10T15:20:57.593415Z"
    },
    "tags": []
   },
   "outputs": [],
   "source": [
    "NUM_FRAMES = 8\n",
    "NUM_CLASSES = 34"
   ]
  },
  {
   "cell_type": "code",
   "execution_count": 44,
   "id": "f278c92c",
   "metadata": {
    "execution": {
     "iopub.execute_input": "2025-05-10T15:20:57.619020Z",
     "iopub.status.busy": "2025-05-10T15:20:57.617227Z",
     "iopub.status.idle": "2025-05-10T15:20:57.634426Z",
     "shell.execute_reply": "2025-05-10T15:20:57.632945Z",
     "shell.execute_reply.started": "2025-05-10T15:20:57.618944Z"
    },
    "tags": []
   },
   "outputs": [],
   "source": [
    "ROOT_DIR = \"/home/jupyter/datasphere/project/processed\""
   ]
  },
  {
   "cell_type": "code",
   "execution_count": 45,
   "id": "45248a8d",
   "metadata": {
    "execution": {
     "iopub.execute_input": "2025-05-10T15:20:57.637992Z",
     "iopub.status.busy": "2025-05-10T15:20:57.636561Z",
     "iopub.status.idle": "2025-05-10T15:20:57.656871Z",
     "shell.execute_reply": "2025-05-10T15:20:57.655198Z",
     "shell.execute_reply.started": "2025-05-10T15:20:57.637952Z"
    },
    "tags": []
   },
   "outputs": [],
   "source": [
    "def sample_frame_paths(video_dir, num_frames=NUM_FRAMES):\n",
    "\n",
    "    all_frames = sorted([\n",
    "        os.path.join(video_dir, fname)\n",
    "        for fname in os.listdir(video_dir)\n",
    "        if fname.endswith(\".jpg\")\n",
    "    ])\n",
    "    total = len(all_frames)\n",
    "\n",
    "    return [all_frames[i] for i in range(8)]\n"
   ]
  },
  {
   "cell_type": "code",
   "execution_count": 46,
   "id": "da8eca9f",
   "metadata": {
    "execution": {
     "iopub.execute_input": "2025-05-10T15:20:57.660603Z",
     "iopub.status.busy": "2025-05-10T15:20:57.659692Z",
     "iopub.status.idle": "2025-05-10T15:20:57.682854Z",
     "shell.execute_reply": "2025-05-10T15:20:57.680363Z",
     "shell.execute_reply.started": "2025-05-10T15:20:57.660550Z"
    },
    "tags": []
   },
   "outputs": [],
   "source": [
    "def load_and_preprocess(path):\n",
    "    img = tf.io.read_file(path)\n",
    "    img = tf.image.decode_jpeg(img, channels=3)\n",
    "\n",
    "    return tf.cast(img, tf.float32) / 255.0\n"
   ]
  },
  {
   "cell_type": "code",
   "execution_count": 47,
   "id": "44e237b6",
   "metadata": {
    "execution": {
     "iopub.execute_input": "2025-05-10T15:20:57.686739Z",
     "iopub.status.busy": "2025-05-10T15:20:57.685036Z",
     "iopub.status.idle": "2025-05-10T15:20:57.724324Z",
     "shell.execute_reply": "2025-05-10T15:20:57.722271Z",
     "shell.execute_reply.started": "2025-05-10T15:20:57.686703Z"
    },
    "tags": []
   },
   "outputs": [],
   "source": [
    "def load_video(path, label):\n",
    "        \n",
    "    frame_paths = sample_frame_paths(path)\n",
    "\n",
    "    frames = []\n",
    "    for p in frame_paths:\n",
    "        frames.append(load_and_preprocess(p))\n",
    "    # frames.shape == (8, 224, 224, 3)\n",
    "    frames = tf.stack(frames)\n",
    "    return frames, label\n"
   ]
  },
  {
   "cell_type": "code",
   "execution_count": 48,
   "id": "9f51e1d3-14ba-474b-a289-b595fbbde36a",
   "metadata": {
    "execution": {
     "iopub.execute_input": "2025-05-10T15:20:57.727842Z",
     "iopub.status.busy": "2025-05-10T15:20:57.726709Z",
     "iopub.status.idle": "2025-05-10T15:20:57.808382Z",
     "shell.execute_reply": "2025-05-10T15:20:57.806986Z",
     "shell.execute_reply.started": "2025-05-10T15:20:57.727782Z"
    },
    "tags": []
   },
   "outputs": [],
   "source": [
    "data_augmentation = tf.keras.Sequential([\n",
    "    layers.RandomFlip(\"horizontal\"),\n",
    "    layers.RandomZoom(0.1),\n",
    "    layers.RandomRotation(0.1),\n",
    "    #tf.keras.layers.RandomTranslation(height_factor=0.05, width_factor=0.05),\n",
    "])\n",
    "\n",
    "def augment_sequence(images, labels):\n",
    "    batch_size = tf.shape(images)[0]\n",
    "    num_frames = 8\n",
    "    \n",
    "    # (batch, 8, 224, 224, 3) -> (batch*8, 224, 224, 3)\n",
    "    images_reshaped = tf.reshape(images, [-1, 224, 224, 3])\n",
    "    \n",
    "    augmented = data_augmentation(images_reshaped, training=True)\n",
    "    \n",
    "    augmented_sequence = tf.reshape(augmented, [batch_size, num_frames, 224, 224, 3])\n",
    "    \n",
    "    return augmented_sequence, labels"
   ]
  },
  {
   "cell_type": "code",
   "execution_count": 49,
   "id": "9563a668",
   "metadata": {
    "execution": {
     "iopub.execute_input": "2025-05-10T15:20:57.811192Z",
     "iopub.status.busy": "2025-05-10T15:20:57.810232Z",
     "iopub.status.idle": "2025-05-10T15:20:57.949193Z",
     "shell.execute_reply": "2025-05-10T15:20:57.946910Z",
     "shell.execute_reply.started": "2025-05-10T15:20:57.811142Z"
    },
    "tags": []
   },
   "outputs": [],
   "source": [
    "def video_generator(df):\n",
    "    list_video_dirs = df['attachment_id'].apply(lambda x: os.path.join(ROOT_DIR, x)).tolist()\n",
    "    list_labels = tf.one_hot(df['text'].astype(np.int32).tolist(), 34)\n",
    "    for path, label in zip(list_video_dirs, list_labels):\n",
    "        frames, _ = load_video(path, label)\n",
    "        yield frames, label\n",
    "\n",
    "\n",
    "def create_dataset(df, batch_size=8, augment=False, shuffle=False):\n",
    "\n",
    "    dataset = tf.data.Dataset.from_generator(\n",
    "        lambda: video_generator(df),\n",
    "        output_signature=(\n",
    "            tf.TensorSpec(shape=(8, 224, 224, 3)),\n",
    "            tf.TensorSpec(shape=(34,), dtype=tf.float32)\n",
    "        ))\n",
    "    \n",
    "    if shuffle:\n",
    "        dataset = dataset.shuffle(buffer_size=len(df), reshuffle_each_iteration=True)\n",
    "    \n",
    "    dataset = dataset.repeat().batch(batch_size)\n",
    "    \n",
    "    if augment:\n",
    "        dataset = dataset.map(augment_sequence, num_parallel_calls=tf.data.AUTOTUNE)\n",
    "    \n",
    "    dataset = dataset.prefetch(tf.data.AUTOTUNE)\n",
    "    \n",
    "    return dataset"
   ]
  },
  {
   "cell_type": "code",
   "execution_count": 50,
   "id": "39adfcf8",
   "metadata": {
    "execution": {
     "iopub.execute_input": "2025-05-10T15:20:57.954577Z",
     "iopub.status.busy": "2025-05-10T15:20:57.952014Z",
     "iopub.status.idle": "2025-05-10T15:20:58.684251Z",
     "shell.execute_reply": "2025-05-10T15:20:58.682773Z",
     "shell.execute_reply.started": "2025-05-10T15:20:57.954223Z"
    },
    "tags": []
   },
   "outputs": [],
   "source": [
    "batch_size = 16\n",
    "\n",
    "train_ds = create_dataset(train_df, batch_size, augment=True, shuffle=True)\n",
    "test_ds = create_dataset(test_df, batch_size)"
   ]
  },
  {
   "cell_type": "code",
   "execution_count": 51,
   "id": "636bef2c",
   "metadata": {
    "execution": {
     "iopub.execute_input": "2025-05-10T15:20:58.687799Z",
     "iopub.status.busy": "2025-05-10T15:20:58.686437Z",
     "iopub.status.idle": "2025-05-10T15:20:58.708582Z",
     "shell.execute_reply": "2025-05-10T15:20:58.707050Z",
     "shell.execute_reply.started": "2025-05-10T15:20:58.687741Z"
    },
    "tags": []
   },
   "outputs": [
    {
     "data": {
      "text/plain": [
       "<_PrefetchDataset element_spec=(TensorSpec(shape=(None, 8, 224, 224, 3), dtype=tf.float32, name=None), TensorSpec(shape=(None, 34), dtype=tf.float32, name=None))>"
      ]
     },
     "execution_count": 51,
     "metadata": {},
     "output_type": "execute_result"
    }
   ],
   "source": [
    "train_ds"
   ]
  },
  {
   "cell_type": "code",
   "execution_count": 52,
   "id": "ace2b33c",
   "metadata": {
    "execution": {
     "iopub.execute_input": "2025-05-10T15:20:58.712247Z",
     "iopub.status.busy": "2025-05-10T15:20:58.710743Z",
     "iopub.status.idle": "2025-05-10T15:20:58.753442Z",
     "shell.execute_reply": "2025-05-10T15:20:58.751955Z",
     "shell.execute_reply.started": "2025-05-10T15:20:58.712162Z"
    },
    "tags": []
   },
   "outputs": [
    {
     "data": {
      "text/plain": [
       "'\\nfor batch in train_ds.take(1):\\n    frames, labels = batch\\n    print(\"Frames shape:\", frames.shape)\\n    print(\"Labels:\", labels.shape)\\n'"
      ]
     },
     "execution_count": 52,
     "metadata": {},
     "output_type": "execute_result"
    }
   ],
   "source": [
    "'''\n",
    "for batch in train_ds.take(1):\n",
    "    frames, labels = batch\n",
    "    print(\"Frames shape:\", frames.shape)\n",
    "    print(\"Labels:\", labels.shape)\n",
    "'''"
   ]
  },
  {
   "cell_type": "markdown",
   "id": "e55a463d",
   "metadata": {},
   "source": [
    "### Training the model"
   ]
  },
  {
   "cell_type": "code",
   "execution_count": 53,
   "id": "0731bab0-b681-43e3-ba8f-c80f60002810",
   "metadata": {
    "execution": {
     "iopub.execute_input": "2025-05-10T15:20:58.756906Z",
     "iopub.status.busy": "2025-05-10T15:20:58.755155Z",
     "iopub.status.idle": "2025-05-10T15:20:58.778185Z",
     "shell.execute_reply": "2025-05-10T15:20:58.776733Z",
     "shell.execute_reply.started": "2025-05-10T15:20:58.756852Z"
    },
    "tags": []
   },
   "outputs": [
    {
     "name": "stdout",
     "output_type": "stream",
     "text": [
      "Num GPUs Available:  1\n"
     ]
    }
   ],
   "source": [
    "print(\"Num GPUs Available: \", len(tf.config.list_physical_devices('GPU')))"
   ]
  },
  {
   "cell_type": "code",
   "execution_count": 54,
   "id": "51297ce0",
   "metadata": {
    "execution": {
     "iopub.execute_input": "2025-05-10T15:20:58.780402Z",
     "iopub.status.busy": "2025-05-10T15:20:58.779714Z",
     "iopub.status.idle": "2025-05-10T15:20:58.797645Z",
     "shell.execute_reply": "2025-05-10T15:20:58.796088Z",
     "shell.execute_reply.started": "2025-05-10T15:20:58.780335Z"
    },
    "tags": []
   },
   "outputs": [],
   "source": [
    "from tensorflow.keras.optimizers import AdamW\n",
    "from tensorflow.keras.losses import CategoricalCrossentropy\n",
    "from tensorflow.keras.metrics import Accuracy"
   ]
  },
  {
   "cell_type": "code",
   "execution_count": 55,
   "id": "25b977a5",
   "metadata": {
    "execution": {
     "iopub.execute_input": "2025-05-10T15:20:58.800862Z",
     "iopub.status.busy": "2025-05-10T15:20:58.799705Z",
     "iopub.status.idle": "2025-05-10T15:21:02.574343Z",
     "shell.execute_reply": "2025-05-10T15:21:02.572958Z",
     "shell.execute_reply.started": "2025-05-10T15:20:58.800807Z"
    },
    "tags": []
   },
   "outputs": [],
   "source": [
    "num_segments = 8\n",
    "num_classes = 34\n",
    "\n",
    "base_model = tf.keras.applications.MobileNetV2(weights='imagenet', include_top=False, input_shape=(224, 224, 3))\n",
    "\n",
    "tsm_model = insert_temporal_shift(base_model, num_segments=num_segments)\n",
    "\n",
    "for layer in tsm_model.layers:\n",
    "    layer.trainable = False\n",
    "\n",
    "out = GlobalAveragePooling2D()(tsm_model.output)\n",
    "out = Dropout(0.5)(out)\n",
    "\n",
    "out = Flatten(name='flatten')(out)\n",
    "\n",
    "logits = Dense(num_classes, use_bias=True, name='logits')(out)\n",
    "logits = Dropout(0.3)(logits)\n",
    "\n",
    "def unflatten(z):\n",
    "        bt = tf.shape(z)[0]\n",
    "        batch = bt // num_segments\n",
    "        return tf.reshape(z, (batch, num_segments, num_classes))\n",
    "\n",
    "logits = Lambda(unflatten, name='reshape_to_bt_c')(logits)\n",
    "\n",
    "out = Softmax()(logits)\n",
    "\n",
    "out = Lambda(lambda z: tf.reduce_mean(z, axis=1), name='segment_mean')(out)\n",
    "\n",
    "final_model = tf.keras.Model(inputs=tsm_model.input, outputs=out)\n",
    "\n",
    "# Тестовый пример\n",
    "test_input = np.random.rand(8, 224, 224, 3).astype(np.float32)"
   ]
  },
  {
   "cell_type": "code",
   "execution_count": 56,
   "id": "e0f33a60-58c7-4d46-95b5-7856a4e96ff6",
   "metadata": {
    "execution": {
     "iopub.execute_input": "2025-05-10T15:21:02.579592Z",
     "iopub.status.busy": "2025-05-10T15:21:02.578943Z",
     "iopub.status.idle": "2025-05-10T15:21:02.629611Z",
     "shell.execute_reply": "2025-05-10T15:21:02.628423Z",
     "shell.execute_reply.started": "2025-05-10T15:21:02.579558Z"
    },
    "tags": []
   },
   "outputs": [
    {
     "name": "stdout",
     "output_type": "stream",
     "text": [
      "000 | Frozen    | input\n",
      "001 | Frozen    | flatten_bt\n",
      "002 | Frozen    | Conv1\n",
      "003 | Frozen    | bn_Conv1\n",
      "004 | Frozen    | Conv1_relu\n",
      "005 | Frozen    | temporal_shift_17\n",
      "006 | Frozen    | expanded_conv_depthwise\n",
      "007 | Frozen    | expanded_conv_depthwise_BN\n",
      "008 | Frozen    | expanded_conv_depthwise_relu\n",
      "009 | Frozen    | expanded_conv_project\n",
      "010 | Frozen    | expanded_conv_project_BN\n",
      "011 | Frozen    | block_1_expand\n",
      "012 | Frozen    | block_1_expand_BN\n",
      "013 | Frozen    | block_1_expand_relu\n",
      "014 | Frozen    | block_1_pad\n",
      "015 | Frozen    | temporal_shift_18\n",
      "016 | Frozen    | block_1_depthwise\n",
      "017 | Frozen    | block_1_depthwise_BN\n",
      "018 | Frozen    | block_1_depthwise_relu\n",
      "019 | Frozen    | block_1_project\n",
      "020 | Frozen    | block_1_project_BN\n",
      "021 | Frozen    | block_2_expand\n",
      "022 | Frozen    | block_2_expand_BN\n",
      "023 | Frozen    | block_2_expand_relu\n",
      "024 | Frozen    | temporal_shift_19\n",
      "025 | Frozen    | block_2_depthwise\n",
      "026 | Frozen    | block_2_depthwise_BN\n",
      "027 | Frozen    | block_2_depthwise_relu\n",
      "028 | Frozen    | block_2_project\n",
      "029 | Frozen    | block_2_project_BN\n",
      "030 | Frozen    | block_2_add\n",
      "031 | Frozen    | block_3_expand\n",
      "032 | Frozen    | block_3_expand_BN\n",
      "033 | Frozen    | block_3_expand_relu\n",
      "034 | Frozen    | block_3_pad\n",
      "035 | Frozen    | temporal_shift_20\n",
      "036 | Frozen    | block_3_depthwise\n",
      "037 | Frozen    | block_3_depthwise_BN\n",
      "038 | Frozen    | block_3_depthwise_relu\n",
      "039 | Frozen    | block_3_project\n",
      "040 | Frozen    | block_3_project_BN\n",
      "041 | Frozen    | block_4_expand\n",
      "042 | Frozen    | block_4_expand_BN\n",
      "043 | Frozen    | block_4_expand_relu\n",
      "044 | Frozen    | temporal_shift_21\n",
      "045 | Frozen    | block_4_depthwise\n",
      "046 | Frozen    | block_4_depthwise_BN\n",
      "047 | Frozen    | block_4_depthwise_relu\n",
      "048 | Frozen    | block_4_project\n",
      "049 | Frozen    | block_4_project_BN\n",
      "050 | Frozen    | block_4_add\n",
      "051 | Frozen    | block_5_expand\n",
      "052 | Frozen    | block_5_expand_BN\n",
      "053 | Frozen    | block_5_expand_relu\n",
      "054 | Frozen    | temporal_shift_22\n",
      "055 | Frozen    | block_5_depthwise\n",
      "056 | Frozen    | block_5_depthwise_BN\n",
      "057 | Frozen    | block_5_depthwise_relu\n",
      "058 | Frozen    | block_5_project\n",
      "059 | Frozen    | block_5_project_BN\n",
      "060 | Frozen    | block_5_add\n",
      "061 | Frozen    | block_6_expand\n",
      "062 | Frozen    | block_6_expand_BN\n",
      "063 | Frozen    | block_6_expand_relu\n",
      "064 | Frozen    | block_6_pad\n",
      "065 | Frozen    | temporal_shift_23\n",
      "066 | Frozen    | block_6_depthwise\n",
      "067 | Frozen    | block_6_depthwise_BN\n",
      "068 | Frozen    | block_6_depthwise_relu\n",
      "069 | Frozen    | block_6_project\n",
      "070 | Frozen    | block_6_project_BN\n",
      "071 | Frozen    | block_7_expand\n",
      "072 | Frozen    | block_7_expand_BN\n",
      "073 | Frozen    | block_7_expand_relu\n",
      "074 | Frozen    | temporal_shift_24\n",
      "075 | Frozen    | block_7_depthwise\n",
      "076 | Frozen    | block_7_depthwise_BN\n",
      "077 | Frozen    | block_7_depthwise_relu\n",
      "078 | Frozen    | block_7_project\n",
      "079 | Frozen    | block_7_project_BN\n",
      "080 | Frozen    | block_7_add\n",
      "081 | Frozen    | block_8_expand\n",
      "082 | Frozen    | block_8_expand_BN\n",
      "083 | Frozen    | block_8_expand_relu\n",
      "084 | Frozen    | temporal_shift_25\n",
      "085 | Frozen    | block_8_depthwise\n",
      "086 | Frozen    | block_8_depthwise_BN\n",
      "087 | Frozen    | block_8_depthwise_relu\n",
      "088 | Frozen    | block_8_project\n",
      "089 | Frozen    | block_8_project_BN\n",
      "090 | Frozen    | block_8_add\n",
      "091 | Frozen    | block_9_expand\n",
      "092 | Frozen    | block_9_expand_BN\n",
      "093 | Frozen    | block_9_expand_relu\n",
      "094 | Frozen    | temporal_shift_26\n",
      "095 | Frozen    | block_9_depthwise\n",
      "096 | Frozen    | block_9_depthwise_BN\n",
      "097 | Frozen    | block_9_depthwise_relu\n",
      "098 | Frozen    | block_9_project\n",
      "099 | Frozen    | block_9_project_BN\n",
      "100 | Frozen    | block_9_add\n",
      "101 | Frozen    | block_10_expand\n",
      "102 | Frozen    | block_10_expand_BN\n",
      "103 | Frozen    | block_10_expand_relu\n",
      "104 | Frozen    | temporal_shift_27\n",
      "105 | Frozen    | block_10_depthwise\n",
      "106 | Frozen    | block_10_depthwise_BN\n",
      "107 | Frozen    | block_10_depthwise_relu\n",
      "108 | Frozen    | block_10_project\n",
      "109 | Frozen    | block_10_project_BN\n",
      "110 | Frozen    | block_11_expand\n",
      "111 | Frozen    | block_11_expand_BN\n",
      "112 | Frozen    | block_11_expand_relu\n",
      "113 | Frozen    | temporal_shift_28\n",
      "114 | Frozen    | block_11_depthwise\n",
      "115 | Frozen    | block_11_depthwise_BN\n",
      "116 | Frozen    | block_11_depthwise_relu\n",
      "117 | Frozen    | block_11_project\n",
      "118 | Frozen    | block_11_project_BN\n",
      "119 | Frozen    | block_11_add\n",
      "120 | Frozen    | block_12_expand\n",
      "121 | Frozen    | block_12_expand_BN\n",
      "122 | Frozen    | block_12_expand_relu\n",
      "123 | Frozen    | temporal_shift_29\n",
      "124 | Frozen    | block_12_depthwise\n",
      "125 | Frozen    | block_12_depthwise_BN\n",
      "126 | Frozen    | block_12_depthwise_relu\n",
      "127 | Frozen    | block_12_project\n",
      "128 | Frozen    | block_12_project_BN\n",
      "129 | Frozen    | block_12_add\n",
      "130 | Frozen    | block_13_expand\n",
      "131 | Frozen    | block_13_expand_BN\n",
      "132 | Frozen    | block_13_expand_relu\n",
      "133 | Frozen    | block_13_pad\n",
      "134 | Frozen    | temporal_shift_30\n",
      "135 | Frozen    | block_13_depthwise\n",
      "136 | Frozen    | block_13_depthwise_BN\n",
      "137 | Frozen    | block_13_depthwise_relu\n",
      "138 | Frozen    | block_13_project\n",
      "139 | Frozen    | block_13_project_BN\n",
      "140 | Frozen    | block_14_expand\n",
      "141 | Frozen    | block_14_expand_BN\n",
      "142 | Frozen    | block_14_expand_relu\n",
      "143 | Frozen    | temporal_shift_31\n",
      "144 | Frozen    | block_14_depthwise\n",
      "145 | Frozen    | block_14_depthwise_BN\n",
      "146 | Frozen    | block_14_depthwise_relu\n",
      "147 | Frozen    | block_14_project\n",
      "148 | Frozen    | block_14_project_BN\n",
      "149 | Frozen    | block_14_add\n",
      "150 | Frozen    | block_15_expand\n",
      "151 | Frozen    | block_15_expand_BN\n",
      "152 | Frozen    | block_15_expand_relu\n",
      "153 | Frozen    | temporal_shift_32\n",
      "154 | Frozen    | block_15_depthwise\n",
      "155 | Frozen    | block_15_depthwise_BN\n",
      "156 | Frozen    | block_15_depthwise_relu\n",
      "157 | Frozen    | block_15_project\n",
      "158 | Frozen    | block_15_project_BN\n",
      "159 | Frozen    | block_15_add\n",
      "160 | Frozen    | block_16_expand\n",
      "161 | Frozen    | block_16_expand_BN\n",
      "162 | Frozen    | block_16_expand_relu\n",
      "163 | Frozen    | temporal_shift_33\n",
      "164 | Frozen    | block_16_depthwise\n",
      "165 | Frozen    | block_16_depthwise_BN\n",
      "166 | Frozen    | block_16_depthwise_relu\n",
      "167 | Frozen    | block_16_project\n",
      "168 | Frozen    | block_16_project_BN\n",
      "169 | Frozen    | Conv_1\n",
      "170 | Frozen    | Conv_1_bn\n",
      "171 | Frozen    | out_relu\n",
      "172 | Trainable | global_average_pooling2d_1\n",
      "173 | Trainable | dropout_2\n",
      "174 | Trainable | flatten\n",
      "175 | Trainable | logits\n",
      "176 | Trainable | dropout_3\n",
      "177 | Trainable | reshape_to_bt_c\n",
      "178 | Trainable | softmax_1\n",
      "179 | Trainable | segment_mean\n"
     ]
    }
   ],
   "source": [
    "for i, layer in enumerate(final_model.layers):\n",
    "    print(f\"{i:03d} | {'Trainable' if layer.trainable else 'Frozen':9} | {layer.name}\")"
   ]
  },
  {
   "cell_type": "code",
   "execution_count": 57,
   "id": "a4c3bdca",
   "metadata": {
    "execution": {
     "iopub.execute_input": "2025-05-10T15:21:02.631507Z",
     "iopub.status.busy": "2025-05-10T15:21:02.630905Z",
     "iopub.status.idle": "2025-05-10T15:32:16.478512Z",
     "shell.execute_reply": "2025-05-10T15:32:16.477163Z",
     "shell.execute_reply.started": "2025-05-10T15:21:02.631416Z"
    },
    "tags": []
   },
   "outputs": [
    {
     "name": "stderr",
     "output_type": "stream",
     "text": [
      "2025-05-10 15:21:02.670538: I tensorflow/core/common_runtime/executor.cc:1197] [/device:CPU:0] (DEBUG INFO) Executor start aborting (this does not indicate an error and you can ignore this message): INVALID_ARGUMENT: You must feed a value for placeholder tensor 'Placeholder/_15' with dtype resource\n",
      "\t [[{{node Placeholder/_15}}]]\n",
      "2025-05-10 15:21:02.671160: I tensorflow/core/common_runtime/executor.cc:1197] [/device:CPU:0] (DEBUG INFO) Executor start aborting (this does not indicate an error and you can ignore this message): INVALID_ARGUMENT: You must feed a value for placeholder tensor 'Placeholder/_15' with dtype resource\n",
      "\t [[{{node Placeholder/_15}}]]\n"
     ]
    },
    {
     "name": "stdout",
     "output_type": "stream",
     "text": [
      "Epoch 1/5\n"
     ]
    },
    {
     "name": "stderr",
     "output_type": "stream",
     "text": [
      "2025-05-10 15:21:21.119915: I tensorflow/core/kernels/data/shuffle_dataset_op.cc:392] Filling up shuffle buffer (this may take a while): 420 of 3182\n",
      "2025-05-10 15:21:31.134766: I tensorflow/core/kernels/data/shuffle_dataset_op.cc:392] Filling up shuffle buffer (this may take a while): 792 of 3182\n",
      "2025-05-10 15:21:41.144148: I tensorflow/core/kernels/data/shuffle_dataset_op.cc:392] Filling up shuffle buffer (this may take a while): 1164 of 3182\n",
      "2025-05-10 15:21:51.119395: I tensorflow/core/kernels/data/shuffle_dataset_op.cc:392] Filling up shuffle buffer (this may take a while): 1603 of 3182\n",
      "2025-05-10 15:22:01.134406: I tensorflow/core/kernels/data/shuffle_dataset_op.cc:392] Filling up shuffle buffer (this may take a while): 1972 of 3182\n",
      "2025-05-10 15:22:11.120961: I tensorflow/core/kernels/data/shuffle_dataset_op.cc:392] Filling up shuffle buffer (this may take a while): 2342 of 3182\n",
      "2025-05-10 15:22:21.127591: I tensorflow/core/kernels/data/shuffle_dataset_op.cc:392] Filling up shuffle buffer (this may take a while): 2714 of 3182\n",
      "2025-05-10 15:22:31.134499: I tensorflow/core/kernels/data/shuffle_dataset_op.cc:392] Filling up shuffle buffer (this may take a while): 3074 of 3182\n",
      "2025-05-10 15:22:33.999262: I tensorflow/core/kernels/data/shuffle_dataset_op.cc:417] Shuffle buffer filled.\n"
     ]
    },
    {
     "name": "stdout",
     "output_type": "stream",
     "text": [
      "198/198 [==============================] - ETA: 0s - loss: 3.7376 - categorical_accuracy: 0.0344 - top-3-accuracy: 0.0906"
     ]
    },
    {
     "name": "stderr",
     "output_type": "stream",
     "text": [
      "2025-05-10 15:24:16.111640: I tensorflow/core/common_runtime/executor.cc:1197] [/device:CPU:0] (DEBUG INFO) Executor start aborting (this does not indicate an error and you can ignore this message): INVALID_ARGUMENT: You must feed a value for placeholder tensor 'Placeholder/_0' with dtype int32\n",
      "\t [[{{node Placeholder/_0}}]]\n",
      "2025-05-10 15:24:16.112165: I tensorflow/core/common_runtime/executor.cc:1197] [/device:CPU:0] (DEBUG INFO) Executor start aborting (this does not indicate an error and you can ignore this message): INVALID_ARGUMENT: You must feed a value for placeholder tensor 'Placeholder/_0' with dtype int32\n",
      "\t [[{{node Placeholder/_0}}]]\n"
     ]
    },
    {
     "name": "stdout",
     "output_type": "stream",
     "text": [
      "198/198 [==============================] - 217s 626ms/step - loss: 3.7376 - categorical_accuracy: 0.0344 - top-3-accuracy: 0.0906 - val_loss: 3.7964 - val_categorical_accuracy: 0.0298 - val_top-3-accuracy: 0.0908\n",
      "Epoch 2/5\n",
      "198/198 [==============================] - 116s 589ms/step - loss: 3.7259 - categorical_accuracy: 0.0338 - top-3-accuracy: 0.0912 - val_loss: 3.9948 - val_categorical_accuracy: 0.0298 - val_top-3-accuracy: 0.0982\n",
      "Epoch 3/5\n",
      "198/198 [==============================] - 113s 574ms/step - loss: 3.6835 - categorical_accuracy: 0.0398 - top-3-accuracy: 0.1073 - val_loss: 3.9393 - val_categorical_accuracy: 0.0327 - val_top-3-accuracy: 0.1027\n",
      "Epoch 4/5\n",
      "198/198 [==============================] - 115s 586ms/step - loss: 3.6730 - categorical_accuracy: 0.0458 - top-3-accuracy: 0.1133 - val_loss: 3.8853 - val_categorical_accuracy: 0.0208 - val_top-3-accuracy: 0.0908\n",
      "Epoch 5/5\n",
      "198/198 [==============================] - 111s 563ms/step - loss: 3.6443 - categorical_accuracy: 0.0502 - top-3-accuracy: 0.1310 - val_loss: 3.7881 - val_categorical_accuracy: 0.0327 - val_top-3-accuracy: 0.1027\n"
     ]
    }
   ],
   "source": [
    "initial_epochs = 5\n",
    "\n",
    "optimizer = AdamW(learning_rate=1e-3, weight_decay=1e-5)\n",
    "loss = CategoricalCrossentropy()\n",
    "metrics = [tf.keras.metrics.CategoricalAccuracy(), tf.keras.metrics.TopKCategoricalAccuracy(k=3, name='top-3-accuracy')]\n",
    "\n",
    "final_model.compile(\n",
    "    optimizer=optimizer,\n",
    "    loss=loss,\n",
    "    metrics=metrics\n",
    ")\n",
    "\n",
    "history_head = final_model.fit(\n",
    "    train_ds,\n",
    "    epochs=initial_epochs,\n",
    "    steps_per_epoch = len(train_df) // batch_size,\n",
    "    validation_steps = len(test_df) // batch_size,\n",
    "    validation_data=test_ds\n",
    ")\n"
   ]
  },
  {
   "cell_type": "code",
   "execution_count": 58,
   "id": "c2752e62-c020-4a74-a21f-b976654c19ff",
   "metadata": {
    "execution": {
     "iopub.execute_input": "2025-05-10T15:32:16.481429Z",
     "iopub.status.busy": "2025-05-10T15:32:16.479858Z",
     "iopub.status.idle": "2025-05-10T15:32:16.498127Z",
     "shell.execute_reply": "2025-05-10T15:32:16.496937Z",
     "shell.execute_reply.started": "2025-05-10T15:32:16.481393Z"
    },
    "tags": []
   },
   "outputs": [],
   "source": [
    "for layer in final_model.layers[91:]:\n",
    "        layer.trainable = True\n"
   ]
  },
  {
   "cell_type": "code",
   "execution_count": 59,
   "id": "65c1e571-4e74-4e91-915f-4c49bc2f34e6",
   "metadata": {
    "execution": {
     "iopub.execute_input": "2025-05-10T15:32:16.500533Z",
     "iopub.status.busy": "2025-05-10T15:32:16.499338Z",
     "iopub.status.idle": "2025-05-10T15:32:16.515612Z",
     "shell.execute_reply": "2025-05-10T15:32:16.514492Z",
     "shell.execute_reply.started": "2025-05-10T15:32:16.500476Z"
    },
    "tags": []
   },
   "outputs": [],
   "source": [
    "early_stop = tf.keras.callbacks.EarlyStopping(\n",
    "    monitor='val_loss',\n",
    "    patience=15,\n",
    "    restore_best_weights=True,\n",
    "    min_delta=0.001,\n",
    "    verbose=1\n",
    ")\n",
    "\n",
    "checkpoint = tf.keras.callbacks.ModelCheckpoint(\n",
    "    \"best_mobilenet.h5\", \n",
    "    monitor='val_loss',\n",
    "    save_freq='epoch', \n",
    "    mode='min',\n",
    "    save_best_only=True\n",
    ")\n",
    "\n",
    "tfboard = tf.keras.callbacks.TensorBoard(log_dir=\"./logs3\", update_freq=20)\n",
    "\n",
    "callbacks = [tfboard, checkpoint, early_stop]"
   ]
  },
  {
   "cell_type": "code",
   "execution_count": null,
   "id": "53062cd2-669b-4473-a89e-6b17a0f1e6a0",
   "metadata": {},
   "outputs": [],
   "source": []
  },
  {
   "cell_type": "code",
   "execution_count": 60,
   "id": "5e20d7fd-8861-4c5e-807b-c8fc26cf19ac",
   "metadata": {
    "execution": {
     "iopub.execute_input": "2025-05-10T15:32:16.517498Z",
     "iopub.status.busy": "2025-05-10T15:32:16.516728Z",
     "iopub.status.idle": "2025-05-10T16:42:37.037752Z",
     "shell.execute_reply": "2025-05-10T16:42:37.035205Z",
     "shell.execute_reply.started": "2025-05-10T15:32:16.517449Z"
    },
    "tags": []
   },
   "outputs": [
    {
     "name": "stdout",
     "output_type": "stream",
     "text": [
      "Epoch 6/105\n"
     ]
    },
    {
     "name": "stderr",
     "output_type": "stream",
     "text": [
      "2025-05-10 15:32:40.498229: I tensorflow/core/kernels/data/shuffle_dataset_op.cc:392] Filling up shuffle buffer (this may take a while): 428 of 3182\n",
      "2025-05-10 15:32:50.504835: I tensorflow/core/kernels/data/shuffle_dataset_op.cc:392] Filling up shuffle buffer (this may take a while): 844 of 3182\n",
      "2025-05-10 15:33:00.495472: I tensorflow/core/kernels/data/shuffle_dataset_op.cc:392] Filling up shuffle buffer (this may take a while): 1239 of 3182\n",
      "2025-05-10 15:33:10.491676: I tensorflow/core/kernels/data/shuffle_dataset_op.cc:392] Filling up shuffle buffer (this may take a while): 1627 of 3182\n",
      "2025-05-10 15:33:20.493608: I tensorflow/core/kernels/data/shuffle_dataset_op.cc:392] Filling up shuffle buffer (this may take a while): 2031 of 3182\n",
      "2025-05-10 15:33:30.491402: I tensorflow/core/kernels/data/shuffle_dataset_op.cc:392] Filling up shuffle buffer (this may take a while): 2429 of 3182\n",
      "2025-05-10 15:33:40.503031: I tensorflow/core/kernels/data/shuffle_dataset_op.cc:392] Filling up shuffle buffer (this may take a while): 2822 of 3182\n",
      "2025-05-10 15:33:49.492623: I tensorflow/core/kernels/data/shuffle_dataset_op.cc:417] Shuffle buffer filled.\n"
     ]
    },
    {
     "name": "stdout",
     "output_type": "stream",
     "text": [
      "198/198 [==============================] - 231s 631ms/step - loss: 3.6650 - categorical_accuracy: 0.0265 - top-3-accuracy: 0.0881 - val_loss: 3.7423 - val_categorical_accuracy: 0.0372 - val_top-3-accuracy: 0.0997\n",
      "Epoch 7/105\n",
      "198/198 [==============================] - 123s 623ms/step - loss: 3.5842 - categorical_accuracy: 0.0467 - top-3-accuracy: 0.1203 - val_loss: 3.8730 - val_categorical_accuracy: 0.0372 - val_top-3-accuracy: 0.1161\n",
      "Epoch 8/105\n",
      "198/198 [==============================] - 119s 602ms/step - loss: 3.4607 - categorical_accuracy: 0.0701 - top-3-accuracy: 0.1660 - val_loss: 3.8008 - val_categorical_accuracy: 0.0521 - val_top-3-accuracy: 0.1592\n",
      "Epoch 9/105\n",
      "198/198 [==============================] - 118s 600ms/step - loss: 3.3279 - categorical_accuracy: 0.1048 - top-3-accuracy: 0.2270 - val_loss: 3.7356 - val_categorical_accuracy: 0.0685 - val_top-3-accuracy: 0.2202\n",
      "Epoch 10/105\n",
      "198/198 [==============================] - 118s 596ms/step - loss: 3.1380 - categorical_accuracy: 0.1417 - top-3-accuracy: 0.3166 - val_loss: 3.5013 - val_categorical_accuracy: 0.0967 - val_top-3-accuracy: 0.2292\n",
      "Epoch 11/105\n",
      "198/198 [==============================] - 111s 561ms/step - loss: 2.9447 - categorical_accuracy: 0.1818 - top-3-accuracy: 0.3905 - val_loss: 3.0200 - val_categorical_accuracy: 0.1622 - val_top-3-accuracy: 0.3884\n",
      "Epoch 12/105\n",
      "198/198 [==============================] - 107s 542ms/step - loss: 2.8020 - categorical_accuracy: 0.2096 - top-3-accuracy: 0.4309 - val_loss: 2.7740 - val_categorical_accuracy: 0.2083 - val_top-3-accuracy: 0.4598\n",
      "Epoch 13/105\n",
      "198/198 [==============================] - 108s 545ms/step - loss: 2.6443 - categorical_accuracy: 0.2443 - top-3-accuracy: 0.4867 - val_loss: 2.7295 - val_categorical_accuracy: 0.2128 - val_top-3-accuracy: 0.4807\n",
      "Epoch 14/105\n",
      "198/198 [==============================] - 105s 533ms/step - loss: 2.5085 - categorical_accuracy: 0.2797 - top-3-accuracy: 0.5271 - val_loss: 2.8290 - val_categorical_accuracy: 0.2202 - val_top-3-accuracy: 0.4479\n",
      "Epoch 15/105\n",
      "198/198 [==============================] - 108s 550ms/step - loss: 2.4134 - categorical_accuracy: 0.2983 - top-3-accuracy: 0.5653 - val_loss: 2.6435 - val_categorical_accuracy: 0.2411 - val_top-3-accuracy: 0.4926\n",
      "Epoch 16/105\n",
      "198/198 [==============================] - 104s 529ms/step - loss: 2.2726 - categorical_accuracy: 0.3336 - top-3-accuracy: 0.6042 - val_loss: 2.7501 - val_categorical_accuracy: 0.2068 - val_top-3-accuracy: 0.5104\n",
      "Epoch 17/105\n",
      "198/198 [==============================] - 109s 550ms/step - loss: 2.1908 - categorical_accuracy: 0.3526 - top-3-accuracy: 0.6376 - val_loss: 2.4462 - val_categorical_accuracy: 0.2783 - val_top-3-accuracy: 0.5536\n",
      "Epoch 18/105\n",
      "198/198 [==============================] - 105s 534ms/step - loss: 2.1202 - categorical_accuracy: 0.3640 - top-3-accuracy: 0.6547 - val_loss: 2.5864 - val_categorical_accuracy: 0.2500 - val_top-3-accuracy: 0.5342\n",
      "Epoch 19/105\n",
      "198/198 [==============================] - 108s 549ms/step - loss: 2.0627 - categorical_accuracy: 0.3895 - top-3-accuracy: 0.6720 - val_loss: 2.3888 - val_categorical_accuracy: 0.2932 - val_top-3-accuracy: 0.5759\n",
      "Epoch 20/105\n",
      "198/198 [==============================] - 107s 543ms/step - loss: 1.9462 - categorical_accuracy: 0.4208 - top-3-accuracy: 0.7017 - val_loss: 2.3209 - val_categorical_accuracy: 0.3229 - val_top-3-accuracy: 0.5878\n",
      "Epoch 21/105\n",
      "198/198 [==============================] - 107s 544ms/step - loss: 1.8922 - categorical_accuracy: 0.4422 - top-3-accuracy: 0.7232 - val_loss: 2.2456 - val_categorical_accuracy: 0.3006 - val_top-3-accuracy: 0.6176\n",
      "Epoch 22/105\n",
      "198/198 [==============================] - 106s 536ms/step - loss: 1.8593 - categorical_accuracy: 0.4498 - top-3-accuracy: 0.7273 - val_loss: 2.1737 - val_categorical_accuracy: 0.3095 - val_top-3-accuracy: 0.6205\n",
      "Epoch 23/105\n",
      "198/198 [==============================] - 105s 532ms/step - loss: 1.7612 - categorical_accuracy: 0.4817 - top-3-accuracy: 0.7633 - val_loss: 2.2178 - val_categorical_accuracy: 0.3155 - val_top-3-accuracy: 0.6176\n",
      "Epoch 24/105\n",
      "198/198 [==============================] - 108s 549ms/step - loss: 1.7402 - categorical_accuracy: 0.4814 - top-3-accuracy: 0.7652 - val_loss: 2.1508 - val_categorical_accuracy: 0.3423 - val_top-3-accuracy: 0.6458\n",
      "Epoch 25/105\n",
      "198/198 [==============================] - 105s 533ms/step - loss: 1.6664 - categorical_accuracy: 0.5123 - top-3-accuracy: 0.7904 - val_loss: 2.2166 - val_categorical_accuracy: 0.3199 - val_top-3-accuracy: 0.6146\n",
      "Epoch 26/105\n",
      "198/198 [==============================] - 109s 553ms/step - loss: 1.5808 - categorical_accuracy: 0.5249 - top-3-accuracy: 0.8116 - val_loss: 2.0139 - val_categorical_accuracy: 0.3646 - val_top-3-accuracy: 0.6726\n",
      "Epoch 27/105\n",
      "198/198 [==============================] - 104s 527ms/step - loss: 1.5674 - categorical_accuracy: 0.5385 - top-3-accuracy: 0.8144 - val_loss: 2.0284 - val_categorical_accuracy: 0.3676 - val_top-3-accuracy: 0.6682\n",
      "Epoch 28/105\n",
      "198/198 [==============================] - 108s 549ms/step - loss: 1.5577 - categorical_accuracy: 0.5363 - top-3-accuracy: 0.8191 - val_loss: 1.9463 - val_categorical_accuracy: 0.4003 - val_top-3-accuracy: 0.6890\n",
      "Epoch 29/105\n",
      "198/198 [==============================] - 105s 530ms/step - loss: 1.5102 - categorical_accuracy: 0.5666 - top-3-accuracy: 0.8229 - val_loss: 1.9565 - val_categorical_accuracy: 0.3765 - val_top-3-accuracy: 0.6830\n",
      "Epoch 30/105\n",
      "198/198 [==============================] - 105s 534ms/step - loss: 1.4807 - categorical_accuracy: 0.5631 - top-3-accuracy: 0.8318 - val_loss: 2.0076 - val_categorical_accuracy: 0.3780 - val_top-3-accuracy: 0.6801\n",
      "Epoch 31/105\n",
      "198/198 [==============================] - 106s 540ms/step - loss: 1.4169 - categorical_accuracy: 0.5764 - top-3-accuracy: 0.8485 - val_loss: 2.0711 - val_categorical_accuracy: 0.3958 - val_top-3-accuracy: 0.6771\n",
      "Epoch 32/105\n",
      "198/198 [==============================] - 106s 537ms/step - loss: 1.3760 - categorical_accuracy: 0.6045 - top-3-accuracy: 0.8627 - val_loss: 2.1257 - val_categorical_accuracy: 0.3586 - val_top-3-accuracy: 0.6473\n",
      "Epoch 33/105\n",
      "198/198 [==============================] - 107s 541ms/step - loss: 1.3711 - categorical_accuracy: 0.6039 - top-3-accuracy: 0.8611 - val_loss: 2.1038 - val_categorical_accuracy: 0.3557 - val_top-3-accuracy: 0.6488\n",
      "Epoch 34/105\n",
      "198/198 [==============================] - 105s 532ms/step - loss: 1.3131 - categorical_accuracy: 0.6184 - top-3-accuracy: 0.8807 - val_loss: 2.0119 - val_categorical_accuracy: 0.3839 - val_top-3-accuracy: 0.6935\n",
      "Epoch 35/105\n",
      "198/198 [==============================] - 107s 542ms/step - loss: 1.2697 - categorical_accuracy: 0.6619 - top-3-accuracy: 0.8810 - val_loss: 2.0440 - val_categorical_accuracy: 0.3795 - val_top-3-accuracy: 0.6726\n",
      "Epoch 36/105\n",
      "198/198 [==============================] - 106s 538ms/step - loss: 1.2240 - categorical_accuracy: 0.6512 - top-3-accuracy: 0.8977 - val_loss: 2.0297 - val_categorical_accuracy: 0.3988 - val_top-3-accuracy: 0.6875\n",
      "Epoch 37/105\n",
      "198/198 [==============================] - 106s 536ms/step - loss: 1.2256 - categorical_accuracy: 0.6723 - top-3-accuracy: 0.8917 - val_loss: 2.0449 - val_categorical_accuracy: 0.3869 - val_top-3-accuracy: 0.6845\n",
      "Epoch 38/105\n",
      "198/198 [==============================] - 107s 541ms/step - loss: 1.1989 - categorical_accuracy: 0.6695 - top-3-accuracy: 0.9034 - val_loss: 2.1191 - val_categorical_accuracy: 0.3676 - val_top-3-accuracy: 0.6592\n",
      "Epoch 39/105\n",
      "198/198 [==============================] - 105s 530ms/step - loss: 1.1707 - categorical_accuracy: 0.6821 - top-3-accuracy: 0.9059 - val_loss: 2.0446 - val_categorical_accuracy: 0.3988 - val_top-3-accuracy: 0.6920\n",
      "Epoch 40/105\n",
      "198/198 [==============================] - 107s 540ms/step - loss: 1.1369 - categorical_accuracy: 0.6862 - top-3-accuracy: 0.9129 - val_loss: 2.0649 - val_categorical_accuracy: 0.4033 - val_top-3-accuracy: 0.7039\n",
      "Epoch 41/105\n",
      "198/198 [==============================] - 105s 533ms/step - loss: 1.1312 - categorical_accuracy: 0.7004 - top-3-accuracy: 0.9173 - val_loss: 2.0513 - val_categorical_accuracy: 0.4018 - val_top-3-accuracy: 0.6949\n",
      "Epoch 42/105\n",
      "198/198 [==============================] - 105s 532ms/step - loss: 1.0839 - categorical_accuracy: 0.7131 - top-3-accuracy: 0.9340 - val_loss: 2.0469 - val_categorical_accuracy: 0.3988 - val_top-3-accuracy: 0.6815\n",
      "Epoch 43/105\n",
      "198/198 [==============================] - ETA: 0s - loss: 1.0511 - categorical_accuracy: 0.7355 - top-3-accuracy: 0.9391Restoring model weights from the end of the best epoch: 28.\n",
      "198/198 [==============================] - 106s 538ms/step - loss: 1.0511 - categorical_accuracy: 0.7355 - top-3-accuracy: 0.9391 - val_loss: 2.0961 - val_categorical_accuracy: 0.3973 - val_top-3-accuracy: 0.6726\n",
      "Epoch 43: early stopping\n"
     ]
    }
   ],
   "source": [
    "epochs = 100\n",
    "\n",
    "lr_schedule = tf.keras.optimizers.schedules.CosineDecay(\n",
    "    initial_learning_rate=1e-4,\n",
    "    decay_steps = 80 * (len(train_df) // batch_size),\n",
    "    alpha=1e-6\n",
    ")\n",
    "\n",
    "optimizer = AdamW(learning_rate=lr_schedule, weight_decay=1e-5)\n",
    "loss = CategoricalCrossentropy()\n",
    "metrics = [tf.keras.metrics.CategoricalAccuracy(), tf.keras.metrics.TopKCategoricalAccuracy(k=3, name='top-3-accuracy')]\n",
    "\n",
    "final_model.compile(\n",
    "    optimizer=optimizer,\n",
    "    loss=loss,\n",
    "    metrics=metrics\n",
    ")\n",
    "\n",
    "history = final_model.fit(\n",
    "    train_ds,\n",
    "    epochs=epochs+initial_epochs,\n",
    "    initial_epoch=initial_epochs,\n",
    "    steps_per_epoch = len(train_df) // batch_size,\n",
    "    validation_steps = len(test_df) //batch_size,\n",
    "    validation_data=test_ds,\n",
    "    callbacks=callbacks\n",
    ")\n"
   ]
  },
  {
   "cell_type": "code",
   "execution_count": null,
   "id": "462bcf2b-fdf5-4184-aea4-0c60a3f40e99",
   "metadata": {},
   "outputs": [],
   "source": []
  },
  {
   "cell_type": "markdown",
   "id": "4b480379",
   "metadata": {},
   "source": [
    "### Saving model"
   ]
  },
  {
   "cell_type": "code",
   "execution_count": 61,
   "id": "cd91f3bb",
   "metadata": {
    "execution": {
     "iopub.execute_input": "2025-05-10T16:42:37.043137Z",
     "iopub.status.busy": "2025-05-10T16:42:37.040640Z",
     "iopub.status.idle": "2025-05-10T16:43:28.395640Z",
     "shell.execute_reply": "2025-05-10T16:43:28.390369Z",
     "shell.execute_reply.started": "2025-05-10T16:42:37.042941Z"
    },
    "tags": []
   },
   "outputs": [
    {
     "name": "stderr",
     "output_type": "stream",
     "text": [
      "2025-05-10 16:42:37.068139: I tensorflow/core/common_runtime/executor.cc:1197] [/job:localhost/replica:0/task:0/device:GPU:0] (DEBUG INFO) Executor start aborting (this does not indicate an error and you can ignore this message): CANCELLED: RecvAsync is cancelled.\n",
      "\t [[{{node sequential_1/random_rotation_1/stateful_uniform/Cast_1/_10}}]] [type.googleapis.com/tensorflow.DerivedStatus='']\n",
      "2025-05-10 16:42:37.068279: I tensorflow/core/common_runtime/executor.cc:1197] [/job:localhost/replica:0/task:0/device:CPU:0] (DEBUG INFO) Executor start aborting (this does not indicate an error and you can ignore this message): CANCELLED: RecvAsync is cancelled.\n",
      "\t [[{{node sequential_1/random_rotation_1/stateful_uniform/Cast_1/_10}}]]\n",
      "\t [[sequential_1/random_rotation_1/stateful_uniform/RngReadAndSkip/_15]] [type.googleapis.com/tensorflow.DerivedStatus='']\n",
      "2025-05-10 16:42:37.068363: I tensorflow/core/common_runtime/executor.cc:1197] [/job:localhost/replica:0/task:0/device:GPU:0] (DEBUG INFO) Executor start aborting (this does not indicate an error and you can ignore this message): CANCELLED: RecvAsync is cancelled.\n",
      "\t [[{{node sequential_1/random_rotation_1/stateful_uniform/Cast_1/_10}}]] [type.googleapis.com/tensorflow.DerivedStatus='']\n",
      "2025-05-10 16:42:37.068410: I tensorflow/core/common_runtime/executor.cc:1197] [/job:localhost/replica:0/task:0/device:CPU:0] (DEBUG INFO) Executor start aborting (this does not indicate an error and you can ignore this message): CANCELLED: RecvAsync is cancelled.\n",
      "\t [[{{node sequential_1/random_rotation_1/stateful_uniform/Cast_1/_10}}]]\n",
      "\t [[sequential_1/random_zoom_1/stateful_uniform/RngReadAndSkip/_8]] [type.googleapis.com/tensorflow.DerivedStatus='']\n",
      "2025-05-10 16:43:02.894341: I tensorflow/core/common_runtime/executor.cc:1197] [/device:CPU:0] (DEBUG INFO) Executor start aborting (this does not indicate an error and you can ignore this message): INVALID_ARGUMENT: You must feed a value for placeholder tensor 'x' with dtype float and shape [?,112,112,32]\n",
      "\t [[{{node x}}]]\n",
      "2025-05-10 16:43:02.943291: I tensorflow/core/common_runtime/executor.cc:1197] [/device:CPU:0] (DEBUG INFO) Executor start aborting (this does not indicate an error and you can ignore this message): INVALID_ARGUMENT: You must feed a value for placeholder tensor 'x' with dtype float and shape [?,113,113,96]\n",
      "\t [[{{node x}}]]\n",
      "2025-05-10 16:43:02.993896: I tensorflow/core/common_runtime/executor.cc:1197] [/device:CPU:0] (DEBUG INFO) Executor start aborting (this does not indicate an error and you can ignore this message): INVALID_ARGUMENT: You must feed a value for placeholder tensor 'x' with dtype float and shape [?,56,56,144]\n",
      "\t [[{{node x}}]]\n",
      "2025-05-10 16:43:03.049256: I tensorflow/core/common_runtime/executor.cc:1197] [/device:CPU:0] (DEBUG INFO) Executor start aborting (this does not indicate an error and you can ignore this message): INVALID_ARGUMENT: You must feed a value for placeholder tensor 'x' with dtype float and shape [?,57,57,144]\n",
      "\t [[{{node x}}]]\n",
      "2025-05-10 16:43:03.101358: I tensorflow/core/common_runtime/executor.cc:1197] [/device:CPU:0] (DEBUG INFO) Executor start aborting (this does not indicate an error and you can ignore this message): INVALID_ARGUMENT: You must feed a value for placeholder tensor 'x' with dtype float and shape [?,28,28,192]\n",
      "\t [[{{node x}}]]\n",
      "2025-05-10 16:43:03.157752: I tensorflow/core/common_runtime/executor.cc:1197] [/device:CPU:0] (DEBUG INFO) Executor start aborting (this does not indicate an error and you can ignore this message): INVALID_ARGUMENT: You must feed a value for placeholder tensor 'x' with dtype float and shape [?,28,28,192]\n",
      "\t [[{{node x}}]]\n",
      "2025-05-10 16:43:03.214861: I tensorflow/core/common_runtime/executor.cc:1197] [/device:CPU:0] (DEBUG INFO) Executor start aborting (this does not indicate an error and you can ignore this message): INVALID_ARGUMENT: You must feed a value for placeholder tensor 'x' with dtype float and shape [?,29,29,192]\n",
      "\t [[{{node x}}]]\n",
      "2025-05-10 16:43:03.264233: I tensorflow/core/common_runtime/executor.cc:1197] [/device:CPU:0] (DEBUG INFO) Executor start aborting (this does not indicate an error and you can ignore this message): INVALID_ARGUMENT: You must feed a value for placeholder tensor 'x' with dtype float and shape [?,14,14,384]\n",
      "\t [[{{node x}}]]\n",
      "2025-05-10 16:43:03.320871: I tensorflow/core/common_runtime/executor.cc:1197] [/device:CPU:0] (DEBUG INFO) Executor start aborting (this does not indicate an error and you can ignore this message): INVALID_ARGUMENT: You must feed a value for placeholder tensor 'x' with dtype float and shape [?,14,14,384]\n",
      "\t [[{{node x}}]]\n",
      "2025-05-10 16:43:03.375184: I tensorflow/core/common_runtime/executor.cc:1197] [/device:CPU:0] (DEBUG INFO) Executor start aborting (this does not indicate an error and you can ignore this message): INVALID_ARGUMENT: You must feed a value for placeholder tensor 'x' with dtype float and shape [?,14,14,384]\n",
      "\t [[{{node x}}]]\n",
      "2025-05-10 16:43:03.432277: I tensorflow/core/common_runtime/executor.cc:1197] [/device:CPU:0] (DEBUG INFO) Executor start aborting (this does not indicate an error and you can ignore this message): INVALID_ARGUMENT: You must feed a value for placeholder tensor 'x' with dtype float and shape [?,14,14,384]\n",
      "\t [[{{node x}}]]\n",
      "2025-05-10 16:43:03.483394: I tensorflow/core/common_runtime/executor.cc:1197] [/device:CPU:0] (DEBUG INFO) Executor start aborting (this does not indicate an error and you can ignore this message): INVALID_ARGUMENT: You must feed a value for placeholder tensor 'x' with dtype float and shape [?,14,14,576]\n",
      "\t [[{{node x}}]]\n",
      "2025-05-10 16:43:03.539530: I tensorflow/core/common_runtime/executor.cc:1197] [/device:CPU:0] (DEBUG INFO) Executor start aborting (this does not indicate an error and you can ignore this message): INVALID_ARGUMENT: You must feed a value for placeholder tensor 'x' with dtype float and shape [?,14,14,576]\n",
      "\t [[{{node x}}]]\n",
      "2025-05-10 16:43:03.596940: I tensorflow/core/common_runtime/executor.cc:1197] [/device:CPU:0] (DEBUG INFO) Executor start aborting (this does not indicate an error and you can ignore this message): INVALID_ARGUMENT: You must feed a value for placeholder tensor 'x' with dtype float and shape [?,15,15,576]\n",
      "\t [[{{node x}}]]\n",
      "2025-05-10 16:43:03.646872: I tensorflow/core/common_runtime/executor.cc:1197] [/device:CPU:0] (DEBUG INFO) Executor start aborting (this does not indicate an error and you can ignore this message): INVALID_ARGUMENT: You must feed a value for placeholder tensor 'x' with dtype float and shape [?,7,7,960]\n",
      "\t [[{{node x}}]]\n",
      "2025-05-10 16:43:03.705136: I tensorflow/core/common_runtime/executor.cc:1197] [/device:CPU:0] (DEBUG INFO) Executor start aborting (this does not indicate an error and you can ignore this message): INVALID_ARGUMENT: You must feed a value for placeholder tensor 'x' with dtype float and shape [?,7,7,960]\n",
      "\t [[{{node x}}]]\n",
      "2025-05-10 16:43:03.760018: I tensorflow/core/common_runtime/executor.cc:1197] [/device:CPU:0] (DEBUG INFO) Executor start aborting (this does not indicate an error and you can ignore this message): INVALID_ARGUMENT: You must feed a value for placeholder tensor 'x' with dtype float and shape [?,7,7,960]\n",
      "\t [[{{node x}}]]\n",
      "2025-05-10 16:43:03.806452: I tensorflow/core/common_runtime/executor.cc:1197] [/device:CPU:0] (DEBUG INFO) Executor start aborting (this does not indicate an error and you can ignore this message): INVALID_ARGUMENT: You must feed a value for placeholder tensor 'inputs' with dtype float and shape [?,1280]\n",
      "\t [[{{node inputs}}]]\n",
      "2025-05-10 16:43:03.832121: I tensorflow/core/common_runtime/executor.cc:1197] [/device:CPU:0] (DEBUG INFO) Executor start aborting (this does not indicate an error and you can ignore this message): INVALID_ARGUMENT: You must feed a value for placeholder tensor 'inputs' with dtype float and shape [?,34]\n",
      "\t [[{{node inputs}}]]\n",
      "2025-05-10 16:43:03.846428: I tensorflow/core/common_runtime/executor.cc:1197] [/device:CPU:0] (DEBUG INFO) Executor start aborting (this does not indicate an error and you can ignore this message): INVALID_ARGUMENT: You must feed a value for placeholder tensor 'inputs' with dtype float and shape [?,34]\n",
      "\t [[{{node inputs}}]]\n",
      "2025-05-10 16:43:03.854964: I tensorflow/core/common_runtime/executor.cc:1197] [/device:CPU:0] (DEBUG INFO) Executor start aborting (this does not indicate an error and you can ignore this message): INVALID_ARGUMENT: You must feed a value for placeholder tensor 'inputs' with dtype float and shape [?,34]\n",
      "\t [[{{node inputs}}]]\n",
      "2025-05-10 16:43:11.137617: I tensorflow/core/common_runtime/executor.cc:1197] [/device:CPU:0] (DEBUG INFO) Executor start aborting (this does not indicate an error and you can ignore this message): INVALID_ARGUMENT: You must feed a value for placeholder tensor 'x' with dtype float and shape [?,112,112,32]\n",
      "\t [[{{node x}}]]\n",
      "2025-05-10 16:43:11.447851: I tensorflow/core/common_runtime/executor.cc:1197] [/device:CPU:0] (DEBUG INFO) Executor start aborting (this does not indicate an error and you can ignore this message): INVALID_ARGUMENT: You must feed a value for placeholder tensor 'x' with dtype float and shape [?,113,113,96]\n",
      "\t [[{{node x}}]]\n",
      "2025-05-10 16:43:11.743682: I tensorflow/core/common_runtime/executor.cc:1197] [/device:CPU:0] (DEBUG INFO) Executor start aborting (this does not indicate an error and you can ignore this message): INVALID_ARGUMENT: You must feed a value for placeholder tensor 'x' with dtype float and shape [?,56,56,144]\n",
      "\t [[{{node x}}]]\n",
      "2025-05-10 16:43:12.058379: I tensorflow/core/common_runtime/executor.cc:1197] [/device:CPU:0] (DEBUG INFO) Executor start aborting (this does not indicate an error and you can ignore this message): INVALID_ARGUMENT: You must feed a value for placeholder tensor 'x' with dtype float and shape [?,57,57,144]\n",
      "\t [[{{node x}}]]\n",
      "2025-05-10 16:43:12.349229: I tensorflow/core/common_runtime/executor.cc:1197] [/device:CPU:0] (DEBUG INFO) Executor start aborting (this does not indicate an error and you can ignore this message): INVALID_ARGUMENT: You must feed a value for placeholder tensor 'x' with dtype float and shape [?,28,28,192]\n",
      "\t [[{{node x}}]]\n",
      "2025-05-10 16:43:12.657816: I tensorflow/core/common_runtime/executor.cc:1197] [/device:CPU:0] (DEBUG INFO) Executor start aborting (this does not indicate an error and you can ignore this message): INVALID_ARGUMENT: You must feed a value for placeholder tensor 'x' with dtype float and shape [?,28,28,192]\n",
      "\t [[{{node x}}]]\n",
      "2025-05-10 16:43:12.973619: I tensorflow/core/common_runtime/executor.cc:1197] [/device:CPU:0] (DEBUG INFO) Executor start aborting (this does not indicate an error and you can ignore this message): INVALID_ARGUMENT: You must feed a value for placeholder tensor 'x' with dtype float and shape [?,29,29,192]\n",
      "\t [[{{node x}}]]\n",
      "2025-05-10 16:43:13.265929: I tensorflow/core/common_runtime/executor.cc:1197] [/device:CPU:0] (DEBUG INFO) Executor start aborting (this does not indicate an error and you can ignore this message): INVALID_ARGUMENT: You must feed a value for placeholder tensor 'x' with dtype float and shape [?,14,14,384]\n",
      "\t [[{{node x}}]]\n",
      "2025-05-10 16:43:13.566937: I tensorflow/core/common_runtime/executor.cc:1197] [/device:CPU:0] (DEBUG INFO) Executor start aborting (this does not indicate an error and you can ignore this message): INVALID_ARGUMENT: You must feed a value for placeholder tensor 'x' with dtype float and shape [?,14,14,384]\n",
      "\t [[{{node x}}]]\n",
      "2025-05-10 16:43:13.878588: I tensorflow/core/common_runtime/executor.cc:1197] [/device:CPU:0] (DEBUG INFO) Executor start aborting (this does not indicate an error and you can ignore this message): INVALID_ARGUMENT: You must feed a value for placeholder tensor 'x' with dtype float and shape [?,14,14,384]\n",
      "\t [[{{node x}}]]\n",
      "2025-05-10 16:43:14.200808: I tensorflow/core/common_runtime/executor.cc:1197] [/device:CPU:0] (DEBUG INFO) Executor start aborting (this does not indicate an error and you can ignore this message): INVALID_ARGUMENT: You must feed a value for placeholder tensor 'x' with dtype float and shape [?,14,14,384]\n",
      "\t [[{{node x}}]]\n",
      "2025-05-10 16:43:14.522123: I tensorflow/core/common_runtime/executor.cc:1197] [/device:CPU:0] (DEBUG INFO) Executor start aborting (this does not indicate an error and you can ignore this message): INVALID_ARGUMENT: You must feed a value for placeholder tensor 'x' with dtype float and shape [?,14,14,576]\n",
      "\t [[{{node x}}]]\n",
      "2025-05-10 16:43:14.844324: I tensorflow/core/common_runtime/executor.cc:1197] [/device:CPU:0] (DEBUG INFO) Executor start aborting (this does not indicate an error and you can ignore this message): INVALID_ARGUMENT: You must feed a value for placeholder tensor 'x' with dtype float and shape [?,14,14,576]\n",
      "\t [[{{node x}}]]\n",
      "2025-05-10 16:43:15.200747: I tensorflow/core/common_runtime/executor.cc:1197] [/device:CPU:0] (DEBUG INFO) Executor start aborting (this does not indicate an error and you can ignore this message): INVALID_ARGUMENT: You must feed a value for placeholder tensor 'x' with dtype float and shape [?,15,15,576]\n",
      "\t [[{{node x}}]]\n",
      "2025-05-10 16:43:15.499888: I tensorflow/core/common_runtime/executor.cc:1197] [/device:CPU:0] (DEBUG INFO) Executor start aborting (this does not indicate an error and you can ignore this message): INVALID_ARGUMENT: You must feed a value for placeholder tensor 'x' with dtype float and shape [?,7,7,960]\n",
      "\t [[{{node x}}]]\n",
      "2025-05-10 16:43:15.808978: I tensorflow/core/common_runtime/executor.cc:1197] [/device:CPU:0] (DEBUG INFO) Executor start aborting (this does not indicate an error and you can ignore this message): INVALID_ARGUMENT: You must feed a value for placeholder tensor 'x' with dtype float and shape [?,7,7,960]\n",
      "\t [[{{node x}}]]\n",
      "2025-05-10 16:43:16.118069: I tensorflow/core/common_runtime/executor.cc:1197] [/device:CPU:0] (DEBUG INFO) Executor start aborting (this does not indicate an error and you can ignore this message): INVALID_ARGUMENT: You must feed a value for placeholder tensor 'x' with dtype float and shape [?,7,7,960]\n",
      "\t [[{{node x}}]]\n",
      "2025-05-10 16:43:16.428309: I tensorflow/core/common_runtime/executor.cc:1197] [/device:CPU:0] (DEBUG INFO) Executor start aborting (this does not indicate an error and you can ignore this message): INVALID_ARGUMENT: You must feed a value for placeholder tensor 'inputs' with dtype float and shape [?,1280]\n",
      "\t [[{{node inputs}}]]\n",
      "2025-05-10 16:43:16.488686: I tensorflow/core/common_runtime/executor.cc:1197] [/device:CPU:0] (DEBUG INFO) Executor start aborting (this does not indicate an error and you can ignore this message): INVALID_ARGUMENT: You must feed a value for placeholder tensor 'inputs' with dtype float and shape [?,34]\n",
      "\t [[{{node inputs}}]]\n",
      "2025-05-10 16:43:16.519466: I tensorflow/core/common_runtime/executor.cc:1197] [/device:CPU:0] (DEBUG INFO) Executor start aborting (this does not indicate an error and you can ignore this message): INVALID_ARGUMENT: You must feed a value for placeholder tensor 'inputs' with dtype float and shape [?,34]\n",
      "\t [[{{node inputs}}]]\n",
      "2025-05-10 16:43:16.527952: I tensorflow/core/common_runtime/executor.cc:1197] [/device:CPU:0] (DEBUG INFO) Executor start aborting (this does not indicate an error and you can ignore this message): INVALID_ARGUMENT: You must feed a value for placeholder tensor 'inputs' with dtype float and shape [?,34]\n",
      "\t [[{{node inputs}}]]\n",
      "WARNING:absl:Found untraced functions such as _jit_compiled_convolution_op, _jit_compiled_convolution_op, _jit_compiled_convolution_op, _jit_compiled_convolution_op, _jit_compiled_convolution_op while saving (showing 5 of 52). These functions will not be directly callable after loading.\n"
     ]
    },
    {
     "name": "stdout",
     "output_type": "stream",
     "text": [
      "INFO:tensorflow:Assets written to: mobile_tsm_bukva/assets\n"
     ]
    },
    {
     "name": "stderr",
     "output_type": "stream",
     "text": [
      "INFO:tensorflow:Assets written to: mobile_tsm_bukva/assets\n"
     ]
    }
   ],
   "source": [
    "final_model.save('mobile_tsm_bukva')"
   ]
  },
  {
   "cell_type": "code",
   "execution_count": 62,
   "id": "17ea2634",
   "metadata": {
    "execution": {
     "iopub.execute_input": "2025-05-10T16:43:28.400717Z",
     "iopub.status.busy": "2025-05-10T16:43:28.400070Z",
     "iopub.status.idle": "2025-05-10T16:43:45.302611Z",
     "shell.execute_reply": "2025-05-10T16:43:45.301282Z",
     "shell.execute_reply.started": "2025-05-10T16:43:28.400683Z"
    },
    "tags": []
   },
   "outputs": [
    {
     "name": "stderr",
     "output_type": "stream",
     "text": [
      "2025-05-10 16:43:41.168248: W tensorflow/compiler/mlir/lite/python/tf_tfl_flatbuffer_helpers.cc:364] Ignored output_format.\n",
      "2025-05-10 16:43:41.168304: W tensorflow/compiler/mlir/lite/python/tf_tfl_flatbuffer_helpers.cc:367] Ignored drop_control_dependency.\n",
      "2025-05-10 16:43:41.172023: I tensorflow/cc/saved_model/reader.cc:45] Reading SavedModel from: mobile_tsm_bukva\n",
      "2025-05-10 16:43:41.230160: I tensorflow/cc/saved_model/reader.cc:89] Reading meta graph with tags { serve }\n",
      "2025-05-10 16:43:41.230216: I tensorflow/cc/saved_model/reader.cc:130] Reading SavedModel debug info (if present) from: mobile_tsm_bukva\n",
      "2025-05-10 16:43:41.368976: I tensorflow/compiler/mlir/mlir_graph_optimization_pass.cc:353] MLIR V1 optimization pass is not enabled\n",
      "2025-05-10 16:43:41.409861: I tensorflow/cc/saved_model/loader.cc:231] Restoring SavedModel bundle.\n",
      "2025-05-10 16:43:42.360080: I tensorflow/cc/saved_model/loader.cc:215] Running initialization op on SavedModel bundle at path: mobile_tsm_bukva\n",
      "2025-05-10 16:43:42.734005: I tensorflow/cc/saved_model/loader.cc:314] SavedModel load for tags { serve }; Status: success: OK. Took 1561968 microseconds.\n"
     ]
    }
   ],
   "source": [
    "converter = tf.lite.TFLiteConverter.from_saved_model('mobile_tsm_bukva')\n",
    "tflite_model = converter.convert()\n",
    "\n",
    "# Сохранение модели\n",
    "with open('mobilenet_tsm.tflite', 'wb') as f:\n",
    "    f.write(tflite_model)"
   ]
  },
  {
   "cell_type": "code",
   "execution_count": null,
   "id": "baf95352-68f9-441a-a7a1-bad3b8d33959",
   "metadata": {},
   "outputs": [],
   "source": []
  }
 ],
 "metadata": {
  "kernelspec": {
   "display_name": "DataSphere Kernel",
   "language": "python",
   "name": "python3"
  },
  "language_info": {
   "codemirror_mode": {
    "name": "ipython",
    "version": 3
   },
   "file_extension": ".py",
   "mimetype": "text/x-python",
   "name": "python",
   "nbconvert_exporter": "python",
   "pygments_lexer": "ipython3",
   "version": "3.10.12"
  }
 },
 "nbformat": 4,
 "nbformat_minor": 5
}
