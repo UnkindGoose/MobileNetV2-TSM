{
 "cells": [
  {
   "cell_type": "code",
   "execution_count": 74,
   "id": "fa0624b2",
   "metadata": {
    "execution": {
     "iopub.execute_input": "2025-05-30T12:44:38.461495Z",
     "iopub.status.busy": "2025-05-30T12:44:38.459908Z",
     "iopub.status.idle": "2025-05-30T12:44:38.500786Z",
     "shell.execute_reply": "2025-05-30T12:44:38.499755Z",
     "shell.execute_reply.started": "2025-05-30T12:44:38.461442Z"
    },
    "tags": []
   },
   "outputs": [],
   "source": [
    "import os\n",
    "import pandas as pd\n",
    "import numpy as np\n",
    "import tensorflow as tf\n",
    "import tensorflow.keras as keras\n",
    "from tensorflow.keras import layers\n",
    "from tensorflow.keras.layers import Layer, Dense, GlobalAveragePooling2D, Lambda, Softmax, Dropout, Flatten, BatchNormalization"
   ]
  },
  {
   "cell_type": "code",
   "execution_count": 75,
   "id": "ccf746a8-9f76-44c9-a156-531ca4563e81",
   "metadata": {
    "execution": {
     "iopub.execute_input": "2025-05-30T12:44:38.503120Z",
     "iopub.status.busy": "2025-05-30T12:44:38.502446Z",
     "iopub.status.idle": "2025-05-30T12:44:38.545825Z",
     "shell.execute_reply": "2025-05-30T12:44:38.544813Z",
     "shell.execute_reply.started": "2025-05-30T12:44:38.503091Z"
    },
    "tags": []
   },
   "outputs": [
    {
     "name": "stdout",
     "output_type": "stream",
     "text": [
      "Num GPUs Available:  0\n"
     ]
    }
   ],
   "source": [
    "print(\"Num GPUs Available: \", len(tf.config.list_physical_devices('GPU')))"
   ]
  },
  {
   "cell_type": "markdown",
   "id": "833185a0-0edd-48ae-bafd-75d9c36ce3f3",
   "metadata": {
    "tags": []
   },
   "source": [
    "### Model Creation Functions"
   ]
  },
  {
   "cell_type": "code",
   "execution_count": null,
   "id": "aee29d62",
   "metadata": {
    "execution": {
     "iopub.execute_input": "2025-05-30T12:44:38.585264Z",
     "iopub.status.busy": "2025-05-30T12:44:38.584259Z",
     "iopub.status.idle": "2025-05-30T12:44:38.600137Z",
     "shell.execute_reply": "2025-05-30T12:44:38.599360Z",
     "shell.execute_reply.started": "2025-05-30T12:44:38.585225Z"
    },
    "tags": []
   },
   "outputs": [],
   "source": [
    "class TemporalShift(Layer):\n",
    "    \n",
    "    def __init__(self, num_segments=8, fold_div=8, **kwargs):\n",
    "        super().__init__(**kwargs)\n",
    "        self.num_segments = num_segments\n",
    "        self.fold_div = fold_div\n",
    "\n",
    "    def call(self, x):\n",
    "\n",
    "        # [B*T, H, W, C]\n",
    "        bt = tf.shape(x)[0]\n",
    "        h, w, c = tf.shape(x)[1], tf.shape(x)[2], tf.shape(x)[3]\n",
    "        batch = bt // self.num_segments\n",
    "        # [B, T, H, W, C]\n",
    "        x = tf.reshape(x, (batch, self.num_segments, h, w, c))\n",
    "\n",
    "        fold = c // self.fold_div\n",
    "        \n",
    "        left = tf.roll(x[:, :, :, :, :fold], shift=-1, axis=1)\n",
    "        right = tf.roll(x[:, :, :, :, fold:2*fold], shift=1, axis=1)\n",
    "        rest = x[:, :, :, :, 2 * fold:]\n",
    "        \n",
    "        x_shift = tf.concat([left, right, rest], axis=-1)\n",
    "        \n",
    "        # [B*T, H, W, C]\n",
    "        return tf.reshape(x_shift, (bt, h, w, c))\n",
    "\n",
    "    def compute_output_shape(self, input_shape):\n",
    "        return input_shape"
   ]
  },
  {
   "cell_type": "code",
   "execution_count": 78,
   "id": "dfd96d50-ace2-4a0e-9c07-6abbe6d0bdce",
   "metadata": {
    "execution": {
     "iopub.execute_input": "2025-05-30T12:44:38.602331Z",
     "iopub.status.busy": "2025-05-30T12:44:38.601147Z",
     "iopub.status.idle": "2025-05-30T12:44:38.626851Z",
     "shell.execute_reply": "2025-05-30T12:44:38.625825Z",
     "shell.execute_reply.started": "2025-05-30T12:44:38.602289Z"
    },
    "tags": []
   },
   "outputs": [],
   "source": [
    "inverted_residual_blocks = [2, 4, 5, 7, 8, 9, 11, 12, 14, 15]"
   ]
  },
  {
   "cell_type": "code",
   "execution_count": 79,
   "id": "83e1a67c-6c66-4acf-90ff-26a367292aae",
   "metadata": {
    "execution": {
     "iopub.execute_input": "2025-05-30T12:44:38.629200Z",
     "iopub.status.busy": "2025-05-30T12:44:38.628094Z",
     "iopub.status.idle": "2025-05-30T12:44:38.659088Z",
     "shell.execute_reply": "2025-05-30T12:44:38.657991Z",
     "shell.execute_reply.started": "2025-05-30T12:44:38.629164Z"
    },
    "tags": []
   },
   "outputs": [],
   "source": [
    "def insert_temporal_shift(mobilenet, num_segments=8, fold_div=8):\n",
    "\n",
    "    raw_input = tf.keras.Input(shape=(num_segments, 224, 224, 3), name='input')\n",
    "    flat_input = tf.keras.layers.Lambda(\n",
    "        lambda z: tf.reshape(z, (-1, 224, 224, 3)), name='flatten_bt'\n",
    "    )(raw_input)\n",
    "\n",
    "    layer_outputs = {}\n",
    "    layer_outputs[mobilenet.layers[0].name] = flat_input\n",
    "\n",
    "    for layer in mobilenet.layers[1:]:\n",
    "        inbound_nodes = layer._inbound_nodes\n",
    "        if not inbound_nodes:\n",
    "            continue\n",
    "\n",
    "        inputs = []\n",
    "        for node in inbound_nodes:\n",
    "            input_tensors = node.input_tensors\n",
    "            if not isinstance(input_tensors, (list, tuple)):\n",
    "                input_tensors = [input_tensors]\n",
    "            for pred in input_tensors:\n",
    "                pred_name = pred._keras_history.layer.name\n",
    "                inputs.append(layer_outputs[pred_name])\n",
    "\n",
    "        x = inputs[0] if len(inputs) == 1 else inputs\n",
    "\n",
    "        if isinstance(layer, tf.keras.layers.DepthwiseConv2D) and layer.name.startswith(\"block\"):\n",
    "            if int(layer.name[6:-10]) in inverted_residual_blocks:\n",
    "                x = TemporalShift(num_segments=num_segments, fold_div=fold_div)(x)\n",
    "                \n",
    "        out = layer(x)\n",
    "        layer_outputs[layer.name] = out\n",
    "\n",
    "\n",
    "    model = tf.keras.Model(inputs=raw_input, outputs=out, name=\"mobilenetv2_tsm\")\n",
    "    return model"
   ]
  },
  {
   "cell_type": "markdown",
   "id": "259d7c09-cbc4-4404-96d6-e0ec23c92343",
   "metadata": {
    "jp-MarkdownHeadingCollapsed": true,
    "tags": []
   },
   "source": [
    "### Importing Required Files"
   ]
  },
  {
   "cell_type": "code",
   "execution_count": 80,
   "id": "449c3423",
   "metadata": {
    "execution": {
     "iopub.execute_input": "2025-05-30T12:44:38.661475Z",
     "iopub.status.busy": "2025-05-30T12:44:38.660315Z",
     "iopub.status.idle": "2025-05-30T12:44:38.718723Z",
     "shell.execute_reply": "2025-05-30T12:44:38.717564Z",
     "shell.execute_reply.started": "2025-05-30T12:44:38.661444Z"
    },
    "tags": []
   },
   "outputs": [],
   "source": [
    "annot = pd.read_csv(\"/home/jupyter/datasphere/project/annotations.tsv\", sep=\"\\t\")"
   ]
  },
  {
   "cell_type": "code",
   "execution_count": 81,
   "id": "4f64f35d",
   "metadata": {
    "execution": {
     "iopub.execute_input": "2025-05-30T12:44:38.720637Z",
     "iopub.status.busy": "2025-05-30T12:44:38.720020Z",
     "iopub.status.idle": "2025-05-30T12:44:38.755503Z",
     "shell.execute_reply": "2025-05-30T12:44:38.754429Z",
     "shell.execute_reply.started": "2025-05-30T12:44:38.720608Z"
    },
    "tags": []
   },
   "outputs": [
    {
     "data": {
      "text/html": [
       "<div>\n",
       "<style scoped>\n",
       "    .dataframe tbody tr th:only-of-type {\n",
       "        vertical-align: middle;\n",
       "    }\n",
       "\n",
       "    .dataframe tbody tr th {\n",
       "        vertical-align: top;\n",
       "    }\n",
       "\n",
       "    .dataframe thead th {\n",
       "        text-align: right;\n",
       "    }\n",
       "</style>\n",
       "<table border=\"1\" class=\"dataframe\">\n",
       "  <thead>\n",
       "    <tr style=\"text-align: right;\">\n",
       "      <th></th>\n",
       "      <th>attachment_id</th>\n",
       "      <th>user_id</th>\n",
       "      <th>text</th>\n",
       "      <th>begin</th>\n",
       "      <th>end</th>\n",
       "      <th>height</th>\n",
       "      <th>width</th>\n",
       "      <th>train</th>\n",
       "      <th>length</th>\n",
       "    </tr>\n",
       "  </thead>\n",
       "  <tbody>\n",
       "    <tr>\n",
       "      <th>0</th>\n",
       "      <td>df5b08f0-41d1-4572-889c-8b893e71069b</td>\n",
       "      <td>185bd3a81d9d618518d10abebf0d17a8</td>\n",
       "      <td>А</td>\n",
       "      <td>36</td>\n",
       "      <td>76</td>\n",
       "      <td>1920</td>\n",
       "      <td>1080</td>\n",
       "      <td>False</td>\n",
       "      <td>150</td>\n",
       "    </tr>\n",
       "    <tr>\n",
       "      <th>1</th>\n",
       "      <td>3d2b6a08-131d-40a9-9533-cf45cefb07fd</td>\n",
       "      <td>9a0784a99ea13a8b06cb103c2c8c7f0f</td>\n",
       "      <td>А</td>\n",
       "      <td>31</td>\n",
       "      <td>63</td>\n",
       "      <td>1920</td>\n",
       "      <td>1080</td>\n",
       "      <td>True</td>\n",
       "      <td>78</td>\n",
       "    </tr>\n",
       "    <tr>\n",
       "      <th>2</th>\n",
       "      <td>1915f996-71ed-44ae-9a34-ee1959919238</td>\n",
       "      <td>ca6b767f0cccf093ba737ae2fc4fec3d</td>\n",
       "      <td>А</td>\n",
       "      <td>25</td>\n",
       "      <td>81</td>\n",
       "      <td>1920</td>\n",
       "      <td>1080</td>\n",
       "      <td>True</td>\n",
       "      <td>98</td>\n",
       "    </tr>\n",
       "    <tr>\n",
       "      <th>3</th>\n",
       "      <td>bfb2d7ae-0f6c-4e20-b087-0965641d34ff</td>\n",
       "      <td>0ab4f8e463cdded2e59d6001f4e1b487</td>\n",
       "      <td>А</td>\n",
       "      <td>18</td>\n",
       "      <td>47</td>\n",
       "      <td>1080</td>\n",
       "      <td>1920</td>\n",
       "      <td>False</td>\n",
       "      <td>82</td>\n",
       "    </tr>\n",
       "    <tr>\n",
       "      <th>4</th>\n",
       "      <td>24936cc5-e5bb-43a3-96b8-2a9b4a6d157f</td>\n",
       "      <td>a95892dae1d320bd8b08cbca6a127cd8</td>\n",
       "      <td>А</td>\n",
       "      <td>6</td>\n",
       "      <td>33</td>\n",
       "      <td>1080</td>\n",
       "      <td>1920</td>\n",
       "      <td>False</td>\n",
       "      <td>40</td>\n",
       "    </tr>\n",
       "    <tr>\n",
       "      <th>...</th>\n",
       "      <td>...</td>\n",
       "      <td>...</td>\n",
       "      <td>...</td>\n",
       "      <td>...</td>\n",
       "      <td>...</td>\n",
       "      <td>...</td>\n",
       "      <td>...</td>\n",
       "      <td>...</td>\n",
       "      <td>...</td>\n",
       "    </tr>\n",
       "    <tr>\n",
       "      <th>3857</th>\n",
       "      <td>c6fd8cec-5984-4101-9616-acf180e89a81</td>\n",
       "      <td>08b8fc47e7a869751c13f64a922e6c15</td>\n",
       "      <td>Ю</td>\n",
       "      <td>44</td>\n",
       "      <td>173</td>\n",
       "      <td>1920</td>\n",
       "      <td>1080</td>\n",
       "      <td>True</td>\n",
       "      <td>236</td>\n",
       "    </tr>\n",
       "    <tr>\n",
       "      <th>3858</th>\n",
       "      <td>1f4cdeed-c5a1-46dc-9eaa-af40cf662d86</td>\n",
       "      <td>f15c4e5b9dfe541cf7e6c05733b579e2</td>\n",
       "      <td>Ю</td>\n",
       "      <td>10</td>\n",
       "      <td>96</td>\n",
       "      <td>1920</td>\n",
       "      <td>1080</td>\n",
       "      <td>True</td>\n",
       "      <td>97</td>\n",
       "    </tr>\n",
       "    <tr>\n",
       "      <th>3859</th>\n",
       "      <td>4208dbab-bea9-4d81-bbfb-7c7a028a4341</td>\n",
       "      <td>7faa41c4cf0a2602a23390de23574993</td>\n",
       "      <td>Я</td>\n",
       "      <td>80</td>\n",
       "      <td>163</td>\n",
       "      <td>1080</td>\n",
       "      <td>1920</td>\n",
       "      <td>True</td>\n",
       "      <td>197</td>\n",
       "    </tr>\n",
       "    <tr>\n",
       "      <th>3860</th>\n",
       "      <td>53f4f947-9f8b-4aba-ac8b-ebc2655d15ff</td>\n",
       "      <td>ff169f3bbab458308b88188be3657125</td>\n",
       "      <td>Я</td>\n",
       "      <td>19</td>\n",
       "      <td>110</td>\n",
       "      <td>1920</td>\n",
       "      <td>1080</td>\n",
       "      <td>True</td>\n",
       "      <td>200</td>\n",
       "    </tr>\n",
       "    <tr>\n",
       "      <th>3861</th>\n",
       "      <td>41e6d879-d8b1-476e-b5f1-0a214395ba2d</td>\n",
       "      <td>d01fdbbbd69ec8c4914397ba4abb899c</td>\n",
       "      <td>Я</td>\n",
       "      <td>1</td>\n",
       "      <td>110</td>\n",
       "      <td>1920</td>\n",
       "      <td>1080</td>\n",
       "      <td>True</td>\n",
       "      <td>111</td>\n",
       "    </tr>\n",
       "  </tbody>\n",
       "</table>\n",
       "<p>3862 rows × 9 columns</p>\n",
       "</div>"
      ],
      "text/plain": [
       "                             attachment_id  ... length\n",
       "0     df5b08f0-41d1-4572-889c-8b893e71069b  ...    150\n",
       "1     3d2b6a08-131d-40a9-9533-cf45cefb07fd  ...     78\n",
       "2     1915f996-71ed-44ae-9a34-ee1959919238  ...     98\n",
       "3     bfb2d7ae-0f6c-4e20-b087-0965641d34ff  ...     82\n",
       "4     24936cc5-e5bb-43a3-96b8-2a9b4a6d157f  ...     40\n",
       "...                                    ...  ...    ...\n",
       "3857  c6fd8cec-5984-4101-9616-acf180e89a81  ...    236\n",
       "3858  1f4cdeed-c5a1-46dc-9eaa-af40cf662d86  ...     97\n",
       "3859  4208dbab-bea9-4d81-bbfb-7c7a028a4341  ...    197\n",
       "3860  53f4f947-9f8b-4aba-ac8b-ebc2655d15ff  ...    200\n",
       "3861  41e6d879-d8b1-476e-b5f1-0a214395ba2d  ...    111\n",
       "\n",
       "[3862 rows x 9 columns]"
      ]
     },
     "execution_count": 81,
     "metadata": {},
     "output_type": "execute_result"
    }
   ],
   "source": [
    "annot"
   ]
  },
  {
   "cell_type": "code",
   "execution_count": 82,
   "id": "c1f059c6",
   "metadata": {
    "execution": {
     "iopub.execute_input": "2025-05-30T12:44:38.759023Z",
     "iopub.status.busy": "2025-05-30T12:44:38.758026Z",
     "iopub.status.idle": "2025-05-30T12:44:38.782054Z",
     "shell.execute_reply": "2025-05-30T12:44:38.781188Z",
     "shell.execute_reply.started": "2025-05-30T12:44:38.758988Z"
    },
    "tags": []
   },
   "outputs": [
    {
     "data": {
      "text/html": [
       "<div>\n",
       "<style scoped>\n",
       "    .dataframe tbody tr th:only-of-type {\n",
       "        vertical-align: middle;\n",
       "    }\n",
       "\n",
       "    .dataframe tbody tr th {\n",
       "        vertical-align: top;\n",
       "    }\n",
       "\n",
       "    .dataframe thead th {\n",
       "        text-align: right;\n",
       "    }\n",
       "</style>\n",
       "<table border=\"1\" class=\"dataframe\">\n",
       "  <thead>\n",
       "    <tr style=\"text-align: right;\">\n",
       "      <th></th>\n",
       "      <th>attachment_id</th>\n",
       "      <th>text</th>\n",
       "      <th>train</th>\n",
       "    </tr>\n",
       "  </thead>\n",
       "  <tbody>\n",
       "    <tr>\n",
       "      <th>0</th>\n",
       "      <td>df5b08f0-41d1-4572-889c-8b893e71069b</td>\n",
       "      <td>А</td>\n",
       "      <td>False</td>\n",
       "    </tr>\n",
       "    <tr>\n",
       "      <th>1</th>\n",
       "      <td>3d2b6a08-131d-40a9-9533-cf45cefb07fd</td>\n",
       "      <td>А</td>\n",
       "      <td>True</td>\n",
       "    </tr>\n",
       "    <tr>\n",
       "      <th>2</th>\n",
       "      <td>1915f996-71ed-44ae-9a34-ee1959919238</td>\n",
       "      <td>А</td>\n",
       "      <td>True</td>\n",
       "    </tr>\n",
       "    <tr>\n",
       "      <th>3</th>\n",
       "      <td>bfb2d7ae-0f6c-4e20-b087-0965641d34ff</td>\n",
       "      <td>А</td>\n",
       "      <td>False</td>\n",
       "    </tr>\n",
       "    <tr>\n",
       "      <th>4</th>\n",
       "      <td>24936cc5-e5bb-43a3-96b8-2a9b4a6d157f</td>\n",
       "      <td>А</td>\n",
       "      <td>False</td>\n",
       "    </tr>\n",
       "    <tr>\n",
       "      <th>...</th>\n",
       "      <td>...</td>\n",
       "      <td>...</td>\n",
       "      <td>...</td>\n",
       "    </tr>\n",
       "    <tr>\n",
       "      <th>3857</th>\n",
       "      <td>c6fd8cec-5984-4101-9616-acf180e89a81</td>\n",
       "      <td>Ю</td>\n",
       "      <td>True</td>\n",
       "    </tr>\n",
       "    <tr>\n",
       "      <th>3858</th>\n",
       "      <td>1f4cdeed-c5a1-46dc-9eaa-af40cf662d86</td>\n",
       "      <td>Ю</td>\n",
       "      <td>True</td>\n",
       "    </tr>\n",
       "    <tr>\n",
       "      <th>3859</th>\n",
       "      <td>4208dbab-bea9-4d81-bbfb-7c7a028a4341</td>\n",
       "      <td>Я</td>\n",
       "      <td>True</td>\n",
       "    </tr>\n",
       "    <tr>\n",
       "      <th>3860</th>\n",
       "      <td>53f4f947-9f8b-4aba-ac8b-ebc2655d15ff</td>\n",
       "      <td>Я</td>\n",
       "      <td>True</td>\n",
       "    </tr>\n",
       "    <tr>\n",
       "      <th>3861</th>\n",
       "      <td>41e6d879-d8b1-476e-b5f1-0a214395ba2d</td>\n",
       "      <td>Я</td>\n",
       "      <td>True</td>\n",
       "    </tr>\n",
       "  </tbody>\n",
       "</table>\n",
       "<p>3862 rows × 3 columns</p>\n",
       "</div>"
      ],
      "text/plain": [
       "                             attachment_id text  train\n",
       "0     df5b08f0-41d1-4572-889c-8b893e71069b    А  False\n",
       "1     3d2b6a08-131d-40a9-9533-cf45cefb07fd    А   True\n",
       "2     1915f996-71ed-44ae-9a34-ee1959919238    А   True\n",
       "3     bfb2d7ae-0f6c-4e20-b087-0965641d34ff    А  False\n",
       "4     24936cc5-e5bb-43a3-96b8-2a9b4a6d157f    А  False\n",
       "...                                    ...  ...    ...\n",
       "3857  c6fd8cec-5984-4101-9616-acf180e89a81    Ю   True\n",
       "3858  1f4cdeed-c5a1-46dc-9eaa-af40cf662d86    Ю   True\n",
       "3859  4208dbab-bea9-4d81-bbfb-7c7a028a4341    Я   True\n",
       "3860  53f4f947-9f8b-4aba-ac8b-ebc2655d15ff    Я   True\n",
       "3861  41e6d879-d8b1-476e-b5f1-0a214395ba2d    Я   True\n",
       "\n",
       "[3862 rows x 3 columns]"
      ]
     },
     "execution_count": 82,
     "metadata": {},
     "output_type": "execute_result"
    }
   ],
   "source": [
    "annot.drop(columns=[\"user_id\", \"begin\", \"end\", \"height\", \"width\", \"length\"], inplace=False)"
   ]
  },
  {
   "cell_type": "code",
   "execution_count": 83,
   "id": "a749d3f7",
   "metadata": {
    "execution": {
     "iopub.execute_input": "2025-05-30T12:44:38.784031Z",
     "iopub.status.busy": "2025-05-30T12:44:38.783258Z",
     "iopub.status.idle": "2025-05-30T12:44:38.799544Z",
     "shell.execute_reply": "2025-05-30T12:44:38.798747Z",
     "shell.execute_reply.started": "2025-05-30T12:44:38.783999Z"
    },
    "tags": []
   },
   "outputs": [],
   "source": [
    "label_map = {\"no_event\":0, \"А\":1, \"Б\":2, \"В\":3, \"Г\":4, \"Д\":5, \"Е\":6, \"Ё\":7, \"Ж\":8, \"З\":9, \"И\":10, \"Й\":11, \"К\":12, \"Л\":13, \"М\":14, \"Н\":15, \"О\":16, \"П\":17, \"Р\":18, \"С\":19, \"Т\":20, \"У\":21, \"Ф\":22, \"Х\":23, \"Ц\":24, \"Ч\":25, \"Ш\":26, \"Щ\":27, \"Ъ\":28, \"Ы\":29, \"Ь\":30, \"Э\":31, \"Ю\":32, \"Я\":33}"
   ]
  },
  {
   "cell_type": "code",
   "execution_count": 84,
   "id": "a02bf043",
   "metadata": {
    "execution": {
     "iopub.execute_input": "2025-05-30T12:44:38.801852Z",
     "iopub.status.busy": "2025-05-30T12:44:38.800598Z",
     "iopub.status.idle": "2025-05-30T12:44:38.824528Z",
     "shell.execute_reply": "2025-05-30T12:44:38.823672Z",
     "shell.execute_reply.started": "2025-05-30T12:44:38.801808Z"
    },
    "tags": []
   },
   "outputs": [],
   "source": [
    "annot[\"text\"] = annot[\"text\"].apply(lambda x: label_map[x])"
   ]
  },
  {
   "cell_type": "code",
   "execution_count": 85,
   "id": "4fbe6286",
   "metadata": {
    "execution": {
     "iopub.execute_input": "2025-05-30T12:44:38.826961Z",
     "iopub.status.busy": "2025-05-30T12:44:38.825769Z",
     "iopub.status.idle": "2025-05-30T12:44:38.843659Z",
     "shell.execute_reply": "2025-05-30T12:44:38.842799Z",
     "shell.execute_reply.started": "2025-05-30T12:44:38.826929Z"
    },
    "tags": []
   },
   "outputs": [
    {
     "name": "stdout",
     "output_type": "stream",
     "text": [
      "(3182, 8)\n"
     ]
    }
   ],
   "source": [
    "train_df = annot[annot[\"train\"] == True].drop(\"train\", axis=1)\n",
    "\n",
    "print(train_df.shape)"
   ]
  },
  {
   "cell_type": "code",
   "execution_count": 86,
   "id": "43a61296",
   "metadata": {
    "execution": {
     "iopub.execute_input": "2025-05-30T12:44:38.845529Z",
     "iopub.status.busy": "2025-05-30T12:44:38.844769Z",
     "iopub.status.idle": "2025-05-30T12:44:38.866371Z",
     "shell.execute_reply": "2025-05-30T12:44:38.865417Z",
     "shell.execute_reply.started": "2025-05-30T12:44:38.845491Z"
    },
    "tags": []
   },
   "outputs": [
    {
     "data": {
      "text/plain": [
       "(680, 8)"
      ]
     },
     "execution_count": 86,
     "metadata": {},
     "output_type": "execute_result"
    }
   ],
   "source": [
    "test_df = annot[annot[\"train\"] == False].drop(\"train\", axis=1)\n",
    "test_df.shape"
   ]
  },
  {
   "cell_type": "markdown",
   "id": "3e218c0e",
   "metadata": {
    "jp-MarkdownHeadingCollapsed": true,
    "tags": []
   },
   "source": [
    "### Dataset Creation"
   ]
  },
  {
   "cell_type": "code",
   "execution_count": 87,
   "id": "6258bdf2",
   "metadata": {
    "execution": {
     "iopub.execute_input": "2025-05-30T12:44:38.868648Z",
     "iopub.status.busy": "2025-05-30T12:44:38.867583Z",
     "iopub.status.idle": "2025-05-30T12:44:38.883513Z",
     "shell.execute_reply": "2025-05-30T12:44:38.882706Z",
     "shell.execute_reply.started": "2025-05-30T12:44:38.868607Z"
    },
    "tags": []
   },
   "outputs": [],
   "source": [
    "NUM_FRAMES = 8\n",
    "NUM_CLASSES = 34"
   ]
  },
  {
   "cell_type": "code",
   "execution_count": 88,
   "id": "f278c92c",
   "metadata": {
    "execution": {
     "iopub.execute_input": "2025-05-30T12:44:38.885317Z",
     "iopub.status.busy": "2025-05-30T12:44:38.884605Z",
     "iopub.status.idle": "2025-05-30T12:44:38.918668Z",
     "shell.execute_reply": "2025-05-30T12:44:38.917749Z",
     "shell.execute_reply.started": "2025-05-30T12:44:38.885288Z"
    },
    "tags": []
   },
   "outputs": [],
   "source": [
    "ROOT_DIR = \"/home/jupyter/datasphere/project/processed\""
   ]
  },
  {
   "cell_type": "code",
   "execution_count": 89,
   "id": "45248a8d",
   "metadata": {
    "execution": {
     "iopub.execute_input": "2025-05-30T12:44:38.920588Z",
     "iopub.status.busy": "2025-05-30T12:44:38.919835Z",
     "iopub.status.idle": "2025-05-30T12:44:38.933703Z",
     "shell.execute_reply": "2025-05-30T12:44:38.932924Z",
     "shell.execute_reply.started": "2025-05-30T12:44:38.920560Z"
    },
    "tags": []
   },
   "outputs": [],
   "source": [
    "def sample_frame_paths(video_dir, num_frames=8):\n",
    "\n",
    "    all_frames = sorted([\n",
    "        os.path.join(video_dir, fname)\n",
    "        for fname in os.listdir(video_dir)\n",
    "        if fname.endswith(\".jpg\")\n",
    "    ])\n",
    "    total = len(all_frames)\n",
    "\n",
    "    boundaries = np.linspace(0, total, num_frames + 1, dtype=np.int32)\n",
    "    \n",
    "    selected_indices = []\n",
    "    \n",
    "    for i in range(num_frames):\n",
    "        start = boundaries[i]\n",
    "        end = boundaries[i + 1]\n",
    "        if end - start > 0:\n",
    "            idx = np.random.randint(start, end)\n",
    "        else:\n",
    "            idx = start\n",
    "        selected_indices.append(idx)\n",
    "    \n",
    "    return [all_frames[i] for i in selected_indices]"
   ]
  },
  {
   "cell_type": "code",
   "execution_count": null,
   "id": "da8eca9f",
   "metadata": {
    "execution": {
     "iopub.execute_input": "2025-05-30T12:44:38.935850Z",
     "iopub.status.busy": "2025-05-30T12:44:38.934771Z",
     "iopub.status.idle": "2025-05-30T12:44:38.947188Z",
     "shell.execute_reply": "2025-05-30T12:44:38.946407Z",
     "shell.execute_reply.started": "2025-05-30T12:44:38.935809Z"
    },
    "tags": []
   },
   "outputs": [],
   "source": [
    "def load_and_preprocess(path):\n",
    "    \n",
    "    img = tf.io.read_file(path)\n",
    "    img = tf.image.decode_jpeg(img, channels=3)\n",
    "\n",
    "    return tf.cast(img, tf.float32) / 255.0\n"
   ]
  },
  {
   "cell_type": "code",
   "execution_count": 91,
   "id": "44e237b6",
   "metadata": {
    "execution": {
     "iopub.execute_input": "2025-05-30T12:44:38.949334Z",
     "iopub.status.busy": "2025-05-30T12:44:38.948190Z",
     "iopub.status.idle": "2025-05-30T12:44:38.961435Z",
     "shell.execute_reply": "2025-05-30T12:44:38.960438Z",
     "shell.execute_reply.started": "2025-05-30T12:44:38.949295Z"
    },
    "tags": []
   },
   "outputs": [],
   "source": [
    "def load_video(path, label):\n",
    "        \n",
    "    frame_paths = sample_frame_paths(path)\n",
    "\n",
    "    frames = []\n",
    "    for p in frame_paths:\n",
    "        frames.append(load_and_preprocess(p))\n",
    "    # frames.shape == (8, 224, 224, 3)\n",
    "    frames = tf.stack(frames)\n",
    "    return frames, label\n"
   ]
  },
  {
   "cell_type": "code",
   "execution_count": null,
   "id": "9f51e1d3-14ba-474b-a289-b595fbbde36a",
   "metadata": {
    "execution": {
     "iopub.execute_input": "2025-05-30T12:44:38.963548Z",
     "iopub.status.busy": "2025-05-30T12:44:38.962651Z",
     "iopub.status.idle": "2025-05-30T12:44:38.986507Z",
     "shell.execute_reply": "2025-05-30T12:44:38.985419Z",
     "shell.execute_reply.started": "2025-05-30T12:44:38.963504Z"
    },
    "tags": []
   },
   "outputs": [],
   "source": [
    "data_augmentation = tf.keras.Sequential([\n",
    "    layers.RandomFlip(\"horizontal\"),\n",
    "    layers.RandomZoom(-0.2),\n",
    "    layers.RandomRotation(0.1),\n",
    "    #tf.keras.layers.RandomTranslation(height_factor=0.05, width_factor=0.05),\n",
    "])\n",
    "\n",
    "def augment_sequence(images, labels):\n",
    "    \n",
    "    batch_size = tf.shape(images)[0]\n",
    "    num_frames = 8\n",
    "    \n",
    "    # (batch, 8, 224, 224, 3) -> (batch*8, 224, 224, 3)\n",
    "    images_reshaped = tf.reshape(images, [-1, 224, 224, 3])\n",
    "    \n",
    "    augmented = data_augmentation(images_reshaped, training=True)\n",
    "    \n",
    "    augmented_sequence = tf.reshape(augmented, [batch_size, num_frames, 224, 224, 3])\n",
    "    \n",
    "    return augmented_sequence, labels"
   ]
  },
  {
   "cell_type": "code",
   "execution_count": 93,
   "id": "9563a668",
   "metadata": {
    "execution": {
     "iopub.execute_input": "2025-05-30T12:44:38.992939Z",
     "iopub.status.busy": "2025-05-30T12:44:38.991542Z",
     "iopub.status.idle": "2025-05-30T12:44:39.019726Z",
     "shell.execute_reply": "2025-05-30T12:44:39.018773Z",
     "shell.execute_reply.started": "2025-05-30T12:44:38.992887Z"
    },
    "tags": []
   },
   "outputs": [],
   "source": [
    "def video_generator(df):\n",
    "    list_video_dirs = df['attachment_id'].apply(lambda x: os.path.join(ROOT_DIR, x)).tolist()\n",
    "    list_labels = tf.one_hot(df['text'].astype(np.int32).tolist(), 34)\n",
    "    for path, label in zip(list_video_dirs, list_labels):\n",
    "        frames, _ = load_video(path, label)\n",
    "        yield frames, label\n",
    "\n",
    "\n",
    "def create_dataset(df, batch_size=8, augment=False, shuffle=False):\n",
    "\n",
    "    dataset = tf.data.Dataset.from_generator(\n",
    "        lambda: video_generator(df),\n",
    "        output_signature=(\n",
    "            tf.TensorSpec(shape=(8, 224, 224, 3)),\n",
    "            tf.TensorSpec(shape=(34,), dtype=tf.float32)\n",
    "        ))\n",
    "    \n",
    "    if shuffle:\n",
    "        dataset = dataset.shuffle(buffer_size=len(df), reshuffle_each_iteration=True)\n",
    "    \n",
    "    dataset = dataset.repeat().batch(batch_size)\n",
    "    \n",
    "    if augment:\n",
    "        dataset = dataset.map(augment_sequence, num_parallel_calls=tf.data.AUTOTUNE)\n",
    "    \n",
    "    dataset = dataset.prefetch(tf.data.AUTOTUNE)\n",
    "    \n",
    "    return dataset"
   ]
  },
  {
   "cell_type": "code",
   "execution_count": 94,
   "id": "39adfcf8",
   "metadata": {
    "execution": {
     "iopub.execute_input": "2025-05-30T12:44:39.021794Z",
     "iopub.status.busy": "2025-05-30T12:44:39.020867Z",
     "iopub.status.idle": "2025-05-30T12:44:39.250531Z",
     "shell.execute_reply": "2025-05-30T12:44:39.249479Z",
     "shell.execute_reply.started": "2025-05-30T12:44:39.021758Z"
    },
    "tags": []
   },
   "outputs": [],
   "source": [
    "batch_size = 16\n",
    "\n",
    "train_ds = create_dataset(train_df, batch_size, augment=True, shuffle=True)\n",
    "test_ds = create_dataset(test_df, batch_size)"
   ]
  },
  {
   "cell_type": "code",
   "execution_count": 95,
   "id": "ace2b33c",
   "metadata": {
    "execution": {
     "iopub.execute_input": "2025-05-30T12:44:39.252245Z",
     "iopub.status.busy": "2025-05-30T12:44:39.251679Z",
     "iopub.status.idle": "2025-05-30T12:44:39.265569Z",
     "shell.execute_reply": "2025-05-30T12:44:39.264735Z",
     "shell.execute_reply.started": "2025-05-30T12:44:39.252207Z"
    },
    "tags": []
   },
   "outputs": [
    {
     "data": {
      "text/plain": [
       "'\\nfor batch in train_ds.take(1):\\n    frames, labels = batch\\n    print(\"Frames shape:\", frames.shape)\\n    print(\"Labels:\", labels.shape)\\n'"
      ]
     },
     "execution_count": 95,
     "metadata": {},
     "output_type": "execute_result"
    }
   ],
   "source": [
    "'''\n",
    "for batch in train_ds.take(1):\n",
    "    frames, labels = batch\n",
    "    print(\"Frames shape:\", frames.shape)\n",
    "    print(\"Labels:\", labels.shape)\n",
    "'''"
   ]
  },
  {
   "cell_type": "markdown",
   "id": "e55a463d",
   "metadata": {},
   "source": [
    "### Training the model"
   ]
  },
  {
   "cell_type": "code",
   "execution_count": 96,
   "id": "0731bab0-b681-43e3-ba8f-c80f60002810",
   "metadata": {
    "execution": {
     "iopub.execute_input": "2025-05-30T12:44:39.267247Z",
     "iopub.status.busy": "2025-05-30T12:44:39.266711Z",
     "iopub.status.idle": "2025-05-30T12:44:39.294403Z",
     "shell.execute_reply": "2025-05-30T12:44:39.293510Z",
     "shell.execute_reply.started": "2025-05-30T12:44:39.267210Z"
    },
    "tags": []
   },
   "outputs": [
    {
     "name": "stdout",
     "output_type": "stream",
     "text": [
      "Num GPUs Available:  0\n"
     ]
    }
   ],
   "source": [
    "print(\"Num GPUs Available: \", len(tf.config.list_physical_devices('GPU')))"
   ]
  },
  {
   "cell_type": "code",
   "execution_count": 97,
   "id": "51297ce0",
   "metadata": {
    "execution": {
     "iopub.execute_input": "2025-05-30T12:44:39.296595Z",
     "iopub.status.busy": "2025-05-30T12:44:39.295530Z",
     "iopub.status.idle": "2025-05-30T12:44:39.308559Z",
     "shell.execute_reply": "2025-05-30T12:44:39.307692Z",
     "shell.execute_reply.started": "2025-05-30T12:44:39.296564Z"
    },
    "tags": []
   },
   "outputs": [],
   "source": [
    "from tensorflow.keras.optimizers import SGD, AdamW, Adamax\n",
    "from tensorflow.keras.losses import CategoricalCrossentropy"
   ]
  },
  {
   "cell_type": "code",
   "execution_count": 98,
   "id": "25b977a5",
   "metadata": {
    "execution": {
     "iopub.execute_input": "2025-05-30T12:44:39.311053Z",
     "iopub.status.busy": "2025-05-30T12:44:39.309773Z",
     "iopub.status.idle": "2025-05-30T12:44:43.022191Z",
     "shell.execute_reply": "2025-05-30T12:44:43.021273Z",
     "shell.execute_reply.started": "2025-05-30T12:44:39.311017Z"
    },
    "tags": []
   },
   "outputs": [
    {
     "name": "stdout",
     "output_type": "stream",
     "text": [
      "1/1 [==============================] - 1s 1s/step\n",
      "Output shape: (1, 34)\n"
     ]
    }
   ],
   "source": [
    "num_segments = 8\n",
    "num_classes = 34\n",
    "\n",
    "base_model = tf.keras.applications.MobileNetV2(weights='imagenet', include_top=False, input_shape=(224, 224, 3))\n",
    "\n",
    "tsm_model = insert_temporal_shift(base_model, num_segments=num_segments)\n",
    "\n",
    "for layer in tsm_model.layers:\n",
    "    layer.trainable = False\n",
    "\n",
    "out = GlobalAveragePooling2D()(tsm_model.output)\n",
    "out = Dropout(0.6)(out)\n",
    "\n",
    "out = Flatten(name='flatten')(out)\n",
    "\n",
    "logits = Dense(num_classes, use_bias=True, name='logits')(out)\n",
    "\n",
    "def unflatten(z):\n",
    "        bt = tf.shape(z)[0]\n",
    "        batch = bt // num_segments\n",
    "        return tf.reshape(z, (batch, num_segments, num_classes))\n",
    "\n",
    "logits = Lambda(unflatten, name='reshape_to_bt_c')(logits)\n",
    "\n",
    "out = Softmax()(logits)\n",
    "\n",
    "out = Lambda(lambda z: tf.reduce_mean(z, axis=1), name='segment_mean')(out)\n",
    "\n",
    "final_model = tf.keras.Model(inputs=tsm_model.input, outputs=out)\n",
    "\n",
    "# Тестовый пример\n",
    "test_input = np.random.rand(8, 224, 224, 3).astype(np.float32)\n",
    "test_output = final_model.predict(np.expand_dims(test_input, axis=0))\n",
    "print(\"Output shape:\", test_output.shape)\n",
    "#print(\"Dataset labels shape:\", labels.shape)"
   ]
  },
  {
   "cell_type": "code",
   "execution_count": 99,
   "id": "192168c7-def7-4251-a629-f16e6fd4b69e",
   "metadata": {
    "execution": {
     "iopub.execute_input": "2025-05-30T12:44:43.024304Z",
     "iopub.status.busy": "2025-05-30T12:44:43.023436Z",
     "iopub.status.idle": "2025-05-30T12:44:43.046864Z",
     "shell.execute_reply": "2025-05-30T12:44:43.045942Z",
     "shell.execute_reply.started": "2025-05-30T12:44:43.024260Z"
    },
    "tags": []
   },
   "outputs": [
    {
     "name": "stdout",
     "output_type": "stream",
     "text": [
      "000 | Frozen    | input\n",
      "001 | Frozen    | flatten_bt\n",
      "002 | Frozen    | Conv1\n",
      "003 | Frozen    | bn_Conv1\n",
      "004 | Frozen    | Conv1_relu\n",
      "005 | Frozen    | expanded_conv_depthwise\n",
      "006 | Frozen    | expanded_conv_depthwise_BN\n",
      "007 | Frozen    | expanded_conv_depthwise_relu\n",
      "008 | Frozen    | expanded_conv_project\n",
      "009 | Frozen    | expanded_conv_project_BN\n",
      "010 | Frozen    | block_1_expand\n",
      "011 | Frozen    | block_1_expand_BN\n",
      "012 | Frozen    | block_1_expand_relu\n",
      "013 | Frozen    | block_1_pad\n",
      "014 | Frozen    | block_1_depthwise\n",
      "015 | Frozen    | block_1_depthwise_BN\n",
      "016 | Frozen    | block_1_depthwise_relu\n",
      "017 | Frozen    | block_1_project\n",
      "018 | Frozen    | block_1_project_BN\n",
      "019 | Frozen    | block_2_expand\n",
      "020 | Frozen    | block_2_expand_BN\n",
      "021 | Frozen    | block_2_expand_relu\n",
      "022 | Frozen    | temporal_shift_10\n",
      "023 | Frozen    | block_2_depthwise\n",
      "024 | Frozen    | block_2_depthwise_BN\n",
      "025 | Frozen    | block_2_depthwise_relu\n",
      "026 | Frozen    | block_2_project\n",
      "027 | Frozen    | block_2_project_BN\n",
      "028 | Frozen    | block_2_add\n",
      "029 | Frozen    | block_3_expand\n",
      "030 | Frozen    | block_3_expand_BN\n",
      "031 | Frozen    | block_3_expand_relu\n",
      "032 | Frozen    | block_3_pad\n",
      "033 | Frozen    | block_3_depthwise\n",
      "034 | Frozen    | block_3_depthwise_BN\n",
      "035 | Frozen    | block_3_depthwise_relu\n",
      "036 | Frozen    | block_3_project\n",
      "037 | Frozen    | block_3_project_BN\n",
      "038 | Frozen    | block_4_expand\n",
      "039 | Frozen    | block_4_expand_BN\n",
      "040 | Frozen    | block_4_expand_relu\n",
      "041 | Frozen    | temporal_shift_11\n",
      "042 | Frozen    | block_4_depthwise\n",
      "043 | Frozen    | block_4_depthwise_BN\n",
      "044 | Frozen    | block_4_depthwise_relu\n",
      "045 | Frozen    | block_4_project\n",
      "046 | Frozen    | block_4_project_BN\n",
      "047 | Frozen    | block_4_add\n",
      "048 | Frozen    | block_5_expand\n",
      "049 | Frozen    | block_5_expand_BN\n",
      "050 | Frozen    | block_5_expand_relu\n",
      "051 | Frozen    | temporal_shift_12\n",
      "052 | Frozen    | block_5_depthwise\n",
      "053 | Frozen    | block_5_depthwise_BN\n",
      "054 | Frozen    | block_5_depthwise_relu\n",
      "055 | Frozen    | block_5_project\n",
      "056 | Frozen    | block_5_project_BN\n",
      "057 | Frozen    | block_5_add\n",
      "058 | Frozen    | block_6_expand\n",
      "059 | Frozen    | block_6_expand_BN\n",
      "060 | Frozen    | block_6_expand_relu\n",
      "061 | Frozen    | block_6_pad\n",
      "062 | Frozen    | block_6_depthwise\n",
      "063 | Frozen    | block_6_depthwise_BN\n",
      "064 | Frozen    | block_6_depthwise_relu\n",
      "065 | Frozen    | block_6_project\n",
      "066 | Frozen    | block_6_project_BN\n",
      "067 | Frozen    | block_7_expand\n",
      "068 | Frozen    | block_7_expand_BN\n",
      "069 | Frozen    | block_7_expand_relu\n",
      "070 | Frozen    | temporal_shift_13\n",
      "071 | Frozen    | block_7_depthwise\n",
      "072 | Frozen    | block_7_depthwise_BN\n",
      "073 | Frozen    | block_7_depthwise_relu\n",
      "074 | Frozen    | block_7_project\n",
      "075 | Frozen    | block_7_project_BN\n",
      "076 | Frozen    | block_7_add\n",
      "077 | Frozen    | block_8_expand\n",
      "078 | Frozen    | block_8_expand_BN\n",
      "079 | Frozen    | block_8_expand_relu\n",
      "080 | Frozen    | temporal_shift_14\n",
      "081 | Frozen    | block_8_depthwise\n",
      "082 | Frozen    | block_8_depthwise_BN\n",
      "083 | Frozen    | block_8_depthwise_relu\n",
      "084 | Frozen    | block_8_project\n",
      "085 | Frozen    | block_8_project_BN\n",
      "086 | Frozen    | block_8_add\n",
      "087 | Frozen    | block_9_expand\n",
      "088 | Frozen    | block_9_expand_BN\n",
      "089 | Frozen    | block_9_expand_relu\n",
      "090 | Frozen    | temporal_shift_15\n",
      "091 | Frozen    | block_9_depthwise\n",
      "092 | Frozen    | block_9_depthwise_BN\n",
      "093 | Frozen    | block_9_depthwise_relu\n",
      "094 | Frozen    | block_9_project\n",
      "095 | Frozen    | block_9_project_BN\n",
      "096 | Frozen    | block_9_add\n",
      "097 | Frozen    | block_10_expand\n",
      "098 | Frozen    | block_10_expand_BN\n",
      "099 | Frozen    | block_10_expand_relu\n",
      "100 | Frozen    | block_10_depthwise\n",
      "101 | Frozen    | block_10_depthwise_BN\n",
      "102 | Frozen    | block_10_depthwise_relu\n",
      "103 | Frozen    | block_10_project\n",
      "104 | Frozen    | block_10_project_BN\n",
      "105 | Frozen    | block_11_expand\n",
      "106 | Frozen    | block_11_expand_BN\n",
      "107 | Frozen    | block_11_expand_relu\n",
      "108 | Frozen    | temporal_shift_16\n",
      "109 | Frozen    | block_11_depthwise\n",
      "110 | Frozen    | block_11_depthwise_BN\n",
      "111 | Frozen    | block_11_depthwise_relu\n",
      "112 | Frozen    | block_11_project\n",
      "113 | Frozen    | block_11_project_BN\n",
      "114 | Frozen    | block_11_add\n",
      "115 | Frozen    | block_12_expand\n",
      "116 | Frozen    | block_12_expand_BN\n",
      "117 | Frozen    | block_12_expand_relu\n",
      "118 | Frozen    | temporal_shift_17\n",
      "119 | Frozen    | block_12_depthwise\n",
      "120 | Frozen    | block_12_depthwise_BN\n",
      "121 | Frozen    | block_12_depthwise_relu\n",
      "122 | Frozen    | block_12_project\n",
      "123 | Frozen    | block_12_project_BN\n",
      "124 | Frozen    | block_12_add\n",
      "125 | Frozen    | block_13_expand\n",
      "126 | Frozen    | block_13_expand_BN\n",
      "127 | Frozen    | block_13_expand_relu\n",
      "128 | Frozen    | block_13_pad\n",
      "129 | Frozen    | block_13_depthwise\n",
      "130 | Frozen    | block_13_depthwise_BN\n",
      "131 | Frozen    | block_13_depthwise_relu\n",
      "132 | Frozen    | block_13_project\n",
      "133 | Frozen    | block_13_project_BN\n",
      "134 | Frozen    | block_14_expand\n",
      "135 | Frozen    | block_14_expand_BN\n",
      "136 | Frozen    | block_14_expand_relu\n",
      "137 | Frozen    | temporal_shift_18\n",
      "138 | Frozen    | block_14_depthwise\n",
      "139 | Frozen    | block_14_depthwise_BN\n",
      "140 | Frozen    | block_14_depthwise_relu\n",
      "141 | Frozen    | block_14_project\n",
      "142 | Frozen    | block_14_project_BN\n",
      "143 | Frozen    | block_14_add\n",
      "144 | Frozen    | block_15_expand\n",
      "145 | Frozen    | block_15_expand_BN\n",
      "146 | Frozen    | block_15_expand_relu\n",
      "147 | Frozen    | temporal_shift_19\n",
      "148 | Frozen    | block_15_depthwise\n",
      "149 | Frozen    | block_15_depthwise_BN\n",
      "150 | Frozen    | block_15_depthwise_relu\n",
      "151 | Frozen    | block_15_project\n",
      "152 | Frozen    | block_15_project_BN\n",
      "153 | Frozen    | block_15_add\n",
      "154 | Frozen    | block_16_expand\n",
      "155 | Frozen    | block_16_expand_BN\n",
      "156 | Frozen    | block_16_expand_relu\n",
      "157 | Frozen    | block_16_depthwise\n",
      "158 | Frozen    | block_16_depthwise_BN\n",
      "159 | Frozen    | block_16_depthwise_relu\n",
      "160 | Frozen    | block_16_project\n",
      "161 | Frozen    | block_16_project_BN\n",
      "162 | Frozen    | Conv_1\n",
      "163 | Frozen    | Conv_1_bn\n",
      "164 | Frozen    | out_relu\n",
      "165 | Trainable | global_average_pooling2d_1\n",
      "166 | Trainable | dropout_1\n",
      "167 | Trainable | flatten\n",
      "168 | Trainable | logits\n",
      "169 | Trainable | reshape_to_bt_c\n",
      "170 | Trainable | softmax_1\n",
      "171 | Trainable | segment_mean\n"
     ]
    }
   ],
   "source": [
    "for i, layer in enumerate(final_model.layers):\n",
    "    print(f\"{i:03d} | {'Trainable' if layer.trainable else 'Frozen':9} | {layer.name}\")"
   ]
  },
  {
   "cell_type": "code",
   "execution_count": 100,
   "id": "348d13ec-e997-4c31-ad0d-714e27b175f8",
   "metadata": {
    "execution": {
     "iopub.execute_input": "2025-05-30T12:44:43.049093Z",
     "iopub.status.busy": "2025-05-30T12:44:43.048033Z",
     "iopub.status.idle": "2025-05-30T12:44:43.102434Z",
     "shell.execute_reply": "2025-05-30T12:44:43.101437Z",
     "shell.execute_reply.started": "2025-05-30T12:44:43.049062Z"
    },
    "tags": []
   },
   "outputs": [],
   "source": [
    "#tf.keras.utils.plot_model(final_model)"
   ]
  },
  {
   "cell_type": "code",
   "execution_count": 101,
   "id": "f80f8605-b529-4a0f-b23b-dd33b93114d0",
   "metadata": {
    "execution": {
     "iopub.execute_input": "2025-05-30T12:44:43.104572Z",
     "iopub.status.busy": "2025-05-30T12:44:43.103623Z",
     "iopub.status.idle": "2025-05-30T13:23:04.188292Z",
     "shell.execute_reply": "2025-05-30T13:23:04.187163Z",
     "shell.execute_reply.started": "2025-05-30T12:44:43.104532Z"
    },
    "tags": []
   },
   "outputs": [
    {
     "name": "stderr",
     "output_type": "stream",
     "text": [
      "2025-05-30 12:44:43.133344: I tensorflow/core/common_runtime/executor.cc:1197] [/device:CPU:0] (DEBUG INFO) Executor start aborting (this does not indicate an error and you can ignore this message): INVALID_ARGUMENT: You must feed a value for placeholder tensor 'Placeholder/_13' with dtype resource\n",
      "\t [[{{node Placeholder/_13}}]]\n",
      "2025-05-30 12:44:43.133731: I tensorflow/core/common_runtime/executor.cc:1197] [/device:CPU:0] (DEBUG INFO) Executor start aborting (this does not indicate an error and you can ignore this message): INVALID_ARGUMENT: You must feed a value for placeholder tensor 'Placeholder/_13' with dtype resource\n",
      "\t [[{{node Placeholder/_13}}]]\n"
     ]
    },
    {
     "name": "stdout",
     "output_type": "stream",
     "text": [
      "Epoch 1/10\n"
     ]
    },
    {
     "name": "stderr",
     "output_type": "stream",
     "text": [
      "2025-05-30 12:44:57.616874: I tensorflow/core/kernels/data/shuffle_dataset_op.cc:392] Filling up shuffle buffer (this may take a while): 538 of 3182\n",
      "2025-05-30 12:45:07.594178: I tensorflow/core/kernels/data/shuffle_dataset_op.cc:392] Filling up shuffle buffer (this may take a while): 951 of 3182\n",
      "2025-05-30 12:45:17.611210: I tensorflow/core/kernels/data/shuffle_dataset_op.cc:392] Filling up shuffle buffer (this may take a while): 1367 of 3182\n",
      "2025-05-30 12:45:27.613025: I tensorflow/core/kernels/data/shuffle_dataset_op.cc:392] Filling up shuffle buffer (this may take a while): 1780 of 3182\n",
      "2025-05-30 12:45:37.605938: I tensorflow/core/kernels/data/shuffle_dataset_op.cc:392] Filling up shuffle buffer (this may take a while): 2187 of 3182\n",
      "2025-05-30 12:45:47.611115: I tensorflow/core/kernels/data/shuffle_dataset_op.cc:392] Filling up shuffle buffer (this may take a while): 2590 of 3182\n",
      "2025-05-30 12:45:57.603927: I tensorflow/core/kernels/data/shuffle_dataset_op.cc:392] Filling up shuffle buffer (this may take a while): 3006 of 3182\n",
      "2025-05-30 12:46:02.049644: I tensorflow/core/kernels/data/shuffle_dataset_op.cc:417] Shuffle buffer filled.\n"
     ]
    },
    {
     "name": "stdout",
     "output_type": "stream",
     "text": [
      "198/198 [==============================] - ETA: 0s - loss: 3.7971 - categorical_accuracy: 0.0366 - top-3-accuracy: 0.0963"
     ]
    },
    {
     "name": "stderr",
     "output_type": "stream",
     "text": [
      "2025-05-30 12:49:08.550953: I tensorflow/core/common_runtime/executor.cc:1197] [/device:CPU:0] (DEBUG INFO) Executor start aborting (this does not indicate an error and you can ignore this message): INVALID_ARGUMENT: You must feed a value for placeholder tensor 'Placeholder/_0' with dtype int32\n",
      "\t [[{{node Placeholder/_0}}]]\n",
      "2025-05-30 12:49:08.551219: I tensorflow/core/common_runtime/executor.cc:1197] [/device:CPU:0] (DEBUG INFO) Executor start aborting (this does not indicate an error and you can ignore this message): INVALID_ARGUMENT: You must feed a value for placeholder tensor 'Placeholder/_0' with dtype int32\n",
      "\t [[{{node Placeholder/_0}}]]\n"
     ]
    },
    {
     "name": "stdout",
     "output_type": "stream",
     "text": [
      "198/198 [==============================] - 305s 1s/step - loss: 3.7971 - categorical_accuracy: 0.0366 - top-3-accuracy: 0.0963 - val_loss: 3.6847 - val_categorical_accuracy: 0.0312 - val_top-3-accuracy: 0.0923\n",
      "Epoch 2/10\n",
      "198/198 [==============================] - 221s 1s/step - loss: 3.6316 - categorical_accuracy: 0.0537 - top-3-accuracy: 0.1297 - val_loss: 3.6318 - val_categorical_accuracy: 0.0342 - val_top-3-accuracy: 0.1161\n",
      "Epoch 3/10\n",
      "198/198 [==============================] - 222s 1s/step - loss: 3.5139 - categorical_accuracy: 0.0660 - top-3-accuracy: 0.1752 - val_loss: 3.5848 - val_categorical_accuracy: 0.0417 - val_top-3-accuracy: 0.1354\n",
      "Epoch 4/10\n",
      "198/198 [==============================] - 222s 1s/step - loss: 3.4173 - categorical_accuracy: 0.0773 - top-3-accuracy: 0.1938 - val_loss: 3.5504 - val_categorical_accuracy: 0.0506 - val_top-3-accuracy: 0.1265\n",
      "Epoch 5/10\n",
      "198/198 [==============================] - 223s 1s/step - loss: 3.3345 - categorical_accuracy: 0.0991 - top-3-accuracy: 0.2197 - val_loss: 3.5193 - val_categorical_accuracy: 0.0595 - val_top-3-accuracy: 0.1503\n",
      "Epoch 6/10\n",
      "198/198 [==============================] - 222s 1s/step - loss: 3.2948 - categorical_accuracy: 0.1007 - top-3-accuracy: 0.2282 - val_loss: 3.4699 - val_categorical_accuracy: 0.0565 - val_top-3-accuracy: 0.1637\n",
      "Epoch 7/10\n",
      "198/198 [==============================] - 221s 1s/step - loss: 3.2187 - categorical_accuracy: 0.1234 - top-3-accuracy: 0.2652 - val_loss: 3.5270 - val_categorical_accuracy: 0.0521 - val_top-3-accuracy: 0.1473\n",
      "Epoch 8/10\n",
      "198/198 [==============================] - 222s 1s/step - loss: 3.1543 - categorical_accuracy: 0.1392 - top-3-accuracy: 0.2891 - val_loss: 3.4620 - val_categorical_accuracy: 0.0714 - val_top-3-accuracy: 0.1741\n",
      "Epoch 9/10\n",
      "198/198 [==============================] - 221s 1s/step - loss: 3.1051 - categorical_accuracy: 0.1405 - top-3-accuracy: 0.3150 - val_loss: 3.4571 - val_categorical_accuracy: 0.0640 - val_top-3-accuracy: 0.1815\n",
      "Epoch 10/10\n",
      "198/198 [==============================] - 222s 1s/step - loss: 3.0820 - categorical_accuracy: 0.1512 - top-3-accuracy: 0.3147 - val_loss: 3.4337 - val_categorical_accuracy: 0.0729 - val_top-3-accuracy: 0.1890\n"
     ]
    }
   ],
   "source": [
    "epochs = 10\n",
    "\n",
    "\n",
    "optimizer = AdamW(learning_rate=3e-4, weight_decay=1e-5)\n",
    "loss = CategoricalCrossentropy()\n",
    "metrics = [tf.keras.metrics.CategoricalAccuracy(), tf.keras.metrics.TopKCategoricalAccuracy(k=3, name='top-3-accuracy')]\n",
    "\n",
    "final_model.compile(\n",
    "    optimizer=optimizer,\n",
    "    loss=loss,\n",
    "    metrics=metrics\n",
    ")\n",
    "\n",
    "history = final_model.fit(\n",
    "    train_ds,\n",
    "    epochs=epochs,\n",
    "    steps_per_epoch = len(train_df) // batch_size,\n",
    "    validation_steps = len(test_df) //batch_size,\n",
    "    validation_data=test_ds\n",
    ")\n"
   ]
  },
  {
   "cell_type": "code",
   "execution_count": 102,
   "id": "e985dafd-205f-4f2b-9187-369ee5106aef",
   "metadata": {
    "execution": {
     "iopub.execute_input": "2025-05-30T13:23:04.190347Z",
     "iopub.status.busy": "2025-05-30T13:23:04.189582Z",
     "iopub.status.idle": "2025-05-30T13:23:04.206931Z",
     "shell.execute_reply": "2025-05-30T13:23:04.206096Z",
     "shell.execute_reply.started": "2025-05-30T13:23:04.190306Z"
    },
    "tags": []
   },
   "outputs": [],
   "source": [
    "for i, layer in enumerate(final_model.layers[115:]):\n",
    "    if isinstance(layer, BatchNormalization):\n",
    "        layer.trainable = False\n",
    "    else:\n",
    "        layer.trainable = True"
   ]
  },
  {
   "cell_type": "code",
   "execution_count": 103,
   "id": "e0f33a60-58c7-4d46-95b5-7856a4e96ff6",
   "metadata": {
    "execution": {
     "iopub.execute_input": "2025-05-30T13:23:04.209169Z",
     "iopub.status.busy": "2025-05-30T13:23:04.208007Z",
     "iopub.status.idle": "2025-05-30T13:23:04.226707Z",
     "shell.execute_reply": "2025-05-30T13:23:04.225337Z",
     "shell.execute_reply.started": "2025-05-30T13:23:04.209137Z"
    },
    "tags": []
   },
   "outputs": [
    {
     "name": "stdout",
     "output_type": "stream",
     "text": [
      "000 | Frozen    | input\n",
      "001 | Frozen    | flatten_bt\n",
      "002 | Frozen    | Conv1\n",
      "003 | Frozen    | bn_Conv1\n",
      "004 | Frozen    | Conv1_relu\n",
      "005 | Frozen    | expanded_conv_depthwise\n",
      "006 | Frozen    | expanded_conv_depthwise_BN\n",
      "007 | Frozen    | expanded_conv_depthwise_relu\n",
      "008 | Frozen    | expanded_conv_project\n",
      "009 | Frozen    | expanded_conv_project_BN\n",
      "010 | Frozen    | block_1_expand\n",
      "011 | Frozen    | block_1_expand_BN\n",
      "012 | Frozen    | block_1_expand_relu\n",
      "013 | Frozen    | block_1_pad\n",
      "014 | Frozen    | block_1_depthwise\n",
      "015 | Frozen    | block_1_depthwise_BN\n",
      "016 | Frozen    | block_1_depthwise_relu\n",
      "017 | Frozen    | block_1_project\n",
      "018 | Frozen    | block_1_project_BN\n",
      "019 | Frozen    | block_2_expand\n",
      "020 | Frozen    | block_2_expand_BN\n",
      "021 | Frozen    | block_2_expand_relu\n",
      "022 | Frozen    | temporal_shift_10\n",
      "023 | Frozen    | block_2_depthwise\n",
      "024 | Frozen    | block_2_depthwise_BN\n",
      "025 | Frozen    | block_2_depthwise_relu\n",
      "026 | Frozen    | block_2_project\n",
      "027 | Frozen    | block_2_project_BN\n",
      "028 | Frozen    | block_2_add\n",
      "029 | Frozen    | block_3_expand\n",
      "030 | Frozen    | block_3_expand_BN\n",
      "031 | Frozen    | block_3_expand_relu\n",
      "032 | Frozen    | block_3_pad\n",
      "033 | Frozen    | block_3_depthwise\n",
      "034 | Frozen    | block_3_depthwise_BN\n",
      "035 | Frozen    | block_3_depthwise_relu\n",
      "036 | Frozen    | block_3_project\n",
      "037 | Frozen    | block_3_project_BN\n",
      "038 | Frozen    | block_4_expand\n",
      "039 | Frozen    | block_4_expand_BN\n",
      "040 | Frozen    | block_4_expand_relu\n",
      "041 | Frozen    | temporal_shift_11\n",
      "042 | Frozen    | block_4_depthwise\n",
      "043 | Frozen    | block_4_depthwise_BN\n",
      "044 | Frozen    | block_4_depthwise_relu\n",
      "045 | Frozen    | block_4_project\n",
      "046 | Frozen    | block_4_project_BN\n",
      "047 | Frozen    | block_4_add\n",
      "048 | Frozen    | block_5_expand\n",
      "049 | Frozen    | block_5_expand_BN\n",
      "050 | Frozen    | block_5_expand_relu\n",
      "051 | Frozen    | temporal_shift_12\n",
      "052 | Frozen    | block_5_depthwise\n",
      "053 | Frozen    | block_5_depthwise_BN\n",
      "054 | Frozen    | block_5_depthwise_relu\n",
      "055 | Frozen    | block_5_project\n",
      "056 | Frozen    | block_5_project_BN\n",
      "057 | Frozen    | block_5_add\n",
      "058 | Frozen    | block_6_expand\n",
      "059 | Frozen    | block_6_expand_BN\n",
      "060 | Frozen    | block_6_expand_relu\n",
      "061 | Frozen    | block_6_pad\n",
      "062 | Frozen    | block_6_depthwise\n",
      "063 | Frozen    | block_6_depthwise_BN\n",
      "064 | Frozen    | block_6_depthwise_relu\n",
      "065 | Frozen    | block_6_project\n",
      "066 | Frozen    | block_6_project_BN\n",
      "067 | Frozen    | block_7_expand\n",
      "068 | Frozen    | block_7_expand_BN\n",
      "069 | Frozen    | block_7_expand_relu\n",
      "070 | Frozen    | temporal_shift_13\n",
      "071 | Frozen    | block_7_depthwise\n",
      "072 | Frozen    | block_7_depthwise_BN\n",
      "073 | Frozen    | block_7_depthwise_relu\n",
      "074 | Frozen    | block_7_project\n",
      "075 | Frozen    | block_7_project_BN\n",
      "076 | Frozen    | block_7_add\n",
      "077 | Frozen    | block_8_expand\n",
      "078 | Frozen    | block_8_expand_BN\n",
      "079 | Frozen    | block_8_expand_relu\n",
      "080 | Frozen    | temporal_shift_14\n",
      "081 | Frozen    | block_8_depthwise\n",
      "082 | Frozen    | block_8_depthwise_BN\n",
      "083 | Frozen    | block_8_depthwise_relu\n",
      "084 | Frozen    | block_8_project\n",
      "085 | Frozen    | block_8_project_BN\n",
      "086 | Frozen    | block_8_add\n",
      "087 | Frozen    | block_9_expand\n",
      "088 | Frozen    | block_9_expand_BN\n",
      "089 | Frozen    | block_9_expand_relu\n",
      "090 | Frozen    | temporal_shift_15\n",
      "091 | Frozen    | block_9_depthwise\n",
      "092 | Frozen    | block_9_depthwise_BN\n",
      "093 | Frozen    | block_9_depthwise_relu\n",
      "094 | Frozen    | block_9_project\n",
      "095 | Frozen    | block_9_project_BN\n",
      "096 | Frozen    | block_9_add\n",
      "097 | Frozen    | block_10_expand\n",
      "098 | Frozen    | block_10_expand_BN\n",
      "099 | Frozen    | block_10_expand_relu\n",
      "100 | Frozen    | block_10_depthwise\n",
      "101 | Frozen    | block_10_depthwise_BN\n",
      "102 | Frozen    | block_10_depthwise_relu\n",
      "103 | Frozen    | block_10_project\n",
      "104 | Frozen    | block_10_project_BN\n",
      "105 | Frozen    | block_11_expand\n",
      "106 | Frozen    | block_11_expand_BN\n",
      "107 | Frozen    | block_11_expand_relu\n",
      "108 | Frozen    | temporal_shift_16\n",
      "109 | Frozen    | block_11_depthwise\n",
      "110 | Frozen    | block_11_depthwise_BN\n",
      "111 | Frozen    | block_11_depthwise_relu\n",
      "112 | Frozen    | block_11_project\n",
      "113 | Frozen    | block_11_project_BN\n",
      "114 | Frozen    | block_11_add\n",
      "115 | Trainable | block_12_expand\n",
      "116 | Frozen    | block_12_expand_BN\n",
      "117 | Trainable | block_12_expand_relu\n",
      "118 | Trainable | temporal_shift_17\n",
      "119 | Trainable | block_12_depthwise\n",
      "120 | Frozen    | block_12_depthwise_BN\n",
      "121 | Trainable | block_12_depthwise_relu\n",
      "122 | Trainable | block_12_project\n",
      "123 | Frozen    | block_12_project_BN\n",
      "124 | Trainable | block_12_add\n",
      "125 | Trainable | block_13_expand\n",
      "126 | Frozen    | block_13_expand_BN\n",
      "127 | Trainable | block_13_expand_relu\n",
      "128 | Trainable | block_13_pad\n",
      "129 | Trainable | block_13_depthwise\n",
      "130 | Frozen    | block_13_depthwise_BN\n",
      "131 | Trainable | block_13_depthwise_relu\n",
      "132 | Trainable | block_13_project\n",
      "133 | Frozen    | block_13_project_BN\n",
      "134 | Trainable | block_14_expand\n",
      "135 | Frozen    | block_14_expand_BN\n",
      "136 | Trainable | block_14_expand_relu\n",
      "137 | Trainable | temporal_shift_18\n",
      "138 | Trainable | block_14_depthwise\n",
      "139 | Frozen    | block_14_depthwise_BN\n",
      "140 | Trainable | block_14_depthwise_relu\n",
      "141 | Trainable | block_14_project\n",
      "142 | Frozen    | block_14_project_BN\n",
      "143 | Trainable | block_14_add\n",
      "144 | Trainable | block_15_expand\n",
      "145 | Frozen    | block_15_expand_BN\n",
      "146 | Trainable | block_15_expand_relu\n",
      "147 | Trainable | temporal_shift_19\n",
      "148 | Trainable | block_15_depthwise\n",
      "149 | Frozen    | block_15_depthwise_BN\n",
      "150 | Trainable | block_15_depthwise_relu\n",
      "151 | Trainable | block_15_project\n",
      "152 | Frozen    | block_15_project_BN\n",
      "153 | Trainable | block_15_add\n",
      "154 | Trainable | block_16_expand\n",
      "155 | Frozen    | block_16_expand_BN\n",
      "156 | Trainable | block_16_expand_relu\n",
      "157 | Trainable | block_16_depthwise\n",
      "158 | Frozen    | block_16_depthwise_BN\n",
      "159 | Trainable | block_16_depthwise_relu\n",
      "160 | Trainable | block_16_project\n",
      "161 | Frozen    | block_16_project_BN\n",
      "162 | Trainable | Conv_1\n",
      "163 | Frozen    | Conv_1_bn\n",
      "164 | Trainable | out_relu\n",
      "165 | Trainable | global_average_pooling2d_1\n",
      "166 | Trainable | dropout_1\n",
      "167 | Trainable | flatten\n",
      "168 | Trainable | logits\n",
      "169 | Trainable | reshape_to_bt_c\n",
      "170 | Trainable | softmax_1\n",
      "171 | Trainable | segment_mean\n"
     ]
    }
   ],
   "source": [
    "for i, layer in enumerate(final_model.layers):\n",
    "    print(f\"{i:03d} | {'Trainable' if layer.trainable else 'Frozen':9} | {layer.name}\")"
   ]
  },
  {
   "cell_type": "code",
   "execution_count": 104,
   "id": "65c1e571-4e74-4e91-915f-4c49bc2f34e6",
   "metadata": {
    "execution": {
     "iopub.execute_input": "2025-05-30T13:23:04.228461Z",
     "iopub.status.busy": "2025-05-30T13:23:04.227838Z",
     "iopub.status.idle": "2025-05-30T13:23:04.255890Z",
     "shell.execute_reply": "2025-05-30T13:23:04.254938Z",
     "shell.execute_reply.started": "2025-05-30T13:23:04.228420Z"
    },
    "tags": []
   },
   "outputs": [],
   "source": [
    "early_stop = tf.keras.callbacks.EarlyStopping(\n",
    "    monitor='val_loss',\n",
    "    patience=20,\n",
    "    restore_best_weights=True,\n",
    "    min_delta=0.001,\n",
    "    verbose=1\n",
    ")\n",
    "\n",
    "checkpoint = tf.keras.callbacks.ModelCheckpoint(\n",
    "    \"best_mobilenet2.h5\", \n",
    "    monitor='val_loss',\n",
    "    save_freq='epoch', \n",
    "    mode='min',\n",
    "    save_best_only=True\n",
    ")\n",
    "\n",
    "reduce_lr = tf.keras.callbacks.ReduceLROnPlateau(\n",
    "    monitor='val_loss',\n",
    "    factor=0.5,\n",
    "    patience=2,\n",
    "    verbose=1,\n",
    "    min_lr=0.0,\n",
    ")\n",
    "\n",
    "\n",
    "tfboard = tf.keras.callbacks.TensorBoard(log_dir=\"./logs2\", update_freq=20)\n",
    "\n",
    "callbacks = [tfboard, checkpoint, early_stop]"
   ]
  },
  {
   "cell_type": "code",
   "execution_count": 105,
   "id": "5e20d7fd-8861-4c5e-807b-c8fc26cf19ac",
   "metadata": {
    "execution": {
     "iopub.execute_input": "2025-05-30T13:23:04.258102Z",
     "iopub.status.busy": "2025-05-30T13:23:04.257093Z",
     "iopub.status.idle": "2025-05-30T13:53:58.345405Z",
     "shell.execute_reply": "2025-05-30T13:53:58.339697Z",
     "shell.execute_reply.started": "2025-05-30T13:23:04.258072Z"
    },
    "tags": []
   },
   "outputs": [
    {
     "name": "stdout",
     "output_type": "stream",
     "text": [
      "Epoch 1/100\n"
     ]
    },
    {
     "name": "stderr",
     "output_type": "stream",
     "text": [
      "2025-05-30 13:23:20.073934: I tensorflow/core/kernels/data/shuffle_dataset_op.cc:392] Filling up shuffle buffer (this may take a while): 556 of 3182\n",
      "2025-05-30 13:23:30.083520: I tensorflow/core/kernels/data/shuffle_dataset_op.cc:392] Filling up shuffle buffer (this may take a while): 1115 of 3182\n",
      "2025-05-30 13:23:40.082988: I tensorflow/core/kernels/data/shuffle_dataset_op.cc:392] Filling up shuffle buffer (this may take a while): 1672 of 3182\n",
      "2025-05-30 13:23:50.084567: I tensorflow/core/kernels/data/shuffle_dataset_op.cc:392] Filling up shuffle buffer (this may take a while): 2241 of 3182\n",
      "2025-05-30 13:24:00.081541: I tensorflow/core/kernels/data/shuffle_dataset_op.cc:392] Filling up shuffle buffer (this may take a while): 2805 of 3182\n",
      "2025-05-30 13:24:07.028115: I tensorflow/core/kernels/data/shuffle_dataset_op.cc:417] Shuffle buffer filled.\n"
     ]
    },
    {
     "name": "stdout",
     "output_type": "stream",
     "text": [
      "198/198 [==============================] - 383s 2s/step - loss: 3.5735 - categorical_accuracy: 0.0265 - top-3-accuracy: 0.0868 - val_loss: 3.5462 - val_categorical_accuracy: 0.0298 - val_top-3-accuracy: 0.0893\n",
      "Epoch 2/100\n",
      "198/198 [==============================] - 316s 2s/step - loss: 3.5481 - categorical_accuracy: 0.0303 - top-3-accuracy: 0.0900 - val_loss: 3.5600 - val_categorical_accuracy: 0.0298 - val_top-3-accuracy: 0.0863\n",
      "Epoch 3/100\n",
      "198/198 [==============================] - 317s 2s/step - loss: 3.5741 - categorical_accuracy: 0.0265 - top-3-accuracy: 0.0773 - val_loss: 3.5307 - val_categorical_accuracy: 0.0298 - val_top-3-accuracy: 0.0893\n",
      "Epoch 4/100\n",
      "198/198 [==============================] - 316s 2s/step - loss: 3.5407 - categorical_accuracy: 0.0325 - top-3-accuracy: 0.0966 - val_loss: 3.5282 - val_categorical_accuracy: 0.0298 - val_top-3-accuracy: 0.0893\n",
      "Epoch 5/100\n",
      "198/198 [==============================] - 316s 2s/step - loss: 3.5439 - categorical_accuracy: 0.0275 - top-3-accuracy: 0.0855 - val_loss: 3.5281 - val_categorical_accuracy: 0.0298 - val_top-3-accuracy: 0.0893\n",
      "Epoch 6/100\n",
      "147/198 [=====================>........] - ETA: 1:11 - loss: 3.5404 - categorical_accuracy: 0.0272 - top-3-accuracy: 0.0812"
     ]
    },
    {
     "ename": "KeyboardInterrupt",
     "evalue": "",
     "output_type": "error",
     "traceback": [
      "\u001b[0;31m---------------------------------------------------------------------------\u001b[0m",
      "\u001b[0;31mKeyboardInterrupt\u001b[0m                         Traceback (most recent call last)",
      "\u001b[0;32m/tmp/ipykernel_3551/4211336335.py\u001b[0m in \u001b[0;36m<cell line: 19>\u001b[0;34m()\u001b[0m\n\u001b[1;32m     17\u001b[0m )\n\u001b[1;32m     18\u001b[0m \u001b[0;34m\u001b[0m\u001b[0m\n\u001b[0;32m---> 19\u001b[0;31m history = final_model.fit(\n\u001b[0m\u001b[1;32m     20\u001b[0m     \u001b[0mtrain_ds\u001b[0m\u001b[0;34m,\u001b[0m\u001b[0;34m\u001b[0m\u001b[0;34m\u001b[0m\u001b[0m\n\u001b[1;32m     21\u001b[0m     \u001b[0mepochs\u001b[0m\u001b[0;34m=\u001b[0m\u001b[0mepochs\u001b[0m\u001b[0;34m,\u001b[0m\u001b[0;34m\u001b[0m\u001b[0;34m\u001b[0m\u001b[0m\n",
      "\u001b[0;32m/usr/local/lib/python3.10/dist-packages/keras/utils/traceback_utils.py\u001b[0m in \u001b[0;36merror_handler\u001b[0;34m(*args, **kwargs)\u001b[0m\n\u001b[1;32m     63\u001b[0m         \u001b[0mfiltered_tb\u001b[0m \u001b[0;34m=\u001b[0m \u001b[0;32mNone\u001b[0m\u001b[0;34m\u001b[0m\u001b[0;34m\u001b[0m\u001b[0m\n\u001b[1;32m     64\u001b[0m         \u001b[0;32mtry\u001b[0m\u001b[0;34m:\u001b[0m\u001b[0;34m\u001b[0m\u001b[0;34m\u001b[0m\u001b[0m\n\u001b[0;32m---> 65\u001b[0;31m             \u001b[0;32mreturn\u001b[0m \u001b[0mfn\u001b[0m\u001b[0;34m(\u001b[0m\u001b[0;34m*\u001b[0m\u001b[0margs\u001b[0m\u001b[0;34m,\u001b[0m \u001b[0;34m**\u001b[0m\u001b[0mkwargs\u001b[0m\u001b[0;34m)\u001b[0m\u001b[0;34m\u001b[0m\u001b[0;34m\u001b[0m\u001b[0m\n\u001b[0m\u001b[1;32m     66\u001b[0m         \u001b[0;32mexcept\u001b[0m \u001b[0mException\u001b[0m \u001b[0;32mas\u001b[0m \u001b[0me\u001b[0m\u001b[0;34m:\u001b[0m\u001b[0;34m\u001b[0m\u001b[0;34m\u001b[0m\u001b[0m\n\u001b[1;32m     67\u001b[0m             \u001b[0mfiltered_tb\u001b[0m \u001b[0;34m=\u001b[0m \u001b[0m_process_traceback_frames\u001b[0m\u001b[0;34m(\u001b[0m\u001b[0me\u001b[0m\u001b[0;34m.\u001b[0m\u001b[0m__traceback__\u001b[0m\u001b[0;34m)\u001b[0m\u001b[0;34m\u001b[0m\u001b[0;34m\u001b[0m\u001b[0m\n",
      "\u001b[0;32m/usr/local/lib/python3.10/dist-packages/keras/engine/training.py\u001b[0m in \u001b[0;36mfit\u001b[0;34m(self, x, y, batch_size, epochs, verbose, callbacks, validation_split, validation_data, shuffle, class_weight, sample_weight, initial_epoch, steps_per_epoch, validation_steps, validation_batch_size, validation_freq, max_queue_size, workers, use_multiprocessing)\u001b[0m\n\u001b[1;32m   1683\u001b[0m                         ):\n\u001b[1;32m   1684\u001b[0m                             \u001b[0mcallbacks\u001b[0m\u001b[0;34m.\u001b[0m\u001b[0mon_train_batch_begin\u001b[0m\u001b[0;34m(\u001b[0m\u001b[0mstep\u001b[0m\u001b[0;34m)\u001b[0m\u001b[0;34m\u001b[0m\u001b[0;34m\u001b[0m\u001b[0m\n\u001b[0;32m-> 1685\u001b[0;31m                             \u001b[0mtmp_logs\u001b[0m \u001b[0;34m=\u001b[0m \u001b[0mself\u001b[0m\u001b[0;34m.\u001b[0m\u001b[0mtrain_function\u001b[0m\u001b[0;34m(\u001b[0m\u001b[0miterator\u001b[0m\u001b[0;34m)\u001b[0m\u001b[0;34m\u001b[0m\u001b[0;34m\u001b[0m\u001b[0m\n\u001b[0m\u001b[1;32m   1686\u001b[0m                             \u001b[0;32mif\u001b[0m \u001b[0mdata_handler\u001b[0m\u001b[0;34m.\u001b[0m\u001b[0mshould_sync\u001b[0m\u001b[0;34m:\u001b[0m\u001b[0;34m\u001b[0m\u001b[0;34m\u001b[0m\u001b[0m\n\u001b[1;32m   1687\u001b[0m                                 \u001b[0mcontext\u001b[0m\u001b[0;34m.\u001b[0m\u001b[0masync_wait\u001b[0m\u001b[0;34m(\u001b[0m\u001b[0;34m)\u001b[0m\u001b[0;34m\u001b[0m\u001b[0;34m\u001b[0m\u001b[0m\n",
      "\u001b[0;32m/usr/local/lib/python3.10/dist-packages/tensorflow/python/util/traceback_utils.py\u001b[0m in \u001b[0;36merror_handler\u001b[0;34m(*args, **kwargs)\u001b[0m\n\u001b[1;32m    148\u001b[0m     \u001b[0mfiltered_tb\u001b[0m \u001b[0;34m=\u001b[0m \u001b[0;32mNone\u001b[0m\u001b[0;34m\u001b[0m\u001b[0;34m\u001b[0m\u001b[0m\n\u001b[1;32m    149\u001b[0m     \u001b[0;32mtry\u001b[0m\u001b[0;34m:\u001b[0m\u001b[0;34m\u001b[0m\u001b[0;34m\u001b[0m\u001b[0m\n\u001b[0;32m--> 150\u001b[0;31m       \u001b[0;32mreturn\u001b[0m \u001b[0mfn\u001b[0m\u001b[0;34m(\u001b[0m\u001b[0;34m*\u001b[0m\u001b[0margs\u001b[0m\u001b[0;34m,\u001b[0m \u001b[0;34m**\u001b[0m\u001b[0mkwargs\u001b[0m\u001b[0;34m)\u001b[0m\u001b[0;34m\u001b[0m\u001b[0;34m\u001b[0m\u001b[0m\n\u001b[0m\u001b[1;32m    151\u001b[0m     \u001b[0;32mexcept\u001b[0m \u001b[0mException\u001b[0m \u001b[0;32mas\u001b[0m \u001b[0me\u001b[0m\u001b[0;34m:\u001b[0m\u001b[0;34m\u001b[0m\u001b[0;34m\u001b[0m\u001b[0m\n\u001b[1;32m    152\u001b[0m       \u001b[0mfiltered_tb\u001b[0m \u001b[0;34m=\u001b[0m \u001b[0m_process_traceback_frames\u001b[0m\u001b[0;34m(\u001b[0m\u001b[0me\u001b[0m\u001b[0;34m.\u001b[0m\u001b[0m__traceback__\u001b[0m\u001b[0;34m)\u001b[0m\u001b[0;34m\u001b[0m\u001b[0;34m\u001b[0m\u001b[0m\n",
      "\u001b[0;32m/usr/local/lib/python3.10/dist-packages/tensorflow/python/eager/polymorphic_function/polymorphic_function.py\u001b[0m in \u001b[0;36m__call__\u001b[0;34m(self, *args, **kwds)\u001b[0m\n\u001b[1;32m    892\u001b[0m \u001b[0;34m\u001b[0m\u001b[0m\n\u001b[1;32m    893\u001b[0m       \u001b[0;32mwith\u001b[0m \u001b[0mOptionalXlaContext\u001b[0m\u001b[0;34m(\u001b[0m\u001b[0mself\u001b[0m\u001b[0;34m.\u001b[0m\u001b[0m_jit_compile\u001b[0m\u001b[0;34m)\u001b[0m\u001b[0;34m:\u001b[0m\u001b[0;34m\u001b[0m\u001b[0;34m\u001b[0m\u001b[0m\n\u001b[0;32m--> 894\u001b[0;31m         \u001b[0mresult\u001b[0m \u001b[0;34m=\u001b[0m \u001b[0mself\u001b[0m\u001b[0;34m.\u001b[0m\u001b[0m_call\u001b[0m\u001b[0;34m(\u001b[0m\u001b[0;34m*\u001b[0m\u001b[0margs\u001b[0m\u001b[0;34m,\u001b[0m \u001b[0;34m**\u001b[0m\u001b[0mkwds\u001b[0m\u001b[0;34m)\u001b[0m\u001b[0;34m\u001b[0m\u001b[0;34m\u001b[0m\u001b[0m\n\u001b[0m\u001b[1;32m    895\u001b[0m \u001b[0;34m\u001b[0m\u001b[0m\n\u001b[1;32m    896\u001b[0m       \u001b[0mnew_tracing_count\u001b[0m \u001b[0;34m=\u001b[0m \u001b[0mself\u001b[0m\u001b[0;34m.\u001b[0m\u001b[0mexperimental_get_tracing_count\u001b[0m\u001b[0;34m(\u001b[0m\u001b[0;34m)\u001b[0m\u001b[0;34m\u001b[0m\u001b[0;34m\u001b[0m\u001b[0m\n",
      "\u001b[0;32m/usr/local/lib/python3.10/dist-packages/tensorflow/python/eager/polymorphic_function/polymorphic_function.py\u001b[0m in \u001b[0;36m_call\u001b[0;34m(self, *args, **kwds)\u001b[0m\n\u001b[1;32m    924\u001b[0m       \u001b[0;31m# In this case we have created variables on the first call, so we run the\u001b[0m\u001b[0;34m\u001b[0m\u001b[0;34m\u001b[0m\u001b[0m\n\u001b[1;32m    925\u001b[0m       \u001b[0;31m# defunned version which is guaranteed to never create variables.\u001b[0m\u001b[0;34m\u001b[0m\u001b[0;34m\u001b[0m\u001b[0m\n\u001b[0;32m--> 926\u001b[0;31m       \u001b[0;32mreturn\u001b[0m \u001b[0mself\u001b[0m\u001b[0;34m.\u001b[0m\u001b[0m_no_variable_creation_fn\u001b[0m\u001b[0;34m(\u001b[0m\u001b[0;34m*\u001b[0m\u001b[0margs\u001b[0m\u001b[0;34m,\u001b[0m \u001b[0;34m**\u001b[0m\u001b[0mkwds\u001b[0m\u001b[0;34m)\u001b[0m  \u001b[0;31m# pylint: disable=not-callable\u001b[0m\u001b[0;34m\u001b[0m\u001b[0;34m\u001b[0m\u001b[0m\n\u001b[0m\u001b[1;32m    927\u001b[0m     \u001b[0;32melif\u001b[0m \u001b[0mself\u001b[0m\u001b[0;34m.\u001b[0m\u001b[0m_variable_creation_fn\u001b[0m \u001b[0;32mis\u001b[0m \u001b[0;32mnot\u001b[0m \u001b[0;32mNone\u001b[0m\u001b[0;34m:\u001b[0m\u001b[0;34m\u001b[0m\u001b[0;34m\u001b[0m\u001b[0m\n\u001b[1;32m    928\u001b[0m       \u001b[0;31m# Release the lock early so that multiple threads can perform the call\u001b[0m\u001b[0;34m\u001b[0m\u001b[0;34m\u001b[0m\u001b[0m\n",
      "\u001b[0;32m/usr/local/lib/python3.10/dist-packages/tensorflow/python/eager/polymorphic_function/tracing_compiler.py\u001b[0m in \u001b[0;36m__call__\u001b[0;34m(self, *args, **kwargs)\u001b[0m\n\u001b[1;32m    141\u001b[0m       (concrete_function,\n\u001b[1;32m    142\u001b[0m        filtered_flat_args) = self._maybe_define_function(args, kwargs)\n\u001b[0;32m--> 143\u001b[0;31m     return concrete_function._call_flat(\n\u001b[0m\u001b[1;32m    144\u001b[0m         filtered_flat_args, captured_inputs=concrete_function.captured_inputs)  # pylint: disable=protected-access\n\u001b[1;32m    145\u001b[0m \u001b[0;34m\u001b[0m\u001b[0m\n",
      "\u001b[0;32m/usr/local/lib/python3.10/dist-packages/tensorflow/python/eager/polymorphic_function/monomorphic_function.py\u001b[0m in \u001b[0;36m_call_flat\u001b[0;34m(self, args, captured_inputs, cancellation_manager)\u001b[0m\n\u001b[1;32m   1755\u001b[0m         and executing_eagerly):\n\u001b[1;32m   1756\u001b[0m       \u001b[0;31m# No tape is watching; skip to running the function.\u001b[0m\u001b[0;34m\u001b[0m\u001b[0;34m\u001b[0m\u001b[0m\n\u001b[0;32m-> 1757\u001b[0;31m       return self._build_call_outputs(self._inference_function.call(\n\u001b[0m\u001b[1;32m   1758\u001b[0m           ctx, args, cancellation_manager=cancellation_manager))\n\u001b[1;32m   1759\u001b[0m     forward_backward = self._select_forward_and_backward_functions(\n",
      "\u001b[0;32m/usr/local/lib/python3.10/dist-packages/tensorflow/python/eager/polymorphic_function/monomorphic_function.py\u001b[0m in \u001b[0;36mcall\u001b[0;34m(self, ctx, args, cancellation_manager)\u001b[0m\n\u001b[1;32m    379\u001b[0m       \u001b[0;32mwith\u001b[0m \u001b[0m_InterpolateFunctionError\u001b[0m\u001b[0;34m(\u001b[0m\u001b[0mself\u001b[0m\u001b[0;34m)\u001b[0m\u001b[0;34m:\u001b[0m\u001b[0;34m\u001b[0m\u001b[0;34m\u001b[0m\u001b[0m\n\u001b[1;32m    380\u001b[0m         \u001b[0;32mif\u001b[0m \u001b[0mcancellation_manager\u001b[0m \u001b[0;32mis\u001b[0m \u001b[0;32mNone\u001b[0m\u001b[0;34m:\u001b[0m\u001b[0;34m\u001b[0m\u001b[0;34m\u001b[0m\u001b[0m\n\u001b[0;32m--> 381\u001b[0;31m           outputs = execute.execute(\n\u001b[0m\u001b[1;32m    382\u001b[0m               \u001b[0mstr\u001b[0m\u001b[0;34m(\u001b[0m\u001b[0mself\u001b[0m\u001b[0;34m.\u001b[0m\u001b[0msignature\u001b[0m\u001b[0;34m.\u001b[0m\u001b[0mname\u001b[0m\u001b[0;34m)\u001b[0m\u001b[0;34m,\u001b[0m\u001b[0;34m\u001b[0m\u001b[0;34m\u001b[0m\u001b[0m\n\u001b[1;32m    383\u001b[0m               \u001b[0mnum_outputs\u001b[0m\u001b[0;34m=\u001b[0m\u001b[0mself\u001b[0m\u001b[0;34m.\u001b[0m\u001b[0m_num_outputs\u001b[0m\u001b[0;34m,\u001b[0m\u001b[0;34m\u001b[0m\u001b[0;34m\u001b[0m\u001b[0m\n",
      "\u001b[0;32m/usr/local/lib/python3.10/dist-packages/tensorflow/python/eager/execute.py\u001b[0m in \u001b[0;36mquick_execute\u001b[0;34m(op_name, num_outputs, inputs, attrs, ctx, name)\u001b[0m\n\u001b[1;32m     50\u001b[0m   \u001b[0;32mtry\u001b[0m\u001b[0;34m:\u001b[0m\u001b[0;34m\u001b[0m\u001b[0;34m\u001b[0m\u001b[0m\n\u001b[1;32m     51\u001b[0m     \u001b[0mctx\u001b[0m\u001b[0;34m.\u001b[0m\u001b[0mensure_initialized\u001b[0m\u001b[0;34m(\u001b[0m\u001b[0;34m)\u001b[0m\u001b[0;34m\u001b[0m\u001b[0;34m\u001b[0m\u001b[0m\n\u001b[0;32m---> 52\u001b[0;31m     tensors = pywrap_tfe.TFE_Py_Execute(ctx._handle, device_name, op_name,\n\u001b[0m\u001b[1;32m     53\u001b[0m                                         inputs, attrs, num_outputs)\n\u001b[1;32m     54\u001b[0m   \u001b[0;32mexcept\u001b[0m \u001b[0mcore\u001b[0m\u001b[0;34m.\u001b[0m\u001b[0m_NotOkStatusException\u001b[0m \u001b[0;32mas\u001b[0m \u001b[0me\u001b[0m\u001b[0;34m:\u001b[0m\u001b[0;34m\u001b[0m\u001b[0;34m\u001b[0m\u001b[0m\n",
      "\u001b[0;31mKeyboardInterrupt\u001b[0m: "
     ]
    }
   ],
   "source": [
    "epochs = 100\n",
    "\n",
    "lr_schedule = tf.keras.optimizers.schedules.CosineDecay(\n",
    "    initial_learning_rate=3e-4,\n",
    "    decay_steps = 30 * (len(train_df) // batch_size)\n",
    ")\n",
    "\n",
    "\n",
    "optimizer = AdamW(learning_rate=lr_schedule, weight_decay=3e-4)\n",
    "loss = CategoricalCrossentropy()\n",
    "metrics = [tf.keras.metrics.CategoricalAccuracy(), tf.keras.metrics.TopKCategoricalAccuracy(k=3, name='top-3-accuracy')]\n",
    "\n",
    "final_model.compile(\n",
    "    optimizer=optimizer,\n",
    "    loss=loss,\n",
    "    metrics=metrics\n",
    ")\n",
    "\n",
    "history = final_model.fit(\n",
    "    train_ds,\n",
    "    epochs=epochs,\n",
    "    steps_per_epoch = len(train_df) // batch_size,\n",
    "    validation_steps = len(test_df) //batch_size,\n",
    "    validation_data=test_ds,\n",
    "    callbacks=callbacks\n",
    ")\n"
   ]
  },
  {
   "cell_type": "code",
   "execution_count": null,
   "id": "462bcf2b-fdf5-4184-aea4-0c60a3f40e99",
   "metadata": {},
   "outputs": [],
   "source": []
  },
  {
   "cell_type": "markdown",
   "id": "4b480379",
   "metadata": {},
   "source": [
    "### Saving model"
   ]
  },
  {
   "cell_type": "code",
   "execution_count": null,
   "id": "cd91f3bb",
   "metadata": {
    "execution": {
     "iopub.status.busy": "2025-05-30T13:53:58.349722Z",
     "iopub.status.idle": "2025-05-30T13:53:58.350564Z",
     "shell.execute_reply": "2025-05-30T13:53:58.350274Z",
     "shell.execute_reply.started": "2025-05-30T13:53:58.350241Z"
    },
    "tags": []
   },
   "outputs": [],
   "source": [
    "final_model.save('mobile_tsm_bukva2')"
   ]
  }
 ],
 "metadata": {
  "kernelspec": {
   "display_name": "DataSphere Kernel",
   "language": "python",
   "name": "python3"
  },
  "language_info": {
   "codemirror_mode": {
    "name": "ipython",
    "version": 3
   },
   "file_extension": ".py",
   "mimetype": "text/x-python",
   "name": "python",
   "nbconvert_exporter": "python",
   "pygments_lexer": "ipython3",
   "version": "3.10.12"
  }
 },
 "nbformat": 4,
 "nbformat_minor": 5
}
